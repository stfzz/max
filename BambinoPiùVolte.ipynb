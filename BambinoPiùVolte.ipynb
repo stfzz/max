{
 "cells": [
  {
   "cell_type": "code",
   "execution_count": 95,
   "id": "dcc88334",
   "metadata": {},
   "outputs": [],
   "source": [
    "import pandas as pd\n",
    "import numpy as np\n",
    "import streamlit as st\n",
    "import datetime as dt\n",
    "from collections import Counter\n",
    "fn = './errorfiles/Fehler Gesamtsstundenzahl.xlsx'\n",
    "#fn = './errorfiles/Erklärung_Gemeinde_Aldein_2020.xlsx'"
   ]
  },
  {
   "cell_type": "code",
   "execution_count": 96,
   "id": "afbfb93b",
   "metadata": {},
   "outputs": [],
   "source": [
    "df = pd.read_excel(fn)"
   ]
  },
  {
   "cell_type": "code",
   "execution_count": 97,
   "id": "c74655a1",
   "metadata": {
    "scrolled": true
   },
   "outputs": [
    {
     "data": {
      "text/html": [
       "<div>\n",
       "<style scoped>\n",
       "    .dataframe tbody tr th:only-of-type {\n",
       "        vertical-align: middle;\n",
       "    }\n",
       "\n",
       "    .dataframe tbody tr th {\n",
       "        vertical-align: top;\n",
       "    }\n",
       "\n",
       "    .dataframe thead th {\n",
       "        text-align: right;\n",
       "    }\n",
       "</style>\n",
       "<table border=\"1\" class=\"dataframe\">\n",
       "  <thead>\n",
       "    <tr style=\"text-align: right;\">\n",
       "      <th></th>\n",
       "      <th>Rendiconto per il servizio di assistenza domiciliare all'infanzia - anno 2020</th>\n",
       "      <th>Unnamed: 1</th>\n",
       "      <th>Unnamed: 2</th>\n",
       "      <th>Unnamed: 3</th>\n",
       "      <th>Unnamed: 4</th>\n",
       "      <th>Unnamed: 5</th>\n",
       "      <th>Unnamed: 6</th>\n",
       "      <th>Unnamed: 7</th>\n",
       "      <th>Unnamed: 8</th>\n",
       "      <th>Unnamed: 9</th>\n",
       "      <th>Unnamed: 10</th>\n",
       "      <th>Unnamed: 11</th>\n",
       "      <th>Unnamed: 12</th>\n",
       "    </tr>\n",
       "  </thead>\n",
       "  <tbody>\n",
       "    <tr>\n",
       "      <th>0</th>\n",
       "      <td>NaN</td>\n",
       "      <td>NaN</td>\n",
       "      <td>NaN</td>\n",
       "      <td>NaN</td>\n",
       "      <td>NaN</td>\n",
       "      <td>NaN</td>\n",
       "      <td>NaN</td>\n",
       "      <td>NaN</td>\n",
       "      <td>NaN</td>\n",
       "      <td>NaN</td>\n",
       "      <td>NaN</td>\n",
       "      <td>NaN</td>\n",
       "      <td>NaN</td>\n",
       "    </tr>\n",
       "    <tr>\n",
       "      <th>1</th>\n",
       "      <td>NaN</td>\n",
       "      <td>NaN</td>\n",
       "      <td>NaN</td>\n",
       "      <td>NaN</td>\n",
       "      <td>NaN</td>\n",
       "      <td>NaN</td>\n",
       "      <td>NaN</td>\n",
       "      <td>NaN</td>\n",
       "      <td>NaN</td>\n",
       "      <td>NaN</td>\n",
       "      <td>NaN</td>\n",
       "      <td>NaN</td>\n",
       "      <td>NaN</td>\n",
       "    </tr>\n",
       "    <tr>\n",
       "      <th>2</th>\n",
       "      <td>Ente gestore:</td>\n",
       "      <td>NaN</td>\n",
       "      <td>NaN</td>\n",
       "      <td>Soc. Coop. Casa Bimbo Tagesmutter Onlus</td>\n",
       "      <td>NaN</td>\n",
       "      <td>NaN</td>\n",
       "      <td>NaN</td>\n",
       "      <td>NaN</td>\n",
       "      <td>NaN</td>\n",
       "      <td>NaN</td>\n",
       "      <td>NaN</td>\n",
       "      <td>NaN</td>\n",
       "      <td>NaN</td>\n",
       "    </tr>\n",
       "    <tr>\n",
       "      <th>3</th>\n",
       "      <td>Comune di residenza o di stabile dimora dei ba...</td>\n",
       "      <td>NaN</td>\n",
       "      <td>NaN</td>\n",
       "      <td>Bolzano</td>\n",
       "      <td>NaN</td>\n",
       "      <td>NaN</td>\n",
       "      <td>NaN</td>\n",
       "      <td>NaN</td>\n",
       "      <td>NaN</td>\n",
       "      <td>NaN</td>\n",
       "      <td>NaN</td>\n",
       "      <td>NaN</td>\n",
       "      <td>NaN</td>\n",
       "    </tr>\n",
       "    <tr>\n",
       "      <th>4</th>\n",
       "      <td>NaN</td>\n",
       "      <td>NaN</td>\n",
       "      <td>NaN</td>\n",
       "      <td>NaN</td>\n",
       "      <td>NaN</td>\n",
       "      <td>NaN</td>\n",
       "      <td>NaN</td>\n",
       "      <td>NaN</td>\n",
       "      <td>NaN</td>\n",
       "      <td>NaN</td>\n",
       "      <td>NaN</td>\n",
       "      <td>NaN</td>\n",
       "      <td>NaN</td>\n",
       "    </tr>\n",
       "    <tr>\n",
       "      <th>...</th>\n",
       "      <td>...</td>\n",
       "      <td>...</td>\n",
       "      <td>...</td>\n",
       "      <td>...</td>\n",
       "      <td>...</td>\n",
       "      <td>...</td>\n",
       "      <td>...</td>\n",
       "      <td>...</td>\n",
       "      <td>...</td>\n",
       "      <td>...</td>\n",
       "      <td>...</td>\n",
       "      <td>...</td>\n",
       "      <td>...</td>\n",
       "    </tr>\n",
       "    <tr>\n",
       "      <th>80</th>\n",
       "      <td>NaN</td>\n",
       "      <td>NaN</td>\n",
       "      <td>NaN</td>\n",
       "      <td>NaN</td>\n",
       "      <td>NaN</td>\n",
       "      <td>NaN</td>\n",
       "      <td>NaN</td>\n",
       "      <td>NaN</td>\n",
       "      <td>NaN</td>\n",
       "      <td>NaN</td>\n",
       "      <td>NaN</td>\n",
       "      <td>NaN</td>\n",
       "      <td>NaN</td>\n",
       "    </tr>\n",
       "    <tr>\n",
       "      <th>81</th>\n",
       "      <td>NaN</td>\n",
       "      <td>NaN</td>\n",
       "      <td>NaN</td>\n",
       "      <td>NaN</td>\n",
       "      <td>NaN</td>\n",
       "      <td>NaN</td>\n",
       "      <td>NaN</td>\n",
       "      <td>NaN</td>\n",
       "      <td>NaN</td>\n",
       "      <td>NaN</td>\n",
       "      <td>NaN</td>\n",
       "      <td>NaN</td>\n",
       "      <td>NaN</td>\n",
       "    </tr>\n",
       "    <tr>\n",
       "      <th>82</th>\n",
       "      <td>Il presente report annuale è conforme a quello...</td>\n",
       "      <td>NaN</td>\n",
       "      <td>NaN</td>\n",
       "      <td>NaN</td>\n",
       "      <td>NaN</td>\n",
       "      <td>NaN</td>\n",
       "      <td>NaN</td>\n",
       "      <td>NaN</td>\n",
       "      <td>NaN</td>\n",
       "      <td>NaN</td>\n",
       "      <td>NaN</td>\n",
       "      <td>NaN</td>\n",
       "      <td>NaN</td>\n",
       "    </tr>\n",
       "    <tr>\n",
       "      <th>83</th>\n",
       "      <td>NaN</td>\n",
       "      <td>NaN</td>\n",
       "      <td>NaN</td>\n",
       "      <td>NaN</td>\n",
       "      <td>NaN</td>\n",
       "      <td>NaN</td>\n",
       "      <td>NaN</td>\n",
       "      <td>NaN</td>\n",
       "      <td>NaN</td>\n",
       "      <td>NaN</td>\n",
       "      <td>NaN</td>\n",
       "      <td>NaN</td>\n",
       "      <td>NaN</td>\n",
       "    </tr>\n",
       "    <tr>\n",
       "      <th>84</th>\n",
       "      <td>Firma del/della legale rappresentante e timbro...</td>\n",
       "      <td>NaN</td>\n",
       "      <td>NaN</td>\n",
       "      <td>NaN</td>\n",
       "      <td>NaN</td>\n",
       "      <td>NaN</td>\n",
       "      <td>NaN</td>\n",
       "      <td>NaN</td>\n",
       "      <td>NaN</td>\n",
       "      <td>NaN</td>\n",
       "      <td>NaN</td>\n",
       "      <td>NaN</td>\n",
       "      <td>NaN</td>\n",
       "    </tr>\n",
       "  </tbody>\n",
       "</table>\n",
       "<p>85 rows × 13 columns</p>\n",
       "</div>"
      ],
      "text/plain": [
       "   Rendiconto per il servizio di assistenza domiciliare all'infanzia - anno 2020  \\\n",
       "0                                                 NaN                              \n",
       "1                                                 NaN                              \n",
       "2                                       Ente gestore:                              \n",
       "3   Comune di residenza o di stabile dimora dei ba...                              \n",
       "4                                                 NaN                              \n",
       "..                                                ...                              \n",
       "80                                                NaN                              \n",
       "81                                                NaN                              \n",
       "82  Il presente report annuale è conforme a quello...                              \n",
       "83                                                NaN                              \n",
       "84  Firma del/della legale rappresentante e timbro...                              \n",
       "\n",
       "   Unnamed: 1 Unnamed: 2                               Unnamed: 3 Unnamed: 4  \\\n",
       "0         NaN        NaN                                      NaN        NaN   \n",
       "1         NaN        NaN                                      NaN        NaN   \n",
       "2         NaN        NaN  Soc. Coop. Casa Bimbo Tagesmutter Onlus        NaN   \n",
       "3         NaN        NaN                                  Bolzano        NaN   \n",
       "4         NaN        NaN                                      NaN        NaN   \n",
       "..        ...        ...                                      ...        ...   \n",
       "80        NaN        NaN                                      NaN        NaN   \n",
       "81        NaN        NaN                                      NaN        NaN   \n",
       "82        NaN        NaN                                      NaN        NaN   \n",
       "83        NaN        NaN                                      NaN        NaN   \n",
       "84        NaN        NaN                                      NaN        NaN   \n",
       "\n",
       "   Unnamed: 5 Unnamed: 6 Unnamed: 7 Unnamed: 8 Unnamed: 9 Unnamed: 10  \\\n",
       "0         NaN        NaN        NaN        NaN        NaN         NaN   \n",
       "1         NaN        NaN        NaN        NaN        NaN         NaN   \n",
       "2         NaN        NaN        NaN        NaN        NaN         NaN   \n",
       "3         NaN        NaN        NaN        NaN        NaN         NaN   \n",
       "4         NaN        NaN        NaN        NaN        NaN         NaN   \n",
       "..        ...        ...        ...        ...        ...         ...   \n",
       "80        NaN        NaN        NaN        NaN        NaN         NaN   \n",
       "81        NaN        NaN        NaN        NaN        NaN         NaN   \n",
       "82        NaN        NaN        NaN        NaN        NaN         NaN   \n",
       "83        NaN        NaN        NaN        NaN        NaN         NaN   \n",
       "84        NaN        NaN        NaN        NaN        NaN         NaN   \n",
       "\n",
       "   Unnamed: 11 Unnamed: 12  \n",
       "0          NaN         NaN  \n",
       "1          NaN         NaN  \n",
       "2          NaN         NaN  \n",
       "3          NaN         NaN  \n",
       "4          NaN         NaN  \n",
       "..         ...         ...  \n",
       "80         NaN         NaN  \n",
       "81         NaN         NaN  \n",
       "82         NaN         NaN  \n",
       "83         NaN         NaN  \n",
       "84         NaN         NaN  \n",
       "\n",
       "[85 rows x 13 columns]"
      ]
     },
     "execution_count": 97,
     "metadata": {},
     "output_type": "execute_result"
    }
   ],
   "source": [
    "df"
   ]
  },
  {
   "cell_type": "code",
   "execution_count": 98,
   "id": "8fa5aeb6",
   "metadata": {},
   "outputs": [
    {
     "data": {
      "text/plain": [
       "Rendiconto per il servizio di assistenza domiciliare all'infanzia - anno 2020                              Ente gestore:\n",
       "Unnamed: 1                                                                                                           NaN\n",
       "Unnamed: 2                                                                                                           NaN\n",
       "Unnamed: 3                                                                       Soc. Coop. Casa Bimbo Tagesmutter Onlus\n",
       "Unnamed: 4                                                                                                           NaN\n",
       "Unnamed: 5                                                                                                           NaN\n",
       "Unnamed: 6                                                                                                           NaN\n",
       "Unnamed: 7                                                                                                           NaN\n",
       "Unnamed: 8                                                                                                           NaN\n",
       "Unnamed: 9                                                                                                           NaN\n",
       "Unnamed: 10                                                                                                          NaN\n",
       "Unnamed: 11                                                                                                          NaN\n",
       "Unnamed: 12                                                                                                          NaN\n",
       "Name: 2, dtype: object"
      ]
     },
     "execution_count": 98,
     "metadata": {},
     "output_type": "execute_result"
    }
   ],
   "source": [
    "traeger = df.iloc[2]\n",
    "traeger"
   ]
  },
  {
   "cell_type": "code",
   "execution_count": 99,
   "id": "175c2512",
   "metadata": {},
   "outputs": [],
   "source": [
    "if type(traeger[4]) == type('string'):\n",
    "    print(\"ok\")"
   ]
  },
  {
   "cell_type": "code",
   "execution_count": 101,
   "id": "ae3e6a9c",
   "metadata": {},
   "outputs": [
    {
     "data": {
      "text/plain": [
       "'Soc. Coop. Casa Bimbo Tagesmutter Onlus'"
      ]
     },
     "execution_count": 101,
     "metadata": {},
     "output_type": "execute_result"
    }
   ],
   "source": [
    "traeger = df.iloc[2]\n",
    "t = traeger[3].title()\n",
    "t"
   ]
  },
  {
   "cell_type": "code",
   "execution_count": 88,
   "id": "8b8e1be3",
   "metadata": {},
   "outputs": [
    {
     "data": {
      "text/plain": [
       "True"
      ]
     },
     "execution_count": 88,
     "metadata": {},
     "output_type": "execute_result"
    }
   ],
   "source": [
    "type(traeger[4]) == type('string')"
   ]
  },
  {
   "cell_type": "code",
   "execution_count": 103,
   "id": "84a3cd04",
   "metadata": {},
   "outputs": [
    {
     "data": {
      "text/plain": [
       "'Bolzano'"
      ]
     },
     "execution_count": 103,
     "metadata": {},
     "output_type": "execute_result"
    }
   ],
   "source": [
    "gemeinde=df.iloc[3]\n",
    "gemeinde[3]"
   ]
  },
  {
   "cell_type": "code",
   "execution_count": 62,
   "id": "d0de814a",
   "metadata": {},
   "outputs": [
    {
     "data": {
      "text/plain": [
       "'Soc. Coop. Casa Bimbo Tagesmutter Onlus'"
      ]
     },
     "execution_count": 62,
     "metadata": {},
     "output_type": "execute_result"
    }
   ],
   "source": [
    "t"
   ]
  },
  {
   "cell_type": "code",
   "execution_count": 63,
   "id": "5e748143",
   "metadata": {},
   "outputs": [],
   "source": [
    "    df.columns = [\n",
    "        \"Numero \\nprogressivo\",\n",
    "        \"Cognome e nome bambino\",\n",
    "        \"Data di nascita\",\n",
    "        \"Codice fiscale\",\n",
    "        \"Assistente domiciliare all'infanzia\",\n",
    "        \"Comune di residenza assistente domiciliare all'infanzia\",\n",
    "        \"Data inizio contratto (o data inizio assistenza se diversa)\",\n",
    "        \"Data fine contratto\\n(o data fine assistenza se diversa) *\",\n",
    "        \"Ore di assistenza \\n ai sensi della delibera\\nn. 666/2019\",\n",
    "        \"Ore contrattualizzate non erogate\\nai sensi della delibera\\nn. 543_1025/2020\",\n",
    "        \"Ore contrattualizzate non erogate\\nai sensi della delibera\\nn. 733/2020\",\n",
    "        \"Ore contrattualizzate non erogate\\nnella fase 2 (finanziamento compensativo)\",\n",
    "        \"Ore totali rendicontate per il 2020\",\n",
    "    ]"
   ]
  },
  {
   "cell_type": "code",
   "execution_count": 64,
   "id": "45eb114d",
   "metadata": {},
   "outputs": [
    {
     "data": {
      "text/plain": [
       "Index(['Numero \\nprogressivo', 'Cognome e nome bambino', 'Data di nascita',\n",
       "       'Codice fiscale', 'Assistente domiciliare all'infanzia',\n",
       "       'Comune di residenza assistente domiciliare all'infanzia',\n",
       "       'Data inizio contratto (o data inizio assistenza se diversa)',\n",
       "       'Data fine contratto\\n(o data fine assistenza se diversa) *',\n",
       "       'Ore di assistenza \\n ai sensi della delibera\\nn. 666/2019',\n",
       "       'Ore contrattualizzate non erogate\\nai sensi della delibera\\nn. 543_1025/2020',\n",
       "       'Ore contrattualizzate non erogate\\nai sensi della delibera\\nn. 733/2020',\n",
       "       'Ore contrattualizzate non erogate\\nnella fase 2 (finanziamento compensativo)',\n",
       "       'Ore totali rendicontate per il 2020'],\n",
       "      dtype='object')"
      ]
     },
     "execution_count": 64,
     "metadata": {},
     "output_type": "execute_result"
    }
   ],
   "source": [
    "df = df.drop(labels=range(0,8), axis=0)\n",
    "df[\"Numero \\nprogressivo\"] = pd.to_numeric(\n",
    "    df[\"Numero \\nprogressivo\"], errors=\"coerce\"\n",
    ")\n",
    "validi = df[\"Numero \\nprogressivo\"].notna()\n",
    "df = df[validi]\n",
    "df.columns"
   ]
  },
  {
   "cell_type": "code",
   "execution_count": 65,
   "id": "8c8b5a46",
   "metadata": {},
   "outputs": [],
   "source": [
    "c = df.groupby('Codice fiscale')['Codice fiscale'].transform('count') > 1"
   ]
  },
  {
   "cell_type": "code",
   "execution_count": 66,
   "id": "5ee368c2",
   "metadata": {},
   "outputs": [],
   "source": [
    "c2 = df.groupby('Codice fiscale')['Ore totali rendicontate per il 2020'].transform('sum') > 1920"
   ]
  },
  {
   "cell_type": "code",
   "execution_count": 67,
   "id": "eefd3928",
   "metadata": {},
   "outputs": [],
   "source": [
    "c3 = c & c2"
   ]
  },
  {
   "cell_type": "code",
   "execution_count": 68,
   "id": "f8f30c27",
   "metadata": {},
   "outputs": [],
   "source": [
    "c3 = df['Cognome e nome bambino'] == \"BILAL SHAMIR\""
   ]
  },
  {
   "cell_type": "code",
   "execution_count": 69,
   "id": "17e972cd",
   "metadata": {},
   "outputs": [],
   "source": [
    "c4 = c3 & c"
   ]
  },
  {
   "cell_type": "code",
   "execution_count": 70,
   "id": "b53c26c8",
   "metadata": {},
   "outputs": [
    {
     "data": {
      "text/html": [
       "<div>\n",
       "<style scoped>\n",
       "    .dataframe tbody tr th:only-of-type {\n",
       "        vertical-align: middle;\n",
       "    }\n",
       "\n",
       "    .dataframe tbody tr th {\n",
       "        vertical-align: top;\n",
       "    }\n",
       "\n",
       "    .dataframe thead th {\n",
       "        text-align: right;\n",
       "    }\n",
       "</style>\n",
       "<table border=\"1\" class=\"dataframe\">\n",
       "  <thead>\n",
       "    <tr style=\"text-align: right;\">\n",
       "      <th></th>\n",
       "      <th>Numero \\nprogressivo</th>\n",
       "      <th>Cognome e nome bambino</th>\n",
       "      <th>Data di nascita</th>\n",
       "      <th>Codice fiscale</th>\n",
       "      <th>Assistente domiciliare all'infanzia</th>\n",
       "      <th>Comune di residenza assistente domiciliare all'infanzia</th>\n",
       "      <th>Data inizio contratto (o data inizio assistenza se diversa)</th>\n",
       "      <th>Data fine contratto\\n(o data fine assistenza se diversa) *</th>\n",
       "      <th>Ore di assistenza \\n ai sensi della delibera\\nn. 666/2019</th>\n",
       "      <th>Ore contrattualizzate non erogate\\nai sensi della delibera\\nn. 543_1025/2020</th>\n",
       "      <th>Ore contrattualizzate non erogate\\nai sensi della delibera\\nn. 733/2020</th>\n",
       "      <th>Ore contrattualizzate non erogate\\nnella fase 2 (finanziamento compensativo)</th>\n",
       "      <th>Ore totali rendicontate per il 2020</th>\n",
       "    </tr>\n",
       "  </thead>\n",
       "  <tbody>\n",
       "    <tr>\n",
       "      <th>44</th>\n",
       "      <td>35.0</td>\n",
       "      <td>BILAL SHAMIR</td>\n",
       "      <td>2018-05-11 00:00:00</td>\n",
       "      <td>BLLSMR18E11A952N</td>\n",
       "      <td>MILITARU ROXANA</td>\n",
       "      <td>BOLZANO</td>\n",
       "      <td>2020-08-03 00:00:00</td>\n",
       "      <td>2020-09-02 00:00:00</td>\n",
       "      <td>64</td>\n",
       "      <td>0</td>\n",
       "      <td>NaN</td>\n",
       "      <td>NaN</td>\n",
       "      <td>64</td>\n",
       "    </tr>\n",
       "    <tr>\n",
       "      <th>45</th>\n",
       "      <td>35.0</td>\n",
       "      <td>BILAL SHAMIR</td>\n",
       "      <td>2018-05-11 00:00:00</td>\n",
       "      <td>BLLSMR18E11A952N</td>\n",
       "      <td>CARUSO MARIA</td>\n",
       "      <td>BOLZANO</td>\n",
       "      <td>2020-09-03 00:00:00</td>\n",
       "      <td>2021-08-27 00:00:00</td>\n",
       "      <td>213</td>\n",
       "      <td>16</td>\n",
       "      <td>16</td>\n",
       "      <td>NaN</td>\n",
       "      <td>245</td>\n",
       "    </tr>\n",
       "  </tbody>\n",
       "</table>\n",
       "</div>"
      ],
      "text/plain": [
       "    Numero \\nprogressivo Cognome e nome bambino      Data di nascita  \\\n",
       "44                  35.0           BILAL SHAMIR  2018-05-11 00:00:00   \n",
       "45                  35.0           BILAL SHAMIR  2018-05-11 00:00:00   \n",
       "\n",
       "      Codice fiscale Assistente domiciliare all'infanzia  \\\n",
       "44  BLLSMR18E11A952N                     MILITARU ROXANA   \n",
       "45  BLLSMR18E11A952N                        CARUSO MARIA   \n",
       "\n",
       "   Comune di residenza assistente domiciliare all'infanzia  \\\n",
       "44                                            BOLZANO        \n",
       "45                                            BOLZANO        \n",
       "\n",
       "   Data inizio contratto (o data inizio assistenza se diversa)  \\\n",
       "44                                2020-08-03 00:00:00            \n",
       "45                                2020-09-03 00:00:00            \n",
       "\n",
       "   Data fine contratto\\n(o data fine assistenza se diversa) *  \\\n",
       "44                                2020-09-02 00:00:00           \n",
       "45                                2021-08-27 00:00:00           \n",
       "\n",
       "   Ore di assistenza \\n ai sensi della delibera\\nn. 666/2019  \\\n",
       "44                                                 64          \n",
       "45                                                213          \n",
       "\n",
       "   Ore contrattualizzate non erogate\\nai sensi della delibera\\nn. 543_1025/2020  \\\n",
       "44                                                  0                             \n",
       "45                                                 16                             \n",
       "\n",
       "   Ore contrattualizzate non erogate\\nai sensi della delibera\\nn. 733/2020  \\\n",
       "44                                                NaN                        \n",
       "45                                                 16                        \n",
       "\n",
       "   Ore contrattualizzate non erogate\\nnella fase 2 (finanziamento compensativo)  \\\n",
       "44                                                NaN                             \n",
       "45                                                NaN                             \n",
       "\n",
       "   Ore totali rendicontate per il 2020  \n",
       "44                                  64  \n",
       "45                                 245  "
      ]
     },
     "execution_count": 70,
     "metadata": {},
     "output_type": "execute_result"
    }
   ],
   "source": [
    "df[c3]"
   ]
  },
  {
   "cell_type": "code",
   "execution_count": 71,
   "id": "0d61314f",
   "metadata": {},
   "outputs": [
    {
     "data": {
      "text/plain": [
       "\"['c' 't' 'm' 'c' 'c' 'e' 'm' 'd' 'h' 'r' 'b' 's' 'c' 'c' 's' 'd' 'm' 's'\\n 'e' 's' 'b' 't' 'r' 'm' 'e' 'e' 'e' 'm' 't' 'c' 'r' 'a' 'l' 's' 'm' 'r'\\n 'e' 'e' 'm' 't' 's' 'm' 'e' '2' 'm' 'h' 'l' 'd' 'a' 'r' 'b' 'e' 'c' 'l'\\n 'b' 'b' 'e' 'r' 'b' 'c' 'p' 't' 'p' 'l' 'e' 'r' 'h' 't' 'r']\""
      ]
     },
     "execution_count": 71,
     "metadata": {},
     "output_type": "execute_result"
    }
   ],
   "source": [
    "str(df['Codice fiscale'].str[8:9].values).lower()"
   ]
  },
  {
   "cell_type": "code",
   "execution_count": 72,
   "id": "7e11ef95",
   "metadata": {},
   "outputs": [],
   "source": [
    "    mesi = {'a':'01','b':'02','c':'03', 'd':'04', 'e':'05', 'h':'06','l':'07','m':'08','p':'09','r':'10','s':'11','t':'12'}\n"
   ]
  },
  {
   "cell_type": "code",
   "execution_count": 73,
   "id": "82c5dd43",
   "metadata": {},
   "outputs": [
    {
     "data": {
      "text/plain": [
       "{'a': '01',\n",
       " 'b': '02',\n",
       " 'c': '03',\n",
       " 'd': '04',\n",
       " 'e': '05',\n",
       " 'h': '06',\n",
       " 'l': '07',\n",
       " 'm': '08',\n",
       " 'p': '09',\n",
       " 'r': '10',\n",
       " 's': '11',\n",
       " 't': '12'}"
      ]
     },
     "execution_count": 73,
     "metadata": {},
     "output_type": "execute_result"
    }
   ],
   "source": [
    "mesi"
   ]
  },
  {
   "cell_type": "code",
   "execution_count": 74,
   "id": "98fe9449",
   "metadata": {},
   "outputs": [],
   "source": [
    "    codvalido = (\n",
    "        df[\"Codice fiscale\"].str.match(\n",
    "            \"[A-Z|a-z][A-Z|a-z][A-Z|a-z][A-Z|a-z][A-Z|a-z][A-Z|a-z]\\d\\d[A-Z|a-z]\\d\\d[A-Z|a-z]\\d\\d\\d[A-Z|a-z]\"\n",
    "        )\n",
    "        == True\n",
    "    )"
   ]
  },
  {
   "cell_type": "code",
   "execution_count": 75,
   "id": "33898517",
   "metadata": {},
   "outputs": [],
   "source": [
    "df['Data di nascita'] = df['Data di nascita'].astype(\"datetime64[ns]\")\n",
    "dfcod = df[codvalido]\n"
   ]
  },
  {
   "cell_type": "code",
   "execution_count": 76,
   "id": "e421d59e",
   "metadata": {},
   "outputs": [
    {
     "data": {
      "text/plain": [
       "8      3\n",
       "9     12\n",
       "10     8\n",
       "11     3\n",
       "12     3\n",
       "      ..\n",
       "72     5\n",
       "73    10\n",
       "74     6\n",
       "75    12\n",
       "76    10\n",
       "Name: Data di nascita, Length: 68, dtype: int64"
      ]
     },
     "execution_count": 76,
     "metadata": {},
     "output_type": "execute_result"
    }
   ],
   "source": [
    "dfcod[\"Data di nascita\"].dt.month"
   ]
  },
  {
   "cell_type": "code",
   "execution_count": 77,
   "id": "bbb14e0f",
   "metadata": {},
   "outputs": [],
   "source": [
    "    anno = dfcod[\"Data di nascita\"].dt.year == 2000 + dfcod[\"Codice fiscale\"].str[\n",
    "        6:8\n",
    "    ].astype(int)"
   ]
  },
  {
   "cell_type": "code",
   "execution_count": 78,
   "id": "85083e02",
   "metadata": {},
   "outputs": [],
   "source": [
    "mese = dfcod[\"Data di nascita\"].dt.month == dfcod[\"Codice fiscale\"].str[8:9].astype('str').replace({'A':'1','B':'2','C':'3','D':'4', 'E':'5', 'H':'6','L':'7','M':'8','P':'9','R':'10','S':'11','T':'12'}).astype(int)\n"
   ]
  },
  {
   "cell_type": "code",
   "execution_count": 79,
   "id": "eb95dde2",
   "metadata": {},
   "outputs": [
    {
     "data": {
      "text/html": [
       "<div>\n",
       "<style scoped>\n",
       "    .dataframe tbody tr th:only-of-type {\n",
       "        vertical-align: middle;\n",
       "    }\n",
       "\n",
       "    .dataframe tbody tr th {\n",
       "        vertical-align: top;\n",
       "    }\n",
       "\n",
       "    .dataframe thead th {\n",
       "        text-align: right;\n",
       "    }\n",
       "</style>\n",
       "<table border=\"1\" class=\"dataframe\">\n",
       "  <thead>\n",
       "    <tr style=\"text-align: right;\">\n",
       "      <th></th>\n",
       "      <th>Numero \\nprogressivo</th>\n",
       "      <th>Cognome e nome bambino</th>\n",
       "      <th>Data di nascita</th>\n",
       "      <th>Codice fiscale</th>\n",
       "      <th>Assistente domiciliare all'infanzia</th>\n",
       "      <th>Comune di residenza assistente domiciliare all'infanzia</th>\n",
       "      <th>Data inizio contratto (o data inizio assistenza se diversa)</th>\n",
       "      <th>Data fine contratto\\n(o data fine assistenza se diversa) *</th>\n",
       "      <th>Ore di assistenza \\n ai sensi della delibera\\nn. 666/2019</th>\n",
       "      <th>Ore contrattualizzate non erogate\\nai sensi della delibera\\nn. 543_1025/2020</th>\n",
       "      <th>Ore contrattualizzate non erogate\\nai sensi della delibera\\nn. 733/2020</th>\n",
       "      <th>Ore contrattualizzate non erogate\\nnella fase 2 (finanziamento compensativo)</th>\n",
       "      <th>Ore totali rendicontate per il 2020</th>\n",
       "    </tr>\n",
       "  </thead>\n",
       "  <tbody>\n",
       "    <tr>\n",
       "      <th>41</th>\n",
       "      <td>32.0</td>\n",
       "      <td>GABRIELLI MIA</td>\n",
       "      <td>2016-12-06</td>\n",
       "      <td>GBRMIA16S63A952N</td>\n",
       "      <td>MOSSA DANIELA</td>\n",
       "      <td>BOLZANO</td>\n",
       "      <td>2019-09-23 00:00:00</td>\n",
       "      <td>2020-06-26 00:00:00</td>\n",
       "      <td>148.5</td>\n",
       "      <td>168</td>\n",
       "      <td>NaN</td>\n",
       "      <td>54</td>\n",
       "      <td>370.5</td>\n",
       "    </tr>\n",
       "    <tr>\n",
       "      <th>71</th>\n",
       "      <td>61.0</td>\n",
       "      <td>SOTA PAOLA</td>\n",
       "      <td>2018-08-29</td>\n",
       "      <td>STOPLA18L69A952B</td>\n",
       "      <td>MARTINELLO SILVIA</td>\n",
       "      <td>BOLZANO</td>\n",
       "      <td>2019-09-23 00:00:00</td>\n",
       "      <td>2021-08-27 00:00:00</td>\n",
       "      <td>667.25</td>\n",
       "      <td>267.75</td>\n",
       "      <td>NaN</td>\n",
       "      <td>12.75</td>\n",
       "      <td>947.75</td>\n",
       "    </tr>\n",
       "  </tbody>\n",
       "</table>\n",
       "</div>"
      ],
      "text/plain": [
       "    Numero \\nprogressivo Cognome e nome bambino Data di nascita  \\\n",
       "41                  32.0          GABRIELLI MIA      2016-12-06   \n",
       "71                  61.0             SOTA PAOLA      2018-08-29   \n",
       "\n",
       "      Codice fiscale Assistente domiciliare all'infanzia  \\\n",
       "41  GBRMIA16S63A952N                       MOSSA DANIELA   \n",
       "71  STOPLA18L69A952B                   MARTINELLO SILVIA   \n",
       "\n",
       "   Comune di residenza assistente domiciliare all'infanzia  \\\n",
       "41                                            BOLZANO        \n",
       "71                                            BOLZANO        \n",
       "\n",
       "   Data inizio contratto (o data inizio assistenza se diversa)  \\\n",
       "41                                2019-09-23 00:00:00            \n",
       "71                                2019-09-23 00:00:00            \n",
       "\n",
       "   Data fine contratto\\n(o data fine assistenza se diversa) *  \\\n",
       "41                                2020-06-26 00:00:00           \n",
       "71                                2021-08-27 00:00:00           \n",
       "\n",
       "   Ore di assistenza \\n ai sensi della delibera\\nn. 666/2019  \\\n",
       "41                                              148.5          \n",
       "71                                             667.25          \n",
       "\n",
       "   Ore contrattualizzate non erogate\\nai sensi della delibera\\nn. 543_1025/2020  \\\n",
       "41                                                168                             \n",
       "71                                             267.75                             \n",
       "\n",
       "   Ore contrattualizzate non erogate\\nai sensi della delibera\\nn. 733/2020  \\\n",
       "41                                                NaN                        \n",
       "71                                                NaN                        \n",
       "\n",
       "   Ore contrattualizzate non erogate\\nnella fase 2 (finanziamento compensativo)  \\\n",
       "41                                                 54                             \n",
       "71                                              12.75                             \n",
       "\n",
       "   Ore totali rendicontate per il 2020  \n",
       "41                               370.5  \n",
       "71                              947.75  "
      ]
     },
     "execution_count": 79,
     "metadata": {},
     "output_type": "execute_result"
    }
   ],
   "source": [
    "dfcod[~mese]"
   ]
  },
  {
   "cell_type": "code",
   "execution_count": 53,
   "id": "929f5c8b",
   "metadata": {},
   "outputs": [
    {
     "data": {
      "text/plain": [
       "8      3\n",
       "9     12\n",
       "10     8\n",
       "11     3\n",
       "12     3\n",
       "      ..\n",
       "72     5\n",
       "73    10\n",
       "74     6\n",
       "75    12\n",
       "76    10\n",
       "Name: Data di nascita, Length: 68, dtype: int64"
      ]
     },
     "execution_count": 53,
     "metadata": {},
     "output_type": "execute_result"
    }
   ],
   "source": [
    "dfcod[\"Data di nascita\"].dt.month"
   ]
  },
  {
   "cell_type": "code",
   "execution_count": null,
   "id": "f56eb19d",
   "metadata": {},
   "outputs": [],
   "source": []
  }
 ],
 "metadata": {
  "kernelspec": {
   "display_name": "Python 3 (ipykernel)",
   "language": "python",
   "name": "python3"
  },
  "language_info": {
   "codemirror_mode": {
    "name": "ipython",
    "version": 3
   },
   "file_extension": ".py",
   "mimetype": "text/x-python",
   "name": "python",
   "nbconvert_exporter": "python",
   "pygments_lexer": "ipython3",
   "version": "3.8.10"
  }
 },
 "nbformat": 4,
 "nbformat_minor": 5
}
