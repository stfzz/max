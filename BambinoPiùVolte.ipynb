{
 "cells": [
  {
   "cell_type": "code",
   "execution_count": 157,
   "id": "e22dae59",
   "metadata": {},
   "outputs": [],
   "source": [
    "import pandas as pd\n",
    "import numpy as np\n",
    "import streamlit as st\n",
    "import datetime as dt\n",
    "from collections import Counter\n",
    "fn = './errorfiles/Fehler Gesamtsstundenzahl-Kind3x.xlsx'"
   ]
  },
  {
   "cell_type": "code",
   "execution_count": 158,
   "id": "5f41b381",
   "metadata": {},
   "outputs": [
    {
     "data": {
      "text/plain": [
       "'Bolzano'"
      ]
     },
     "execution_count": 158,
     "metadata": {},
     "output_type": "execute_result"
    }
   ],
   "source": [
    "df = pd.read_excel(fn)\n",
    "traeger = df.iloc[2]\n",
    "t = traeger[3].title()\n",
    "gemeinde=df.iloc[3]\n",
    "gemeinde[3]"
   ]
  },
  {
   "cell_type": "code",
   "execution_count": 159,
   "id": "c620bc1e",
   "metadata": {},
   "outputs": [
    {
     "data": {
      "text/plain": [
       "'Soc. Coop. Casa Bimbo Tagesmutter Onlus'"
      ]
     },
     "execution_count": 159,
     "metadata": {},
     "output_type": "execute_result"
    }
   ],
   "source": [
    "t"
   ]
  },
  {
   "cell_type": "code",
   "execution_count": 160,
   "id": "e8c3b39a",
   "metadata": {},
   "outputs": [],
   "source": [
    "    df.columns = [\n",
    "        \"Numero \\nprogressivo\",\n",
    "        \"Cognome e nome bambino\",\n",
    "        \"Data di nascita\",\n",
    "        \"Codice fiscale\",\n",
    "        \"Assistente domiciliare all'infanzia\",\n",
    "        \"Comune di residenza assistente domiciliare all'infanzia\",\n",
    "        \"Data inizio contratto (o data inizio assistenza se diversa)\",\n",
    "        \"Data fine contratto\\n(o data fine assistenza se diversa) *\",\n",
    "        \"Ore di assistenza \\n ai sensi della delibera\\nn. 666/2019\",\n",
    "        \"Ore contrattualizzate non erogate\\nai sensi della delibera\\nn. 543_1025/2020\",\n",
    "        \"Ore contrattualizzate non erogate\\nai sensi della delibera\\nn. 733/2020\",\n",
    "        \"Ore contrattualizzate non erogate\\nnella fase 2 (finanziamento compensativo)\",\n",
    "        \"Ore totali rendicontate per il 2020\",\n",
    "    ]"
   ]
  },
  {
   "cell_type": "code",
   "execution_count": 161,
   "id": "193eda2b",
   "metadata": {},
   "outputs": [
    {
     "data": {
      "text/plain": [
       "Index(['Numero \\nprogressivo', 'Cognome e nome bambino', 'Data di nascita',\n",
       "       'Codice fiscale', 'Assistente domiciliare all'infanzia',\n",
       "       'Comune di residenza assistente domiciliare all'infanzia',\n",
       "       'Data inizio contratto (o data inizio assistenza se diversa)',\n",
       "       'Data fine contratto\\n(o data fine assistenza se diversa) *',\n",
       "       'Ore di assistenza \\n ai sensi della delibera\\nn. 666/2019',\n",
       "       'Ore contrattualizzate non erogate\\nai sensi della delibera\\nn. 543_1025/2020',\n",
       "       'Ore contrattualizzate non erogate\\nai sensi della delibera\\nn. 733/2020',\n",
       "       'Ore contrattualizzate non erogate\\nnella fase 2 (finanziamento compensativo)',\n",
       "       'Ore totali rendicontate per il 2020'],\n",
       "      dtype='object')"
      ]
     },
     "execution_count": 161,
     "metadata": {},
     "output_type": "execute_result"
    }
   ],
   "source": [
    "df = df.drop(labels=range(0,8), axis=0)\n",
    "df[\"Numero \\nprogressivo\"] = pd.to_numeric(\n",
    "    df[\"Numero \\nprogressivo\"], errors=\"coerce\"\n",
    ")\n",
    "validi = df[\"Numero \\nprogressivo\"].notna()\n",
    "df = df[validi]\n",
    "df.columns"
   ]
  },
  {
   "cell_type": "code",
   "execution_count": 162,
   "id": "9f238545",
   "metadata": {},
   "outputs": [],
   "source": [
    "c = df.groupby('Codice fiscale')['Codice fiscale'].transform('count') > 1"
   ]
  },
  {
   "cell_type": "code",
   "execution_count": 163,
   "id": "bb29dda7",
   "metadata": {},
   "outputs": [],
   "source": [
    "c2 = df.groupby('Codice fiscale')['Ore totali rendicontate per il 2020'].transform('sum') > 1920"
   ]
  },
  {
   "cell_type": "code",
   "execution_count": 164,
   "id": "69ca49fb",
   "metadata": {},
   "outputs": [
    {
     "data": {
      "text/html": [
       "<div>\n",
       "<style scoped>\n",
       "    .dataframe tbody tr th:only-of-type {\n",
       "        vertical-align: middle;\n",
       "    }\n",
       "\n",
       "    .dataframe tbody tr th {\n",
       "        vertical-align: top;\n",
       "    }\n",
       "\n",
       "    .dataframe thead th {\n",
       "        text-align: right;\n",
       "    }\n",
       "</style>\n",
       "<table border=\"1\" class=\"dataframe\">\n",
       "  <thead>\n",
       "    <tr style=\"text-align: right;\">\n",
       "      <th></th>\n",
       "      <th>Numero \\nprogressivo</th>\n",
       "      <th>Cognome e nome bambino</th>\n",
       "      <th>Data di nascita</th>\n",
       "      <th>Codice fiscale</th>\n",
       "      <th>Assistente domiciliare all'infanzia</th>\n",
       "      <th>Comune di residenza assistente domiciliare all'infanzia</th>\n",
       "      <th>Data inizio contratto (o data inizio assistenza se diversa)</th>\n",
       "      <th>Data fine contratto\\n(o data fine assistenza se diversa) *</th>\n",
       "      <th>Ore di assistenza \\n ai sensi della delibera\\nn. 666/2019</th>\n",
       "      <th>Ore contrattualizzate non erogate\\nai sensi della delibera\\nn. 543_1025/2020</th>\n",
       "      <th>Ore contrattualizzate non erogate\\nai sensi della delibera\\nn. 733/2020</th>\n",
       "      <th>Ore contrattualizzate non erogate\\nnella fase 2 (finanziamento compensativo)</th>\n",
       "      <th>Ore totali rendicontate per il 2020</th>\n",
       "    </tr>\n",
       "  </thead>\n",
       "  <tbody>\n",
       "    <tr>\n",
       "      <th>32</th>\n",
       "      <td>25.0</td>\n",
       "      <td>GASHI AMRA</td>\n",
       "      <td>2018-05-04 00:00:00</td>\n",
       "      <td>GSHMRA18E44A952B</td>\n",
       "      <td>KOTI ALMA</td>\n",
       "      <td>BOLZANO</td>\n",
       "      <td>2019-09-02 00:00:00</td>\n",
       "      <td>2020-05-31 00:00:00</td>\n",
       "      <td>198</td>\n",
       "      <td>247.5</td>\n",
       "      <td>NaN</td>\n",
       "      <td>NaN</td>\n",
       "      <td>1000</td>\n",
       "    </tr>\n",
       "    <tr>\n",
       "      <th>33</th>\n",
       "      <td>25.0</td>\n",
       "      <td>GASHI AMRA</td>\n",
       "      <td>2018-05-04 00:00:00</td>\n",
       "      <td>GSHMRA18E44A952B</td>\n",
       "      <td>MOSSA DANIELA</td>\n",
       "      <td>BOLZANO</td>\n",
       "      <td>2020-06-03 00:00:00</td>\n",
       "      <td>2020-07-31 00:00:00</td>\n",
       "      <td>194</td>\n",
       "      <td>0</td>\n",
       "      <td>NaN</td>\n",
       "      <td>NaN</td>\n",
       "      <td>1000</td>\n",
       "    </tr>\n",
       "    <tr>\n",
       "      <th>34</th>\n",
       "      <td>25.0</td>\n",
       "      <td>GASHI AMRA</td>\n",
       "      <td>2018-05-04 00:00:00</td>\n",
       "      <td>GSHMRA18E44A952B</td>\n",
       "      <td>KOTI ALMA</td>\n",
       "      <td>BOLZANO</td>\n",
       "      <td>2020-09-07 00:00:00</td>\n",
       "      <td>2021-07-31 00:00:00</td>\n",
       "      <td>280.5</td>\n",
       "      <td>36</td>\n",
       "      <td>54</td>\n",
       "      <td>NaN</td>\n",
       "      <td>370.5</td>\n",
       "    </tr>\n",
       "  </tbody>\n",
       "</table>\n",
       "</div>"
      ],
      "text/plain": [
       "    Numero \\nprogressivo Cognome e nome bambino      Data di nascita  \\\n",
       "32                  25.0             GASHI AMRA  2018-05-04 00:00:00   \n",
       "33                  25.0             GASHI AMRA  2018-05-04 00:00:00   \n",
       "34                  25.0             GASHI AMRA  2018-05-04 00:00:00   \n",
       "\n",
       "      Codice fiscale Assistente domiciliare all'infanzia  \\\n",
       "32  GSHMRA18E44A952B                           KOTI ALMA   \n",
       "33  GSHMRA18E44A952B                       MOSSA DANIELA   \n",
       "34  GSHMRA18E44A952B                           KOTI ALMA   \n",
       "\n",
       "   Comune di residenza assistente domiciliare all'infanzia  \\\n",
       "32                                            BOLZANO        \n",
       "33                                            BOLZANO        \n",
       "34                                            BOLZANO        \n",
       "\n",
       "   Data inizio contratto (o data inizio assistenza se diversa)  \\\n",
       "32                                2019-09-02 00:00:00            \n",
       "33                                2020-06-03 00:00:00            \n",
       "34                                2020-09-07 00:00:00            \n",
       "\n",
       "   Data fine contratto\\n(o data fine assistenza se diversa) *  \\\n",
       "32                                2020-05-31 00:00:00           \n",
       "33                                2020-07-31 00:00:00           \n",
       "34                                2021-07-31 00:00:00           \n",
       "\n",
       "   Ore di assistenza \\n ai sensi della delibera\\nn. 666/2019  \\\n",
       "32                                                198          \n",
       "33                                                194          \n",
       "34                                              280.5          \n",
       "\n",
       "   Ore contrattualizzate non erogate\\nai sensi della delibera\\nn. 543_1025/2020  \\\n",
       "32                                              247.5                             \n",
       "33                                                  0                             \n",
       "34                                                 36                             \n",
       "\n",
       "   Ore contrattualizzate non erogate\\nai sensi della delibera\\nn. 733/2020  \\\n",
       "32                                                NaN                        \n",
       "33                                                NaN                        \n",
       "34                                                 54                        \n",
       "\n",
       "   Ore contrattualizzate non erogate\\nnella fase 2 (finanziamento compensativo)  \\\n",
       "32                                                NaN                             \n",
       "33                                                NaN                             \n",
       "34                                                NaN                             \n",
       "\n",
       "   Ore totali rendicontate per il 2020  \n",
       "32                                1000  \n",
       "33                                1000  \n",
       "34                               370.5  "
      ]
     },
     "execution_count": 164,
     "metadata": {},
     "output_type": "execute_result"
    }
   ],
   "source": [
    "df[c & c2]"
   ]
  },
  {
   "cell_type": "code",
   "execution_count": null,
   "id": "d8cc0f0e",
   "metadata": {},
   "outputs": [],
   "source": []
  }
 ],
 "metadata": {
  "kernelspec": {
   "display_name": "Python 3 (ipykernel)",
   "language": "python",
   "name": "python3"
  },
  "language_info": {
   "codemirror_mode": {
    "name": "ipython",
    "version": 3
   },
   "file_extension": ".py",
   "mimetype": "text/x-python",
   "name": "python",
   "nbconvert_exporter": "python",
   "pygments_lexer": "ipython3",
   "version": "3.8.10"
  }
 },
 "nbformat": 4,
 "nbformat_minor": 5
}
