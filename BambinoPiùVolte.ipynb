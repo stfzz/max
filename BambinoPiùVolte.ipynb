{
 "cells": [
  {
   "cell_type": "code",
   "execution_count": 1,
   "id": "dcc88334",
   "metadata": {},
   "outputs": [],
   "source": [
    "import pandas as pd\n",
    "import numpy as np\n",
    "import streamlit as st\n",
    "import datetime as dt\n",
    "from collections import Counter\n",
    "fn = './errorfiles/Fehler Gesamtsstundenzahl-Kind3x.xlsx'"
   ]
  },
  {
   "cell_type": "code",
   "execution_count": 2,
   "id": "84a3cd04",
   "metadata": {},
   "outputs": [
    {
     "data": {
      "text/plain": [
       "'Bolzano'"
      ]
     },
     "execution_count": 2,
     "metadata": {},
     "output_type": "execute_result"
    }
   ],
   "source": [
    "df = pd.read_excel(fn)\n",
    "traeger = df.iloc[2]\n",
    "t = traeger[3].title()\n",
    "gemeinde=df.iloc[3]\n",
    "gemeinde[3]"
   ]
  },
  {
   "cell_type": "code",
   "execution_count": 3,
   "id": "d0de814a",
   "metadata": {},
   "outputs": [
    {
     "data": {
      "text/plain": [
       "'Soc. Coop. Casa Bimbo Tagesmutter Onlus'"
      ]
     },
     "execution_count": 3,
     "metadata": {},
     "output_type": "execute_result"
    }
   ],
   "source": [
    "t"
   ]
  },
  {
   "cell_type": "code",
   "execution_count": 4,
   "id": "5e748143",
   "metadata": {},
   "outputs": [],
   "source": [
    "    df.columns = [\n",
    "        \"Numero \\nprogressivo\",\n",
    "        \"Cognome e nome bambino\",\n",
    "        \"Data di nascita\",\n",
    "        \"Codice fiscale\",\n",
    "        \"Assistente domiciliare all'infanzia\",\n",
    "        \"Comune di residenza assistente domiciliare all'infanzia\",\n",
    "        \"Data inizio contratto (o data inizio assistenza se diversa)\",\n",
    "        \"Data fine contratto\\n(o data fine assistenza se diversa) *\",\n",
    "        \"Ore di assistenza \\n ai sensi della delibera\\nn. 666/2019\",\n",
    "        \"Ore contrattualizzate non erogate\\nai sensi della delibera\\nn. 543_1025/2020\",\n",
    "        \"Ore contrattualizzate non erogate\\nai sensi della delibera\\nn. 733/2020\",\n",
    "        \"Ore contrattualizzate non erogate\\nnella fase 2 (finanziamento compensativo)\",\n",
    "        \"Ore totali rendicontate per il 2020\",\n",
    "    ]"
   ]
  },
  {
   "cell_type": "code",
   "execution_count": 5,
   "id": "45eb114d",
   "metadata": {},
   "outputs": [
    {
     "data": {
      "text/plain": [
       "Index(['Numero \\nprogressivo', 'Cognome e nome bambino', 'Data di nascita',\n",
       "       'Codice fiscale', 'Assistente domiciliare all'infanzia',\n",
       "       'Comune di residenza assistente domiciliare all'infanzia',\n",
       "       'Data inizio contratto (o data inizio assistenza se diversa)',\n",
       "       'Data fine contratto\\n(o data fine assistenza se diversa) *',\n",
       "       'Ore di assistenza \\n ai sensi della delibera\\nn. 666/2019',\n",
       "       'Ore contrattualizzate non erogate\\nai sensi della delibera\\nn. 543_1025/2020',\n",
       "       'Ore contrattualizzate non erogate\\nai sensi della delibera\\nn. 733/2020',\n",
       "       'Ore contrattualizzate non erogate\\nnella fase 2 (finanziamento compensativo)',\n",
       "       'Ore totali rendicontate per il 2020'],\n",
       "      dtype='object')"
      ]
     },
     "execution_count": 5,
     "metadata": {},
     "output_type": "execute_result"
    }
   ],
   "source": [
    "df = df.drop(labels=range(0,8), axis=0)\n",
    "df[\"Numero \\nprogressivo\"] = pd.to_numeric(\n",
    "    df[\"Numero \\nprogressivo\"], errors=\"coerce\"\n",
    ")\n",
    "validi = df[\"Numero \\nprogressivo\"].notna()\n",
    "df = df[validi]\n",
    "df.columns"
   ]
  },
  {
   "cell_type": "code",
   "execution_count": 6,
   "id": "8c8b5a46",
   "metadata": {},
   "outputs": [],
   "source": [
    "c = df.groupby('Codice fiscale')['Codice fiscale'].transform('count') > 1"
   ]
  },
  {
   "cell_type": "code",
   "execution_count": 7,
   "id": "5ee368c2",
   "metadata": {},
   "outputs": [],
   "source": [
    "c2 = df.groupby('Codice fiscale')['Ore totali rendicontate per il 2020'].transform('sum') > 1920"
   ]
  },
  {
   "cell_type": "code",
   "execution_count": 8,
   "id": "eefd3928",
   "metadata": {},
   "outputs": [],
   "source": [
    "c3 = c & c2"
   ]
  },
  {
   "cell_type": "code",
   "execution_count": 19,
   "id": "f8f30c27",
   "metadata": {},
   "outputs": [],
   "source": [
    "c3 = df['Cognome e nome bambino'] == \"BILAL SHAMIR\""
   ]
  },
  {
   "cell_type": "code",
   "execution_count": 25,
   "id": "17e972cd",
   "metadata": {},
   "outputs": [],
   "source": [
    "c4 = c3 & c"
   ]
  },
  {
   "cell_type": "code",
   "execution_count": 28,
   "id": "b53c26c8",
   "metadata": {},
   "outputs": [
    {
     "data": {
      "text/html": [
       "<div>\n",
       "<style scoped>\n",
       "    .dataframe tbody tr th:only-of-type {\n",
       "        vertical-align: middle;\n",
       "    }\n",
       "\n",
       "    .dataframe tbody tr th {\n",
       "        vertical-align: top;\n",
       "    }\n",
       "\n",
       "    .dataframe thead th {\n",
       "        text-align: right;\n",
       "    }\n",
       "</style>\n",
       "<table border=\"1\" class=\"dataframe\">\n",
       "  <thead>\n",
       "    <tr style=\"text-align: right;\">\n",
       "      <th></th>\n",
       "      <th>Numero \\nprogressivo</th>\n",
       "      <th>Cognome e nome bambino</th>\n",
       "      <th>Data di nascita</th>\n",
       "      <th>Codice fiscale</th>\n",
       "      <th>Assistente domiciliare all'infanzia</th>\n",
       "      <th>Comune di residenza assistente domiciliare all'infanzia</th>\n",
       "      <th>Data inizio contratto (o data inizio assistenza se diversa)</th>\n",
       "      <th>Data fine contratto\\n(o data fine assistenza se diversa) *</th>\n",
       "      <th>Ore di assistenza \\n ai sensi della delibera\\nn. 666/2019</th>\n",
       "      <th>Ore contrattualizzate non erogate\\nai sensi della delibera\\nn. 543_1025/2020</th>\n",
       "      <th>Ore contrattualizzate non erogate\\nai sensi della delibera\\nn. 733/2020</th>\n",
       "      <th>Ore contrattualizzate non erogate\\nnella fase 2 (finanziamento compensativo)</th>\n",
       "      <th>Ore totali rendicontate per il 2020</th>\n",
       "    </tr>\n",
       "  </thead>\n",
       "  <tbody>\n",
       "    <tr>\n",
       "      <th>44</th>\n",
       "      <td>35.0</td>\n",
       "      <td>BILAL SHAMIR</td>\n",
       "      <td>2018-05-11 00:00:00</td>\n",
       "      <td>BLLSMR18E11A952N</td>\n",
       "      <td>MILITARU ROXANA</td>\n",
       "      <td>BOLZANO</td>\n",
       "      <td>2020-08-03 00:00:00</td>\n",
       "      <td>2020-09-02 00:00:00</td>\n",
       "      <td>64</td>\n",
       "      <td>0</td>\n",
       "      <td>NaN</td>\n",
       "      <td>NaN</td>\n",
       "      <td>64</td>\n",
       "    </tr>\n",
       "    <tr>\n",
       "      <th>45</th>\n",
       "      <td>35.0</td>\n",
       "      <td>BILAL SHAMIR</td>\n",
       "      <td>2018-05-11 00:00:00</td>\n",
       "      <td>BLLSMR18E11A952N</td>\n",
       "      <td>CARUSO MARIA</td>\n",
       "      <td>BOLZANO</td>\n",
       "      <td>2020-09-03 00:00:00</td>\n",
       "      <td>2021-08-27 00:00:00</td>\n",
       "      <td>213</td>\n",
       "      <td>16</td>\n",
       "      <td>16</td>\n",
       "      <td>NaN</td>\n",
       "      <td>245</td>\n",
       "    </tr>\n",
       "  </tbody>\n",
       "</table>\n",
       "</div>"
      ],
      "text/plain": [
       "    Numero \\nprogressivo Cognome e nome bambino      Data di nascita  \\\n",
       "44                  35.0           BILAL SHAMIR  2018-05-11 00:00:00   \n",
       "45                  35.0           BILAL SHAMIR  2018-05-11 00:00:00   \n",
       "\n",
       "      Codice fiscale Assistente domiciliare all'infanzia  \\\n",
       "44  BLLSMR18E11A952N                     MILITARU ROXANA   \n",
       "45  BLLSMR18E11A952N                        CARUSO MARIA   \n",
       "\n",
       "   Comune di residenza assistente domiciliare all'infanzia  \\\n",
       "44                                            BOLZANO        \n",
       "45                                            BOLZANO        \n",
       "\n",
       "   Data inizio contratto (o data inizio assistenza se diversa)  \\\n",
       "44                                2020-08-03 00:00:00            \n",
       "45                                2020-09-03 00:00:00            \n",
       "\n",
       "   Data fine contratto\\n(o data fine assistenza se diversa) *  \\\n",
       "44                                2020-09-02 00:00:00           \n",
       "45                                2021-08-27 00:00:00           \n",
       "\n",
       "   Ore di assistenza \\n ai sensi della delibera\\nn. 666/2019  \\\n",
       "44                                                 64          \n",
       "45                                                213          \n",
       "\n",
       "   Ore contrattualizzate non erogate\\nai sensi della delibera\\nn. 543_1025/2020  \\\n",
       "44                                                  0                             \n",
       "45                                                 16                             \n",
       "\n",
       "   Ore contrattualizzate non erogate\\nai sensi della delibera\\nn. 733/2020  \\\n",
       "44                                                NaN                        \n",
       "45                                                 16                        \n",
       "\n",
       "   Ore contrattualizzate non erogate\\nnella fase 2 (finanziamento compensativo)  \\\n",
       "44                                                NaN                             \n",
       "45                                                NaN                             \n",
       "\n",
       "   Ore totali rendicontate per il 2020  \n",
       "44                                  64  \n",
       "45                                 245  "
      ]
     },
     "execution_count": 28,
     "metadata": {},
     "output_type": "execute_result"
    }
   ],
   "source": [
    "df[c3]"
   ]
  },
  {
   "cell_type": "code",
   "execution_count": 52,
   "id": "0d61314f",
   "metadata": {},
   "outputs": [
    {
     "data": {
      "text/plain": [
       "\"['c' 't' 'm' 'c' 'c' 'e' 'm' 'd' 'h' 'r' 'b' 's' 'c' 'c' 's' 'd' 'm' 's'\\n 'e' 's' 'b' 't' 'r' 'm' 'e' 'e' 'e' 'm' 't' 'c' 'r' 'a' 'l' 's' 'm' 'r'\\n 'e' 'e' 'm' 't' 's' 'm' 'e' '2' 'm' 'h' 'l' 'd' 'a' 'r' 'b' 'e' 'c' 'l'\\n 'b' 'b' 'e' 'r' 'b' 'c' 'p' 't' 'p' 'l' 'e' 'r' 'h' 't' 'r']\""
      ]
     },
     "execution_count": 52,
     "metadata": {},
     "output_type": "execute_result"
    }
   ],
   "source": [
    "str(df['Codice fiscale'].str[8:9].values).lower()"
   ]
  },
  {
   "cell_type": "code",
   "execution_count": 53,
   "id": "7e11ef95",
   "metadata": {},
   "outputs": [],
   "source": [
    "    mesi = {'a':'01','b':'02','c':'03', 'd':'04', 'e':'05', 'h':'06','l':'07','m':'08','p':'09','r':'10','s':'11','t':'12'}\n"
   ]
  },
  {
   "cell_type": "code",
   "execution_count": 54,
   "id": "82c5dd43",
   "metadata": {},
   "outputs": [
    {
     "data": {
      "text/plain": [
       "{'a': '01',\n",
       " 'b': '02',\n",
       " 'c': '03',\n",
       " 'd': '04',\n",
       " 'e': '05',\n",
       " 'h': '06',\n",
       " 'l': '07',\n",
       " 'm': '08',\n",
       " 'p': '09',\n",
       " 'r': '10',\n",
       " 's': '11',\n",
       " 't': '12'}"
      ]
     },
     "execution_count": 54,
     "metadata": {},
     "output_type": "execute_result"
    }
   ],
   "source": [
    "mesi"
   ]
  },
  {
   "cell_type": "code",
   "execution_count": 66,
   "id": "98fe9449",
   "metadata": {},
   "outputs": [],
   "source": [
    "    codvalido = (\n",
    "        df[\"Codice fiscale\"].str.match(\n",
    "            \"[A-Z|a-z][A-Z|a-z][A-Z|a-z][A-Z|a-z][A-Z|a-z][A-Z|a-z]\\d\\d[A-Z|a-z]\\d\\d[A-Z|a-z]\\d\\d\\d[A-Z|a-z]\"\n",
    "        )\n",
    "        == True\n",
    "    )"
   ]
  },
  {
   "cell_type": "code",
   "execution_count": 67,
   "id": "33898517",
   "metadata": {},
   "outputs": [],
   "source": [
    "dfcod = df[codvalido]"
   ]
  },
  {
   "cell_type": "code",
   "execution_count": 74,
   "id": "e421d59e",
   "metadata": {},
   "outputs": [
    {
     "ename": "TypeError",
     "evalue": "unhashable type: 'Series'",
     "output_type": "error",
     "traceback": [
      "\u001b[0;31m---------------------------------------------------------------------------\u001b[0m",
      "\u001b[0;31mTypeError\u001b[0m                                 Traceback (most recent call last)",
      "Input \u001b[0;32mIn [74]\u001b[0m, in \u001b[0;36m<cell line: 1>\u001b[0;34m()\u001b[0m\n\u001b[0;32m----> 1\u001b[0m mese \u001b[38;5;241m=\u001b[39m dfcod[\u001b[38;5;124m\"\u001b[39m\u001b[38;5;124mData di nascita\u001b[39m\u001b[38;5;124m\"\u001b[39m]\u001b[38;5;241m.\u001b[39mdt\u001b[38;5;241m.\u001b[39mmonth \u001b[38;5;241m==\u001b[39m \u001b[43mmesi\u001b[49m\u001b[43m[\u001b[49m\u001b[43mdfcod\u001b[49m\u001b[43m[\u001b[49m\u001b[38;5;124;43m\"\u001b[39;49m\u001b[38;5;124;43mCodice fiscale\u001b[39;49m\u001b[38;5;124;43m\"\u001b[39;49m\u001b[43m]\u001b[49m\u001b[38;5;241;43m.\u001b[39;49m\u001b[43mstr\u001b[49m\u001b[43m[\u001b[49m\u001b[38;5;241;43m8\u001b[39;49m\u001b[43m:\u001b[49m\u001b[38;5;241;43m9\u001b[39;49m\u001b[43m]\u001b[49m\u001b[43m]\u001b[49m\u001b[38;5;241m.\u001b[39mastype(\u001b[38;5;28mint\u001b[39m)\n",
      "\u001b[0;31mTypeError\u001b[0m: unhashable type: 'Series'"
     ]
    }
   ],
   "source": [
    "mese = dfcod[\"Data di nascita\"].dt.month == mesi[dfcod[\"Codice fiscale\"].str[8:9]].astype(int)"
   ]
  },
  {
   "cell_type": "code",
   "execution_count": 69,
   "id": "bbb14e0f",
   "metadata": {},
   "outputs": [],
   "source": [
    "    anno = dfcod[\"Data di nascita\"].dt.year == 2000 + dfcod[\"Codice fiscale\"].str[\n",
    "        6:8\n",
    "    ].astype(int)"
   ]
  },
  {
   "cell_type": "code",
   "execution_count": 60,
   "id": "85083e02",
   "metadata": {},
   "outputs": [],
   "source": [
    "df['Data di nascita'] = df['Data di nascita'].astype(\"datetime64[ns]\")"
   ]
  },
  {
   "cell_type": "code",
   "execution_count": null,
   "id": "eb95dde2",
   "metadata": {},
   "outputs": [],
   "source": []
  }
 ],
 "metadata": {
  "kernelspec": {
   "display_name": "Python 3 (ipykernel)",
   "language": "python",
   "name": "python3"
  },
  "language_info": {
   "codemirror_mode": {
    "name": "ipython",
    "version": 3
   },
   "file_extension": ".py",
   "mimetype": "text/x-python",
   "name": "python",
   "nbconvert_exporter": "python",
   "pygments_lexer": "ipython3",
   "version": "3.8.10"
  }
 },
 "nbformat": 4,
 "nbformat_minor": 5
}
