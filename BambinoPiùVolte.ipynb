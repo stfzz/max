{
 "cells": [
  {
   "cell_type": "code",
   "execution_count": 1,
   "id": "dcc88334",
   "metadata": {},
   "outputs": [],
   "source": [
    "import pandas as pd\n",
    "import numpy as np\n",
    "import streamlit as st\n",
    "import datetime as dt\n",
    "from collections import Counter\n",
    "fn = './errorfiles/Fehler Gesamtsstundenzahl-Kind3x.xlsx'"
   ]
  },
  {
   "cell_type": "code",
   "execution_count": 2,
   "id": "84a3cd04",
   "metadata": {},
   "outputs": [
    {
     "data": {
      "text/plain": [
       "'Bolzano'"
      ]
     },
     "execution_count": 2,
     "metadata": {},
     "output_type": "execute_result"
    }
   ],
   "source": [
    "df = pd.read_excel(fn)\n",
    "traeger = df.iloc[2]\n",
    "t = traeger[3].title()\n",
    "gemeinde=df.iloc[3]\n",
    "gemeinde[3]"
   ]
  },
  {
   "cell_type": "code",
   "execution_count": 3,
   "id": "d0de814a",
   "metadata": {},
   "outputs": [
    {
     "data": {
      "text/plain": [
       "'Soc. Coop. Casa Bimbo Tagesmutter Onlus'"
      ]
     },
     "execution_count": 3,
     "metadata": {},
     "output_type": "execute_result"
    }
   ],
   "source": [
    "t"
   ]
  },
  {
   "cell_type": "code",
   "execution_count": 4,
   "id": "5e748143",
   "metadata": {},
   "outputs": [],
   "source": [
    "    df.columns = [\n",
    "        \"Numero \\nprogressivo\",\n",
    "        \"Cognome e nome bambino\",\n",
    "        \"Data di nascita\",\n",
    "        \"Codice fiscale\",\n",
    "        \"Assistente domiciliare all'infanzia\",\n",
    "        \"Comune di residenza assistente domiciliare all'infanzia\",\n",
    "        \"Data inizio contratto (o data inizio assistenza se diversa)\",\n",
    "        \"Data fine contratto\\n(o data fine assistenza se diversa) *\",\n",
    "        \"Ore di assistenza \\n ai sensi della delibera\\nn. 666/2019\",\n",
    "        \"Ore contrattualizzate non erogate\\nai sensi della delibera\\nn. 543_1025/2020\",\n",
    "        \"Ore contrattualizzate non erogate\\nai sensi della delibera\\nn. 733/2020\",\n",
    "        \"Ore contrattualizzate non erogate\\nnella fase 2 (finanziamento compensativo)\",\n",
    "        \"Ore totali rendicontate per il 2020\",\n",
    "    ]"
   ]
  },
  {
   "cell_type": "code",
   "execution_count": 5,
   "id": "45eb114d",
   "metadata": {},
   "outputs": [
    {
     "data": {
      "text/plain": [
       "Index(['Numero \\nprogressivo', 'Cognome e nome bambino', 'Data di nascita',\n",
       "       'Codice fiscale', 'Assistente domiciliare all'infanzia',\n",
       "       'Comune di residenza assistente domiciliare all'infanzia',\n",
       "       'Data inizio contratto (o data inizio assistenza se diversa)',\n",
       "       'Data fine contratto\\n(o data fine assistenza se diversa) *',\n",
       "       'Ore di assistenza \\n ai sensi della delibera\\nn. 666/2019',\n",
       "       'Ore contrattualizzate non erogate\\nai sensi della delibera\\nn. 543_1025/2020',\n",
       "       'Ore contrattualizzate non erogate\\nai sensi della delibera\\nn. 733/2020',\n",
       "       'Ore contrattualizzate non erogate\\nnella fase 2 (finanziamento compensativo)',\n",
       "       'Ore totali rendicontate per il 2020'],\n",
       "      dtype='object')"
      ]
     },
     "execution_count": 5,
     "metadata": {},
     "output_type": "execute_result"
    }
   ],
   "source": [
    "df = df.drop(labels=range(0,8), axis=0)\n",
    "df[\"Numero \\nprogressivo\"] = pd.to_numeric(\n",
    "    df[\"Numero \\nprogressivo\"], errors=\"coerce\"\n",
    ")\n",
    "validi = df[\"Numero \\nprogressivo\"].notna()\n",
    "df = df[validi]\n",
    "df.columns"
   ]
  },
  {
   "cell_type": "code",
   "execution_count": 6,
   "id": "8c8b5a46",
   "metadata": {},
   "outputs": [],
   "source": [
    "c = df.groupby('Codice fiscale')['Codice fiscale'].transform('count') > 1"
   ]
  },
  {
   "cell_type": "code",
   "execution_count": 7,
   "id": "5ee368c2",
   "metadata": {},
   "outputs": [],
   "source": [
    "c2 = df.groupby('Codice fiscale')['Ore totali rendicontate per il 2020'].transform('sum') > 1920"
   ]
  },
  {
   "cell_type": "code",
   "execution_count": 8,
   "id": "38893918",
   "metadata": {},
   "outputs": [],
   "source": [
    "c3 = c & c2"
   ]
  },
  {
   "cell_type": "code",
   "execution_count": 19,
   "id": "de73c080",
   "metadata": {},
   "outputs": [],
   "source": [
    "c3 = df['Cognome e nome bambino'] == \"BILAL SHAMIR\""
   ]
  },
  {
   "cell_type": "code",
   "execution_count": 25,
   "id": "47a9d23a",
   "metadata": {},
   "outputs": [],
   "source": [
    "c4 = c3 & c"
   ]
  },
  {
   "cell_type": "code",
   "execution_count": 28,
   "id": "b53c26c8",
   "metadata": {},
   "outputs": [
    {
     "data": {
      "text/html": [
       "<div>\n",
       "<style scoped>\n",
       "    .dataframe tbody tr th:only-of-type {\n",
       "        vertical-align: middle;\n",
       "    }\n",
       "\n",
       "    .dataframe tbody tr th {\n",
       "        vertical-align: top;\n",
       "    }\n",
       "\n",
       "    .dataframe thead th {\n",
       "        text-align: right;\n",
       "    }\n",
       "</style>\n",
       "<table border=\"1\" class=\"dataframe\">\n",
       "  <thead>\n",
       "    <tr style=\"text-align: right;\">\n",
       "      <th></th>\n",
       "      <th>Numero \\nprogressivo</th>\n",
       "      <th>Cognome e nome bambino</th>\n",
       "      <th>Data di nascita</th>\n",
       "      <th>Codice fiscale</th>\n",
       "      <th>Assistente domiciliare all'infanzia</th>\n",
       "      <th>Comune di residenza assistente domiciliare all'infanzia</th>\n",
       "      <th>Data inizio contratto (o data inizio assistenza se diversa)</th>\n",
       "      <th>Data fine contratto\\n(o data fine assistenza se diversa) *</th>\n",
       "      <th>Ore di assistenza \\n ai sensi della delibera\\nn. 666/2019</th>\n",
       "      <th>Ore contrattualizzate non erogate\\nai sensi della delibera\\nn. 543_1025/2020</th>\n",
       "      <th>Ore contrattualizzate non erogate\\nai sensi della delibera\\nn. 733/2020</th>\n",
       "      <th>Ore contrattualizzate non erogate\\nnella fase 2 (finanziamento compensativo)</th>\n",
       "      <th>Ore totali rendicontate per il 2020</th>\n",
       "    </tr>\n",
       "  </thead>\n",
       "  <tbody>\n",
       "    <tr>\n",
       "      <th>44</th>\n",
       "      <td>35.0</td>\n",
       "      <td>BILAL SHAMIR</td>\n",
       "      <td>2018-05-11 00:00:00</td>\n",
       "      <td>BLLSMR18E11A952N</td>\n",
       "      <td>MILITARU ROXANA</td>\n",
       "      <td>BOLZANO</td>\n",
       "      <td>2020-08-03 00:00:00</td>\n",
       "      <td>2020-09-02 00:00:00</td>\n",
       "      <td>64</td>\n",
       "      <td>0</td>\n",
       "      <td>NaN</td>\n",
       "      <td>NaN</td>\n",
       "      <td>64</td>\n",
       "    </tr>\n",
       "    <tr>\n",
       "      <th>45</th>\n",
       "      <td>35.0</td>\n",
       "      <td>BILAL SHAMIR</td>\n",
       "      <td>2018-05-11 00:00:00</td>\n",
       "      <td>BLLSMR18E11A952N</td>\n",
       "      <td>CARUSO MARIA</td>\n",
       "      <td>BOLZANO</td>\n",
       "      <td>2020-09-03 00:00:00</td>\n",
       "      <td>2021-08-27 00:00:00</td>\n",
       "      <td>213</td>\n",
       "      <td>16</td>\n",
       "      <td>16</td>\n",
       "      <td>NaN</td>\n",
       "      <td>245</td>\n",
       "    </tr>\n",
       "  </tbody>\n",
       "</table>\n",
       "</div>"
      ],
      "text/plain": [
       "    Numero \\nprogressivo Cognome e nome bambino      Data di nascita  \\\n",
       "44                  35.0           BILAL SHAMIR  2018-05-11 00:00:00   \n",
       "45                  35.0           BILAL SHAMIR  2018-05-11 00:00:00   \n",
       "\n",
       "      Codice fiscale Assistente domiciliare all'infanzia  \\\n",
       "44  BLLSMR18E11A952N                     MILITARU ROXANA   \n",
       "45  BLLSMR18E11A952N                        CARUSO MARIA   \n",
       "\n",
       "   Comune di residenza assistente domiciliare all'infanzia  \\\n",
       "44                                            BOLZANO        \n",
       "45                                            BOLZANO        \n",
       "\n",
       "   Data inizio contratto (o data inizio assistenza se diversa)  \\\n",
       "44                                2020-08-03 00:00:00            \n",
       "45                                2020-09-03 00:00:00            \n",
       "\n",
       "   Data fine contratto\\n(o data fine assistenza se diversa) *  \\\n",
       "44                                2020-09-02 00:00:00           \n",
       "45                                2021-08-27 00:00:00           \n",
       "\n",
       "   Ore di assistenza \\n ai sensi della delibera\\nn. 666/2019  \\\n",
       "44                                                 64          \n",
       "45                                                213          \n",
       "\n",
       "   Ore contrattualizzate non erogate\\nai sensi della delibera\\nn. 543_1025/2020  \\\n",
       "44                                                  0                             \n",
       "45                                                 16                             \n",
       "\n",
       "   Ore contrattualizzate non erogate\\nai sensi della delibera\\nn. 733/2020  \\\n",
       "44                                                NaN                        \n",
       "45                                                 16                        \n",
       "\n",
       "   Ore contrattualizzate non erogate\\nnella fase 2 (finanziamento compensativo)  \\\n",
       "44                                                NaN                             \n",
       "45                                                NaN                             \n",
       "\n",
       "   Ore totali rendicontate per il 2020  \n",
       "44                                  64  \n",
       "45                                 245  "
      ]
     },
     "execution_count": 28,
     "metadata": {},
     "output_type": "execute_result"
    }
   ],
   "source": [
    "df[c3]"
   ]
  },
  {
   "cell_type": "code",
   "execution_count": null,
   "id": "0d61314f",
   "metadata": {},
   "outputs": [],
   "source": []
  }
 ],
 "metadata": {
  "kernelspec": {
   "display_name": "Python 3 (ipykernel)",
   "language": "python",
   "name": "python3"
  },
  "language_info": {
   "codemirror_mode": {
    "name": "ipython",
    "version": 3
   },
   "file_extension": ".py",
   "mimetype": "text/x-python",
   "name": "python",
   "nbconvert_exporter": "python",
   "pygments_lexer": "ipython3",
   "version": "3.8.10"
  }
 },
 "nbformat": 4,
 "nbformat_minor": 5
}
