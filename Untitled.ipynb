{
 "cells": [
  {
   "cell_type": "code",
   "execution_count": 110,
   "id": "b43a938a",
   "metadata": {},
   "outputs": [],
   "source": [
    "import pandas as pd\n",
    "import numpy\n",
    "import streamlit as st\n",
    "fn = './errorfiles/Fehler Anwesenheit.xlsx'"
   ]
  },
  {
   "cell_type": "code",
   "execution_count": 111,
   "id": "06cb6fc3",
   "metadata": {},
   "outputs": [],
   "source": [
    "df = pd.read_excel(fn)#header=[3,4,8])"
   ]
  },
  {
   "cell_type": "code",
   "execution_count": 112,
   "id": "79ce8c8c",
   "metadata": {},
   "outputs": [],
   "source": [
    "traeger = df.iloc[2]"
   ]
  },
  {
   "cell_type": "code",
   "execution_count": 113,
   "id": "a2a23785",
   "metadata": {},
   "outputs": [],
   "source": [
    "t = traeger[3].title()"
   ]
  },
  {
   "cell_type": "code",
   "execution_count": 114,
   "id": "7da435ad",
   "metadata": {},
   "outputs": [
    {
     "data": {
      "text/plain": [
       "'Soc. Coop. Casa Bimbo Tagesmutter Onlus'"
      ]
     },
     "execution_count": 114,
     "metadata": {},
     "output_type": "execute_result"
    }
   ],
   "source": [
    "t"
   ]
  },
  {
   "cell_type": "code",
   "execution_count": 115,
   "id": "cd385105",
   "metadata": {},
   "outputs": [],
   "source": [
    "gemeinde=df.iloc[3]"
   ]
  },
  {
   "cell_type": "code",
   "execution_count": 116,
   "id": "40a5527f",
   "metadata": {},
   "outputs": [
    {
     "data": {
      "text/plain": [
       "'Bolzano'"
      ]
     },
     "execution_count": 116,
     "metadata": {},
     "output_type": "execute_result"
    }
   ],
   "source": [
    "gemeinde[3]"
   ]
  },
  {
   "cell_type": "code",
   "execution_count": 117,
   "id": "25deb868",
   "metadata": {},
   "outputs": [],
   "source": [
    "df = pd.read_excel(fn,parse_dates = ['Data di nascita','Data fine contratto\\n(o data fine assistenza se diversa) *','Data inizio contratto (o data inizio assistenza se diversa)'], header=8)"
   ]
  },
  {
   "cell_type": "code",
   "execution_count": 118,
   "id": "04d0dd52",
   "metadata": {},
   "outputs": [],
   "source": [
    "df['Numero \\nprogressivo'] = pd.to_numeric(df['Numero \\nprogressivo'],errors='coerce')"
   ]
  },
  {
   "cell_type": "code",
   "execution_count": 119,
   "id": "535b67dd",
   "metadata": {},
   "outputs": [],
   "source": [
    "validi = df['Numero \\nprogressivo'].notna()"
   ]
  },
  {
   "cell_type": "code",
   "execution_count": 120,
   "id": "2ceb5385",
   "metadata": {},
   "outputs": [],
   "source": [
    "df = df[validi]"
   ]
  },
  {
   "cell_type": "code",
   "execution_count": 121,
   "id": "b4917c5c",
   "metadata": {},
   "outputs": [],
   "source": [
    "df.insert(1,'Comune',gemeinde[3])"
   ]
  },
  {
   "cell_type": "code",
   "execution_count": 122,
   "id": "3a56fe8f",
   "metadata": {},
   "outputs": [],
   "source": [
    "df.insert(1,'Ente',t)"
   ]
  },
  {
   "cell_type": "code",
   "execution_count": 123,
   "id": "b77a4d81",
   "metadata": {},
   "outputs": [],
   "source": [
    "c =df.columns"
   ]
  },
  {
   "cell_type": "code",
   "execution_count": 124,
   "id": "8f6a4e62",
   "metadata": {},
   "outputs": [
    {
     "data": {
      "text/plain": [
       "Index(['Numero \\nprogressivo', 'Ente', 'Comune', 'Cognome e nome bambino',\n",
       "       'Data di nascita', 'Codice fiscale',\n",
       "       'Assistente domiciliare all'infanzia',\n",
       "       'Comune di residenza assistente domiciliare all'infanzia',\n",
       "       'Data inizio contratto (o data inizio assistenza se diversa)',\n",
       "       'Data fine contratto\\n(o data fine assistenza se diversa) *',\n",
       "       'Ore di assistenza \\n ai sensi della delibera\\nn. 666/2019',\n",
       "       'Ore contrattualizzate non erogate\\nai sensi della delibera\\nn. 543_1025/2020',\n",
       "       'Ore contrattualizzate non erogate\\nai sensi della delibera\\nn. 733/2020',\n",
       "       'Ore contrattualizzate non erogate\\nnella fase 2 (finanziamento compensativo)',\n",
       "       'Ore totali rendicontate per il 2020'],\n",
       "      dtype='object')"
      ]
     },
     "execution_count": 124,
     "metadata": {},
     "output_type": "execute_result"
    }
   ],
   "source": [
    "c"
   ]
  },
  {
   "cell_type": "code",
   "execution_count": 125,
   "id": "d5947760",
   "metadata": {},
   "outputs": [],
   "source": [
    "df3 = pd.DataFrame(columns = c)"
   ]
  },
  {
   "cell_type": "code",
   "execution_count": 126,
   "id": "069ecb5f",
   "metadata": {
    "scrolled": true
   },
   "outputs": [
    {
     "data": {
      "text/plain": [
       "Index(['Numero \\nprogressivo', 'Ente', 'Comune', 'Cognome e nome bambino',\n",
       "       'Data di nascita', 'Codice fiscale',\n",
       "       'Assistente domiciliare all'infanzia',\n",
       "       'Comune di residenza assistente domiciliare all'infanzia',\n",
       "       'Data inizio contratto (o data inizio assistenza se diversa)',\n",
       "       'Data fine contratto\\n(o data fine assistenza se diversa) *',\n",
       "       'Ore di assistenza \\n ai sensi della delibera\\nn. 666/2019',\n",
       "       'Ore contrattualizzate non erogate\\nai sensi della delibera\\nn. 543_1025/2020',\n",
       "       'Ore contrattualizzate non erogate\\nai sensi della delibera\\nn. 733/2020',\n",
       "       'Ore contrattualizzate non erogate\\nnella fase 2 (finanziamento compensativo)',\n",
       "       'Ore totali rendicontate per il 2020'],\n",
       "      dtype='object')"
      ]
     },
     "execution_count": 126,
     "metadata": {},
     "output_type": "execute_result"
    }
   ],
   "source": [
    "df.columns"
   ]
  },
  {
   "cell_type": "code",
   "execution_count": 127,
   "id": "c4654d3b",
   "metadata": {},
   "outputs": [],
   "source": [
    "ore_rendicontate_uguale_zero = df['Ore totali rendicontate per il 2020'] == 0"
   ]
  },
  {
   "cell_type": "code",
   "execution_count": 128,
   "id": "06516502",
   "metadata": {},
   "outputs": [
    {
     "data": {
      "text/plain": [
       "0     False\n",
       "1     False\n",
       "2     False\n",
       "3     False\n",
       "4     False\n",
       "      ...  \n",
       "64    False\n",
       "65    False\n",
       "66    False\n",
       "67    False\n",
       "68    False\n",
       "Name: Ore totali rendicontate per il 2020, Length: 69, dtype: bool"
      ]
     },
     "execution_count": 128,
     "metadata": {},
     "output_type": "execute_result"
    }
   ],
   "source": [
    "ore_rendicontate_uguale_zero"
   ]
  },
  {
   "cell_type": "code",
   "execution_count": 129,
   "id": "6011a1f3",
   "metadata": {},
   "outputs": [
    {
     "data": {
      "text/html": [
       "<div>\n",
       "<style scoped>\n",
       "    .dataframe tbody tr th:only-of-type {\n",
       "        vertical-align: middle;\n",
       "    }\n",
       "\n",
       "    .dataframe tbody tr th {\n",
       "        vertical-align: top;\n",
       "    }\n",
       "\n",
       "    .dataframe thead th {\n",
       "        text-align: right;\n",
       "    }\n",
       "</style>\n",
       "<table border=\"1\" class=\"dataframe\">\n",
       "  <thead>\n",
       "    <tr style=\"text-align: right;\">\n",
       "      <th></th>\n",
       "      <th>Numero \\nprogressivo</th>\n",
       "      <th>Ente</th>\n",
       "      <th>Comune</th>\n",
       "      <th>Cognome e nome bambino</th>\n",
       "      <th>Data di nascita</th>\n",
       "      <th>Codice fiscale</th>\n",
       "      <th>Assistente domiciliare all'infanzia</th>\n",
       "      <th>Comune di residenza assistente domiciliare all'infanzia</th>\n",
       "      <th>Data inizio contratto (o data inizio assistenza se diversa)</th>\n",
       "      <th>Data fine contratto\\n(o data fine assistenza se diversa) *</th>\n",
       "      <th>Ore di assistenza \\n ai sensi della delibera\\nn. 666/2019</th>\n",
       "      <th>Ore contrattualizzate non erogate\\nai sensi della delibera\\nn. 543_1025/2020</th>\n",
       "      <th>Ore contrattualizzate non erogate\\nai sensi della delibera\\nn. 733/2020</th>\n",
       "      <th>Ore contrattualizzate non erogate\\nnella fase 2 (finanziamento compensativo)</th>\n",
       "      <th>Ore totali rendicontate per il 2020</th>\n",
       "    </tr>\n",
       "  </thead>\n",
       "  <tbody>\n",
       "    <tr>\n",
       "      <th>13</th>\n",
       "      <td>14.0</td>\n",
       "      <td>Soc. Coop. Casa Bimbo Tagesmutter Onlus</td>\n",
       "      <td>Bolzano</td>\n",
       "      <td>BOUHLAL ALAA</td>\n",
       "      <td>2017-03-28</td>\n",
       "      <td>BHLLAA17C68A048G</td>\n",
       "      <td>PRAZARU OLENA</td>\n",
       "      <td>BOLZANO</td>\n",
       "      <td>2019-11-01</td>\n",
       "      <td>2020-06-16</td>\n",
       "      <td>NaN</td>\n",
       "      <td>NaN</td>\n",
       "      <td>NaN</td>\n",
       "      <td>NaN</td>\n",
       "      <td>0.0</td>\n",
       "    </tr>\n",
       "  </tbody>\n",
       "</table>\n",
       "</div>"
      ],
      "text/plain": [
       "    Numero \\nprogressivo                                     Ente   Comune  \\\n",
       "13                  14.0  Soc. Coop. Casa Bimbo Tagesmutter Onlus  Bolzano   \n",
       "\n",
       "   Cognome e nome bambino Data di nascita    Codice fiscale  \\\n",
       "13           BOUHLAL ALAA      2017-03-28  BHLLAA17C68A048G   \n",
       "\n",
       "   Assistente domiciliare all'infanzia  \\\n",
       "13                       PRAZARU OLENA   \n",
       "\n",
       "   Comune di residenza assistente domiciliare all'infanzia  \\\n",
       "13                                            BOLZANO        \n",
       "\n",
       "   Data inizio contratto (o data inizio assistenza se diversa)  \\\n",
       "13                                         2019-11-01            \n",
       "\n",
       "   Data fine contratto\\n(o data fine assistenza se diversa) *  \\\n",
       "13                                         2020-06-16           \n",
       "\n",
       "    Ore di assistenza \\n ai sensi della delibera\\nn. 666/2019  \\\n",
       "13                                                NaN           \n",
       "\n",
       "    Ore contrattualizzate non erogate\\nai sensi della delibera\\nn. 543_1025/2020  \\\n",
       "13                                                NaN                              \n",
       "\n",
       "    Ore contrattualizzate non erogate\\nai sensi della delibera\\nn. 733/2020  \\\n",
       "13                                                NaN                         \n",
       "\n",
       "    Ore contrattualizzate non erogate\\nnella fase 2 (finanziamento compensativo)  \\\n",
       "13                                                NaN                              \n",
       "\n",
       "    Ore totali rendicontate per il 2020  \n",
       "13                                  0.0  "
      ]
     },
     "execution_count": 129,
     "metadata": {},
     "output_type": "execute_result"
    }
   ],
   "source": [
    "df[ore_rendicontate_uguale_zero]"
   ]
  },
  {
   "cell_type": "code",
   "execution_count": null,
   "id": "f0761c7c",
   "metadata": {},
   "outputs": [],
   "source": []
  },
  {
   "cell_type": "code",
   "execution_count": null,
   "id": "0b2fc06b",
   "metadata": {},
   "outputs": [],
   "source": []
  }
 ],
 "metadata": {
  "kernelspec": {
   "display_name": "Python 3 (ipykernel)",
   "language": "python",
   "name": "python3"
  },
  "language_info": {
   "codemirror_mode": {
    "name": "ipython",
    "version": 3
   },
   "file_extension": ".py",
   "mimetype": "text/x-python",
   "name": "python",
   "nbconvert_exporter": "python",
   "pygments_lexer": "ipython3",
   "version": "3.8.10"
  }
 },
 "nbformat": 4,
 "nbformat_minor": 5
}
