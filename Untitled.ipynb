{
 "cells": [
  {
   "cell_type": "code",
   "execution_count": 599,
   "id": "b43a938a",
   "metadata": {},
   "outputs": [],
   "source": [
    "import pandas as pd\n",
    "import numpy\n",
    "import streamlit as st\n",
    "import datetime as dt\n",
    "fn = './errorfiles/Fehler data nascita.xlsx'"
   ]
  },
  {
   "cell_type": "code",
   "execution_count": 600,
   "id": "06cb6fc3",
   "metadata": {},
   "outputs": [],
   "source": [
    "df = pd.read_excel(fn)#header=[3,4,8])"
   ]
  },
  {
   "cell_type": "code",
   "execution_count": 601,
   "id": "79ce8c8c",
   "metadata": {},
   "outputs": [],
   "source": [
    "traeger = df.iloc[2]"
   ]
  },
  {
   "cell_type": "code",
   "execution_count": 602,
   "id": "a2a23785",
   "metadata": {},
   "outputs": [],
   "source": [
    "t = traeger[3].title()"
   ]
  },
  {
   "cell_type": "code",
   "execution_count": 603,
   "id": "7da435ad",
   "metadata": {},
   "outputs": [
    {
     "data": {
      "text/plain": [
       "'Soc. Coop. Casa Bimbo Tagesmutter Onlus'"
      ]
     },
     "execution_count": 603,
     "metadata": {},
     "output_type": "execute_result"
    }
   ],
   "source": [
    "t"
   ]
  },
  {
   "cell_type": "code",
   "execution_count": 604,
   "id": "cd385105",
   "metadata": {},
   "outputs": [],
   "source": [
    "gemeinde=df.iloc[3]"
   ]
  },
  {
   "cell_type": "code",
   "execution_count": 605,
   "id": "40a5527f",
   "metadata": {},
   "outputs": [
    {
     "data": {
      "text/plain": [
       "'Bolzano'"
      ]
     },
     "execution_count": 605,
     "metadata": {},
     "output_type": "execute_result"
    }
   ],
   "source": [
    "gemeinde[3]"
   ]
  },
  {
   "cell_type": "code",
   "execution_count": 606,
   "id": "25deb868",
   "metadata": {},
   "outputs": [],
   "source": [
    "df = pd.read_excel(fn,parse_dates = ['Data di nascita','Data fine contratto\\n(o data fine assistenza se diversa) *','Data inizio contratto (o data inizio assistenza se diversa)'], header=8)"
   ]
  },
  {
   "cell_type": "code",
   "execution_count": 607,
   "id": "04d0dd52",
   "metadata": {},
   "outputs": [],
   "source": [
    "df['Numero \\nprogressivo'] = pd.to_numeric(df['Numero \\nprogressivo'],errors='coerce')"
   ]
  },
  {
   "cell_type": "code",
   "execution_count": 608,
   "id": "535b67dd",
   "metadata": {},
   "outputs": [],
   "source": [
    "validi = df['Numero \\nprogressivo'].notna()"
   ]
  },
  {
   "cell_type": "code",
   "execution_count": 609,
   "id": "2ceb5385",
   "metadata": {},
   "outputs": [],
   "source": [
    "df = df[validi]"
   ]
  },
  {
   "cell_type": "code",
   "execution_count": 610,
   "id": "b4917c5c",
   "metadata": {},
   "outputs": [],
   "source": [
    "df.insert(1,'Comune',gemeinde[3])"
   ]
  },
  {
   "cell_type": "code",
   "execution_count": 611,
   "id": "3a56fe8f",
   "metadata": {},
   "outputs": [],
   "source": [
    "df.insert(1,'Ente',t)"
   ]
  },
  {
   "cell_type": "code",
   "execution_count": 612,
   "id": "b77a4d81",
   "metadata": {},
   "outputs": [],
   "source": [
    "c =df.columns"
   ]
  },
  {
   "cell_type": "code",
   "execution_count": 613,
   "id": "069ecb5f",
   "metadata": {
    "scrolled": true
   },
   "outputs": [
    {
     "data": {
      "text/plain": [
       "Index(['Numero \\nprogressivo', 'Ente', 'Comune', 'Cognome e nome bambino',\n",
       "       'Data di nascita', 'Codice fiscale',\n",
       "       'Assistente domiciliare all'infanzia',\n",
       "       'Comune di residenza assistente domiciliare all'infanzia',\n",
       "       'Data inizio contratto (o data inizio assistenza se diversa)',\n",
       "       'Data fine contratto\\n(o data fine assistenza se diversa) *',\n",
       "       'Ore di assistenza \\n ai sensi della delibera\\nn. 666/2019',\n",
       "       'Ore contrattualizzate non erogate\\nai sensi della delibera\\nn. 543_1025/2020',\n",
       "       'Ore contrattualizzate non erogate\\nai sensi della delibera\\nn. 733/2020',\n",
       "       'Ore contrattualizzate non erogate\\nnella fase 2 (finanziamento compensativo)',\n",
       "       'Ore totali rendicontate per il 2020'],\n",
       "      dtype='object')"
      ]
     },
     "execution_count": 613,
     "metadata": {},
     "output_type": "execute_result"
    }
   ],
   "source": [
    "df.columns"
   ]
  },
  {
   "cell_type": "code",
   "execution_count": 614,
   "id": "8366ee2e",
   "metadata": {},
   "outputs": [],
   "source": [
    "KONTROLLEKINDERGARTEN_DATANASCITA_2 = '01.03.2017'"
   ]
  },
  {
   "cell_type": "code",
   "execution_count": 615,
   "id": "0a5117e7",
   "metadata": {},
   "outputs": [],
   "source": [
    "data_nascita = df['Data di nascita'] >= KONTROLLEKINDERGARTEN_DATANASCITA_2"
   ]
  },
  {
   "cell_type": "code",
   "execution_count": 616,
   "id": "f426c637",
   "metadata": {},
   "outputs": [],
   "source": [
    "data_fine_ass =  df['Data fine contratto\\n(o data fine assistenza se diversa) *'] > pd.to_datetime('15.09.' + (pd.to_datetime(df['Data di nascita']).dt.year + 3).astype('str'),infer_datetime_format=True)"
   ]
  },
  {
   "cell_type": "code",
   "execution_count": 617,
   "id": "c43548cf",
   "metadata": {},
   "outputs": [
    {
     "data": {
      "text/plain": [
       "0     False\n",
       "1     False\n",
       "2     False\n",
       "3     False\n",
       "4     False\n",
       "      ...  \n",
       "64    False\n",
       "65    False\n",
       "66    False\n",
       "67    False\n",
       "68    False\n",
       "Length: 69, dtype: bool"
      ]
     },
     "execution_count": 617,
     "metadata": {},
     "output_type": "execute_result"
    }
   ],
   "source": [
    "data_fine_ass"
   ]
  },
  {
   "cell_type": "code",
   "execution_count": 618,
   "id": "8e80801c",
   "metadata": {},
   "outputs": [],
   "source": [
    "codvalido = df['Codice fiscale'].str.match('[A-Z|a-z][A-Z|a-z][A-Z|a-z][A-Z|a-z][A-Z|a-z][A-Z|a-z]\\d\\d[A-Z|a-z]\\d\\d[A-Z|a-z]\\d\\d\\d[A-Z|a-z]') == True\n"
   ]
  },
  {
   "cell_type": "code",
   "execution_count": 619,
   "id": "2b329cfb",
   "metadata": {},
   "outputs": [],
   "source": [
    "dfcod = df[codvalido]"
   ]
  },
  {
   "cell_type": "code",
   "execution_count": 676,
   "id": "b335b857",
   "metadata": {},
   "outputs": [],
   "source": [
    "ggnot40 = dfcod['Codice fiscale'].str[9:11].astype(int) < 40"
   ]
  },
  {
   "cell_type": "code",
   "execution_count": 677,
   "id": "1ca0e9a9",
   "metadata": {},
   "outputs": [],
   "source": [
    "g40 = dfcod['Codice fiscale'].str[9:11].astype(int) > 40"
   ]
  },
  {
   "cell_type": "code",
   "execution_count": 710,
   "id": "8297314c",
   "metadata": {},
   "outputs": [],
   "source": [
    "df40 = dfcod[g40]\n",
    "dfnot40 = dfcod[ggnot40]"
   ]
  },
  {
   "cell_type": "code",
   "execution_count": 711,
   "id": "5527cc8b",
   "metadata": {},
   "outputs": [],
   "source": [
    "gg40 = pd.to_datetime(df40['Data di nascita']).dt.day == df40['Codice fiscale'].str[9:11].astype(int) - 40\n",
    "gg = pd.to_datetime(dfnot40['Data di nascita']).dt.day == dfnot40['Codice fiscale'].str[9:11].astype(int)"
   ]
  },
  {
   "cell_type": "code",
   "execution_count": 734,
   "id": "47c7510a",
   "metadata": {},
   "outputs": [
    {
     "data": {
      "text/html": [
       "<div>\n",
       "<style scoped>\n",
       "    .dataframe tbody tr th:only-of-type {\n",
       "        vertical-align: middle;\n",
       "    }\n",
       "\n",
       "    .dataframe tbody tr th {\n",
       "        vertical-align: top;\n",
       "    }\n",
       "\n",
       "    .dataframe thead th {\n",
       "        text-align: right;\n",
       "    }\n",
       "</style>\n",
       "<table border=\"1\" class=\"dataframe\">\n",
       "  <thead>\n",
       "    <tr style=\"text-align: right;\">\n",
       "      <th></th>\n",
       "      <th>Numero \\nprogressivo</th>\n",
       "      <th>Ente</th>\n",
       "      <th>Comune</th>\n",
       "      <th>Cognome e nome bambino</th>\n",
       "      <th>Data di nascita</th>\n",
       "      <th>Codice fiscale</th>\n",
       "      <th>Assistente domiciliare all'infanzia</th>\n",
       "      <th>Comune di residenza assistente domiciliare all'infanzia</th>\n",
       "      <th>Data inizio contratto (o data inizio assistenza se diversa)</th>\n",
       "      <th>Data fine contratto\\n(o data fine assistenza se diversa) *</th>\n",
       "      <th>...</th>\n",
       "      <th>64</th>\n",
       "      <th>44</th>\n",
       "      <th>6</th>\n",
       "      <th>51</th>\n",
       "      <th>2</th>\n",
       "      <th>71</th>\n",
       "      <th>63</th>\n",
       "      <th>24</th>\n",
       "      <th>11</th>\n",
       "      <th>58</th>\n",
       "    </tr>\n",
       "  </thead>\n",
       "  <tbody>\n",
       "    <tr>\n",
       "      <th>0</th>\n",
       "      <td>19.0</td>\n",
       "      <td>Soc. Coop. Casa Bimbo Tagesmutter Onlus</td>\n",
       "      <td>Bolzano</td>\n",
       "      <td>DALL'ARMELLINA PIETRO</td>\n",
       "      <td>2019-05-16</td>\n",
       "      <td>DLLPTR19E07A952E</td>\n",
       "      <td>MATTEOTTI GIACOMO</td>\n",
       "      <td>BOLZANO</td>\n",
       "      <td>2019-09-23</td>\n",
       "      <td>2022-09-02</td>\n",
       "      <td>...</td>\n",
       "      <td>64</td>\n",
       "      <td>44</td>\n",
       "      <td>6</td>\n",
       "      <td>51</td>\n",
       "      <td>2</td>\n",
       "      <td>71</td>\n",
       "      <td>63</td>\n",
       "      <td>24</td>\n",
       "      <td>11</td>\n",
       "      <td>58</td>\n",
       "    </tr>\n",
       "    <tr>\n",
       "      <th>33</th>\n",
       "      <td>32.0</td>\n",
       "      <td>Soc. Coop. Casa Bimbo Tagesmutter Onlus</td>\n",
       "      <td>Bolzano</td>\n",
       "      <td>GABRIELLI MIA</td>\n",
       "      <td>2016-12-06</td>\n",
       "      <td>GBRMIA16S63A952N</td>\n",
       "      <td>MOSSA DANIELA</td>\n",
       "      <td>BOLZANO</td>\n",
       "      <td>2019-09-23</td>\n",
       "      <td>2020-06-26</td>\n",
       "      <td>...</td>\n",
       "      <td>64</td>\n",
       "      <td>44</td>\n",
       "      <td>6</td>\n",
       "      <td>51</td>\n",
       "      <td>2</td>\n",
       "      <td>71</td>\n",
       "      <td>63</td>\n",
       "      <td>24</td>\n",
       "      <td>11</td>\n",
       "      <td>58</td>\n",
       "    </tr>\n",
       "  </tbody>\n",
       "</table>\n",
       "<p>2 rows × 44 columns</p>\n",
       "</div>"
      ],
      "text/plain": [
       "    Numero \\nprogressivo                                     Ente   Comune  \\\n",
       "0                   19.0  Soc. Coop. Casa Bimbo Tagesmutter Onlus  Bolzano   \n",
       "33                  32.0  Soc. Coop. Casa Bimbo Tagesmutter Onlus  Bolzano   \n",
       "\n",
       "   Cognome e nome bambino Data di nascita    Codice fiscale  \\\n",
       "0   DALL'ARMELLINA PIETRO      2019-05-16  DLLPTR19E07A952E   \n",
       "33          GABRIELLI MIA      2016-12-06  GBRMIA16S63A952N   \n",
       "\n",
       "   Assistente domiciliare all'infanzia  \\\n",
       "0                    MATTEOTTI GIACOMO   \n",
       "33                       MOSSA DANIELA   \n",
       "\n",
       "   Comune di residenza assistente domiciliare all'infanzia  \\\n",
       "0                                             BOLZANO        \n",
       "33                                            BOLZANO        \n",
       "\n",
       "   Data inizio contratto (o data inizio assistenza se diversa)  \\\n",
       "0                                          2019-09-23            \n",
       "33                                         2019-09-23            \n",
       "\n",
       "   Data fine contratto\\n(o data fine assistenza se diversa) *  ...  64  44  6  \\\n",
       "0                                          2022-09-02          ...  64  44  6   \n",
       "33                                         2020-06-26          ...  64  44  6   \n",
       "\n",
       "    51  2  71  63  24  11  58  \n",
       "0   51  2  71  63  24  11  58  \n",
       "33  51  2  71  63  24  11  58  \n",
       "\n",
       "[2 rows x 44 columns]"
      ]
     },
     "metadata": {},
     "output_type": "display_data"
    }
   ],
   "source": [
    "frames = [dfnot40[~gg], df40[~gg40]]\n",
    "  \n",
    "result = pd.concat(frames)\n",
    "display(result)\n"
   ]
  },
  {
   "cell_type": "code",
   "execution_count": 732,
   "id": "9205e968",
   "metadata": {},
   "outputs": [
    {
     "data": {
      "text/html": [
       "<div>\n",
       "<style scoped>\n",
       "    .dataframe tbody tr th:only-of-type {\n",
       "        vertical-align: middle;\n",
       "    }\n",
       "\n",
       "    .dataframe tbody tr th {\n",
       "        vertical-align: top;\n",
       "    }\n",
       "\n",
       "    .dataframe thead th {\n",
       "        text-align: right;\n",
       "    }\n",
       "</style>\n",
       "<table border=\"1\" class=\"dataframe\">\n",
       "  <thead>\n",
       "    <tr style=\"text-align: right;\">\n",
       "      <th></th>\n",
       "      <th>Numero \\nprogressivo</th>\n",
       "      <th>Ente</th>\n",
       "      <th>Comune</th>\n",
       "      <th>Cognome e nome bambino</th>\n",
       "      <th>Data di nascita</th>\n",
       "      <th>Codice fiscale</th>\n",
       "      <th>Assistente domiciliare all'infanzia</th>\n",
       "      <th>Comune di residenza assistente domiciliare all'infanzia</th>\n",
       "      <th>Data inizio contratto (o data inizio assistenza se diversa)</th>\n",
       "      <th>Data fine contratto\\n(o data fine assistenza se diversa) *</th>\n",
       "      <th>...</th>\n",
       "      <th>64</th>\n",
       "      <th>44</th>\n",
       "      <th>6</th>\n",
       "      <th>51</th>\n",
       "      <th>2</th>\n",
       "      <th>71</th>\n",
       "      <th>63</th>\n",
       "      <th>24</th>\n",
       "      <th>11</th>\n",
       "      <th>58</th>\n",
       "    </tr>\n",
       "  </thead>\n",
       "  <tbody>\n",
       "    <tr>\n",
       "      <th>0</th>\n",
       "      <td>19.0</td>\n",
       "      <td>Soc. Coop. Casa Bimbo Tagesmutter Onlus</td>\n",
       "      <td>Bolzano</td>\n",
       "      <td>DALL'ARMELLINA PIETRO</td>\n",
       "      <td>2019-05-16</td>\n",
       "      <td>DLLPTR19E07A952E</td>\n",
       "      <td>MATTEOTTI GIACOMO</td>\n",
       "      <td>BOLZANO</td>\n",
       "      <td>2019-09-23</td>\n",
       "      <td>2022-09-02</td>\n",
       "      <td>...</td>\n",
       "      <td>64</td>\n",
       "      <td>44</td>\n",
       "      <td>6</td>\n",
       "      <td>51</td>\n",
       "      <td>2</td>\n",
       "      <td>71</td>\n",
       "      <td>63</td>\n",
       "      <td>24</td>\n",
       "      <td>11</td>\n",
       "      <td>58</td>\n",
       "    </tr>\n",
       "  </tbody>\n",
       "</table>\n",
       "<p>1 rows × 44 columns</p>\n",
       "</div>"
      ],
      "text/plain": [
       "   Numero \\nprogressivo                                     Ente   Comune  \\\n",
       "0                  19.0  Soc. Coop. Casa Bimbo Tagesmutter Onlus  Bolzano   \n",
       "\n",
       "  Cognome e nome bambino Data di nascita    Codice fiscale  \\\n",
       "0  DALL'ARMELLINA PIETRO      2019-05-16  DLLPTR19E07A952E   \n",
       "\n",
       "  Assistente domiciliare all'infanzia  \\\n",
       "0                   MATTEOTTI GIACOMO   \n",
       "\n",
       "  Comune di residenza assistente domiciliare all'infanzia  \\\n",
       "0                                            BOLZANO        \n",
       "\n",
       "  Data inizio contratto (o data inizio assistenza se diversa)  \\\n",
       "0                                         2019-09-23            \n",
       "\n",
       "  Data fine contratto\\n(o data fine assistenza se diversa) *  ...  64  44  6  \\\n",
       "0                                         2022-09-02          ...  64  44  6   \n",
       "\n",
       "   51  2  71  63  24  11  58  \n",
       "0  51  2  71  63  24  11  58  \n",
       "\n",
       "[1 rows x 44 columns]"
      ]
     },
     "execution_count": 732,
     "metadata": {},
     "output_type": "execute_result"
    }
   ],
   "source": [
    "dfnot40[~gg]"
   ]
  },
  {
   "cell_type": "code",
   "execution_count": 686,
   "id": "f95a512a",
   "metadata": {},
   "outputs": [
    {
     "data": {
      "text/plain": [
       "4      True\n",
       "6      True\n",
       "9      True\n",
       "11     True\n",
       "12     True\n",
       "14     True\n",
       "16     True\n",
       "17     True\n",
       "20     True\n",
       "22     True\n",
       "23     True\n",
       "24     True\n",
       "25     True\n",
       "26     True\n",
       "29     True\n",
       "30     True\n",
       "32     True\n",
       "33    False\n",
       "38     True\n",
       "40     True\n",
       "41     True\n",
       "44     True\n",
       "45     True\n",
       "46     True\n",
       "48     True\n",
       "49     True\n",
       "50     True\n",
       "52     True\n",
       "54     True\n",
       "59     True\n",
       "60     True\n",
       "62     True\n",
       "63     True\n",
       "64     True\n",
       "dtype: bool"
      ]
     },
     "execution_count": 686,
     "metadata": {},
     "output_type": "execute_result"
    }
   ],
   "source": [
    "pd.to_datetime(dfcod[g40]['Data di nascita']).dt.day == dfcod[g40]['Codice fiscale'].str[9:11].astype(int) - 40"
   ]
  },
  {
   "cell_type": "code",
   "execution_count": 675,
   "id": "e851f894",
   "metadata": {},
   "outputs": [
    {
     "data": {
      "text/plain": [
       "0     False\n",
       "1      True\n",
       "2      True\n",
       "3      True\n",
       "5      True\n",
       "7      True\n",
       "8      True\n",
       "10     True\n",
       "13     True\n",
       "15     True\n",
       "18     True\n",
       "19     True\n",
       "21     True\n",
       "27     True\n",
       "28     True\n",
       "31     True\n",
       "34     True\n",
       "35     True\n",
       "36     True\n",
       "37     True\n",
       "39     True\n",
       "42     True\n",
       "47     True\n",
       "51     True\n",
       "53     True\n",
       "55     True\n",
       "56     True\n",
       "57     True\n",
       "58     True\n",
       "61     True\n",
       "65     True\n",
       "66     True\n",
       "67     True\n",
       "68     True\n",
       "dtype: bool"
      ]
     },
     "execution_count": 675,
     "metadata": {},
     "output_type": "execute_result"
    }
   ],
   "source": [
    "giornovalido"
   ]
  },
  {
   "cell_type": "code",
   "execution_count": 642,
   "id": "fd1640e9",
   "metadata": {},
   "outputs": [],
   "source": [
    "gg = dfcod['Codice fiscale'].str[9:11].astype(int)"
   ]
  },
  {
   "cell_type": "code",
   "execution_count": 645,
   "id": "7d463d98",
   "metadata": {},
   "outputs": [],
   "source": []
  },
  {
   "cell_type": "code",
   "execution_count": 660,
   "id": "b707b0f9",
   "metadata": {},
   "outputs": [
    {
     "data": {
      "text/plain": [
       "4     22\n",
       "6      5\n",
       "9      2\n",
       "11    20\n",
       "12    20\n",
       "14    28\n",
       "16    15\n",
       "17    10\n",
       "20    27\n",
       "22    24\n",
       "23    24\n",
       "24     4\n",
       "25     4\n",
       "26     4\n",
       "29    11\n",
       "30     5\n",
       "32    31\n",
       "33    23\n",
       "38    23\n",
       "40     5\n",
       "41    18\n",
       "44    27\n",
       "45     8\n",
       "46    19\n",
       "48    13\n",
       "49    28\n",
       "50    15\n",
       "52    26\n",
       "54    24\n",
       "59     3\n",
       "60    10\n",
       "62     7\n",
       "63    29\n",
       "64    30\n",
       "Name: Codice fiscale, dtype: int64"
      ]
     },
     "execution_count": 660,
     "metadata": {},
     "output_type": "execute_result"
    }
   ],
   "source": [
    "dfcod[g40]['Codice fiscale'].str[9:11].astype(int)-40"
   ]
  },
  {
   "cell_type": "code",
   "execution_count": 716,
   "id": "85eca44a",
   "metadata": {},
   "outputs": [
    {
     "data": {
      "text/plain": [
       "0     2019\n",
       "1     2018\n",
       "2     2018\n",
       "3     2017\n",
       "4     2019\n",
       "      ... \n",
       "64    2020\n",
       "65    2018\n",
       "66    2017\n",
       "67    2017\n",
       "68    2019\n",
       "Name: Codice fiscale, Length: 68, dtype: int64"
      ]
     },
     "execution_count": 716,
     "metadata": {},
     "output_type": "execute_result"
    }
   ],
   "source": [
    "2000 + dfcod['Codice fiscale'].str[6:8].astype(int)"
   ]
  },
  {
   "cell_type": "code",
   "execution_count": 719,
   "id": "d131d96a",
   "metadata": {},
   "outputs": [
    {
     "data": {
      "text/plain": [
       "0     2019\n",
       "1     2018\n",
       "2     2018\n",
       "3     2017\n",
       "4     2019\n",
       "      ... \n",
       "64    2020\n",
       "65    2018\n",
       "66    2017\n",
       "67    2017\n",
       "68    2019\n",
       "Name: Data di nascita, Length: 68, dtype: int64"
      ]
     },
     "execution_count": 719,
     "metadata": {},
     "output_type": "execute_result"
    }
   ],
   "source": [
    "dfcod['Data di nascita'].dt.year"
   ]
  },
  {
   "cell_type": "code",
   "execution_count": 721,
   "id": "02d0211f",
   "metadata": {},
   "outputs": [],
   "source": [
    "anno = dfcod['Data di nascita'].dt.year == 2000 + dfcod['Codice fiscale'].str[6:8].astype(int)"
   ]
  },
  {
   "cell_type": "code",
   "execution_count": 723,
   "id": "770c39f9",
   "metadata": {},
   "outputs": [
    {
     "data": {
      "text/html": [
       "<div>\n",
       "<style scoped>\n",
       "    .dataframe tbody tr th:only-of-type {\n",
       "        vertical-align: middle;\n",
       "    }\n",
       "\n",
       "    .dataframe tbody tr th {\n",
       "        vertical-align: top;\n",
       "    }\n",
       "\n",
       "    .dataframe thead th {\n",
       "        text-align: right;\n",
       "    }\n",
       "</style>\n",
       "<table border=\"1\" class=\"dataframe\">\n",
       "  <thead>\n",
       "    <tr style=\"text-align: right;\">\n",
       "      <th></th>\n",
       "      <th>Numero \\nprogressivo</th>\n",
       "      <th>Ente</th>\n",
       "      <th>Comune</th>\n",
       "      <th>Cognome e nome bambino</th>\n",
       "      <th>Data di nascita</th>\n",
       "      <th>Codice fiscale</th>\n",
       "      <th>Assistente domiciliare all'infanzia</th>\n",
       "      <th>Comune di residenza assistente domiciliare all'infanzia</th>\n",
       "      <th>Data inizio contratto (o data inizio assistenza se diversa)</th>\n",
       "      <th>Data fine contratto\\n(o data fine assistenza se diversa) *</th>\n",
       "      <th>...</th>\n",
       "      <th>64</th>\n",
       "      <th>44</th>\n",
       "      <th>6</th>\n",
       "      <th>51</th>\n",
       "      <th>2</th>\n",
       "      <th>71</th>\n",
       "      <th>63</th>\n",
       "      <th>24</th>\n",
       "      <th>11</th>\n",
       "      <th>58</th>\n",
       "    </tr>\n",
       "  </thead>\n",
       "  <tbody>\n",
       "  </tbody>\n",
       "</table>\n",
       "<p>0 rows × 44 columns</p>\n",
       "</div>"
      ],
      "text/plain": [
       "Empty DataFrame\n",
       "Columns: [Numero \n",
       "progressivo, Ente, Comune, Cognome e nome bambino, Data di nascita, Codice fiscale, Assistente domiciliare all'infanzia, Comune di residenza assistente domiciliare all'infanzia, Data inizio contratto (o data inizio assistenza se diversa), Data fine contratto\n",
       "(o data fine assistenza se diversa) *, Ore di assistenza \n",
       " ai sensi della delibera\n",
       "n. 666/2019, Ore contrattualizzate non erogate\n",
       "ai sensi della delibera\n",
       "n. 543_1025/2020, Ore contrattualizzate non erogate\n",
       "ai sensi della delibera\n",
       "n. 733/2020, Ore contrattualizzate non erogate\n",
       "nella fase 2 (finanziamento compensativo), Ore totali rendicontate per il 2020, 7, 28, 4, 21, 62, 23, 45, 20, 18, 42, 22, 60, 68, 19, 55, 50, 27, 67, 12, 64, 44, 6, 51, 2, 71, 63, 24, 11, 58]\n",
       "Index: []\n",
       "\n",
       "[0 rows x 44 columns]"
      ]
     },
     "execution_count": 723,
     "metadata": {},
     "output_type": "execute_result"
    }
   ],
   "source": [
    "dfcod[~anno]"
   ]
  },
  {
   "cell_type": "code",
   "execution_count": null,
   "id": "518bd3cd",
   "metadata": {},
   "outputs": [],
   "source": []
  }
 ],
 "metadata": {
  "kernelspec": {
   "display_name": "Python 3 (ipykernel)",
   "language": "python",
   "name": "python3"
  },
  "language_info": {
   "codemirror_mode": {
    "name": "ipython",
    "version": 3
   },
   "file_extension": ".py",
   "mimetype": "text/x-python",
   "name": "python",
   "nbconvert_exporter": "python",
   "pygments_lexer": "ipython3",
   "version": "3.8.10"
  }
 },
 "nbformat": 4,
 "nbformat_minor": 5
}
