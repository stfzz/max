{
 "cells": [
  {
   "cell_type": "code",
   "execution_count": 233,
   "id": "b43a938a",
   "metadata": {},
   "outputs": [],
   "source": [
    "import pandas as pd\n",
    "import numpy\n",
    "import streamlit as st\n",
    "fn = './errorfiles/Fehler covid.xlsx'"
   ]
  },
  {
   "cell_type": "code",
   "execution_count": 234,
   "id": "06cb6fc3",
   "metadata": {},
   "outputs": [],
   "source": [
    "df = pd.read_excel(fn)#header=[3,4,8])"
   ]
  },
  {
   "cell_type": "code",
   "execution_count": 235,
   "id": "79ce8c8c",
   "metadata": {},
   "outputs": [],
   "source": [
    "traeger = df.iloc[2]"
   ]
  },
  {
   "cell_type": "code",
   "execution_count": 236,
   "id": "a2a23785",
   "metadata": {},
   "outputs": [],
   "source": [
    "t = traeger[3].title()"
   ]
  },
  {
   "cell_type": "code",
   "execution_count": 237,
   "id": "7da435ad",
   "metadata": {},
   "outputs": [
    {
     "data": {
      "text/plain": [
       "'Soc. Coop. Casa Bimbo Tagesmutter Onlus'"
      ]
     },
     "execution_count": 237,
     "metadata": {},
     "output_type": "execute_result"
    }
   ],
   "source": [
    "t"
   ]
  },
  {
   "cell_type": "code",
   "execution_count": 238,
   "id": "cd385105",
   "metadata": {},
   "outputs": [],
   "source": [
    "gemeinde=df.iloc[3]"
   ]
  },
  {
   "cell_type": "code",
   "execution_count": 239,
   "id": "40a5527f",
   "metadata": {},
   "outputs": [
    {
     "data": {
      "text/plain": [
       "'Bolzano'"
      ]
     },
     "execution_count": 239,
     "metadata": {},
     "output_type": "execute_result"
    }
   ],
   "source": [
    "gemeinde[3]"
   ]
  },
  {
   "cell_type": "code",
   "execution_count": 240,
   "id": "25deb868",
   "metadata": {},
   "outputs": [],
   "source": [
    "df = pd.read_excel(fn,parse_dates = ['Data di nascita','Data fine contratto\\n(o data fine assistenza se diversa) *','Data inizio contratto (o data inizio assistenza se diversa)'], header=8)"
   ]
  },
  {
   "cell_type": "code",
   "execution_count": 241,
   "id": "04d0dd52",
   "metadata": {},
   "outputs": [],
   "source": [
    "df['Numero \\nprogressivo'] = pd.to_numeric(df['Numero \\nprogressivo'],errors='coerce')"
   ]
  },
  {
   "cell_type": "code",
   "execution_count": 242,
   "id": "535b67dd",
   "metadata": {},
   "outputs": [],
   "source": [
    "validi = df['Numero \\nprogressivo'].notna()"
   ]
  },
  {
   "cell_type": "code",
   "execution_count": 243,
   "id": "2ceb5385",
   "metadata": {},
   "outputs": [],
   "source": [
    "df = df[validi]"
   ]
  },
  {
   "cell_type": "code",
   "execution_count": 244,
   "id": "b4917c5c",
   "metadata": {},
   "outputs": [],
   "source": [
    "df.insert(1,'Comune',gemeinde[3])"
   ]
  },
  {
   "cell_type": "code",
   "execution_count": 245,
   "id": "3a56fe8f",
   "metadata": {},
   "outputs": [],
   "source": [
    "df.insert(1,'Ente',t)"
   ]
  },
  {
   "cell_type": "code",
   "execution_count": 246,
   "id": "b77a4d81",
   "metadata": {},
   "outputs": [],
   "source": [
    "c =df.columns"
   ]
  },
  {
   "cell_type": "code",
   "execution_count": 247,
   "id": "069ecb5f",
   "metadata": {
    "scrolled": true
   },
   "outputs": [
    {
     "data": {
      "text/plain": [
       "Index(['Numero \\nprogressivo', 'Ente', 'Comune', 'Cognome e nome bambino',\n",
       "       'Data di nascita', 'Codice fiscale',\n",
       "       'Assistente domiciliare all'infanzia',\n",
       "       'Comune di residenza assistente domiciliare all'infanzia',\n",
       "       'Data inizio contratto (o data inizio assistenza se diversa)',\n",
       "       'Data fine contratto\\n(o data fine assistenza se diversa) *',\n",
       "       'Ore di assistenza \\n ai sensi della delibera\\nn. 666/2019',\n",
       "       'Ore contrattualizzate non erogate\\nai sensi della delibera\\nn. 543_1025/2020',\n",
       "       'Ore contrattualizzate non erogate\\nai sensi della delibera\\nn. 733/2020',\n",
       "       'Ore contrattualizzate non erogate\\nnella fase 2 (finanziamento compensativo)',\n",
       "       'Ore totali rendicontate per il 2020'],\n",
       "      dtype='object')"
      ]
     },
     "execution_count": 247,
     "metadata": {},
     "output_type": "execute_result"
    }
   ],
   "source": [
    "df.columns"
   ]
  },
  {
   "cell_type": "code",
   "execution_count": 253,
   "id": "aaeef22e",
   "metadata": {},
   "outputs": [],
   "source": [
    "KONTROLLECOVID_DATAFINEASSISTENZA = '03.05.2020'"
   ]
  },
  {
   "cell_type": "code",
   "execution_count": 257,
   "id": "26f03221",
   "metadata": {},
   "outputs": [],
   "source": [
    "data_fine_assistenza = df['Data fine contratto\\n(o data fine assistenza se diversa) *'] < KONTROLLECOVID_DATAFINEASSISTENZA\n",
    "ore_543 = df['Ore contrattualizzate non erogate\\nai sensi della delibera\\nn. 543_1025/2020'] > 0\n",
    "ore_733 = df['Ore contrattualizzate non erogate\\nai sensi della delibera\\nn. 733/2020'] > 0\n",
    "ore_contrattualizzate = df['Ore contrattualizzate non erogate\\nnella fase 2 (finanziamento compensativo)'] > 0\n",
    " "
   ]
  },
  {
   "cell_type": "code",
   "execution_count": 256,
   "id": "4cd54016",
   "metadata": {},
   "outputs": [
    {
     "data": {
      "text/plain": [
       "0     False\n",
       "1     False\n",
       "2     False\n",
       "3     False\n",
       "4     False\n",
       "      ...  \n",
       "64    False\n",
       "65    False\n",
       "66     True\n",
       "67    False\n",
       "68    False\n",
       "Name: Data fine contratto\\n(o data fine assistenza se diversa) *, Length: 69, dtype: bool"
      ]
     },
     "execution_count": 256,
     "metadata": {},
     "output_type": "execute_result"
    }
   ],
   "source": [
    "data_fine_assistenza"
   ]
  },
  {
   "cell_type": "code",
   "execution_count": 255,
   "id": "f9f93d2f",
   "metadata": {},
   "outputs": [
    {
     "data": {
      "text/html": [
       "<div>\n",
       "<style scoped>\n",
       "    .dataframe tbody tr th:only-of-type {\n",
       "        vertical-align: middle;\n",
       "    }\n",
       "\n",
       "    .dataframe tbody tr th {\n",
       "        vertical-align: top;\n",
       "    }\n",
       "\n",
       "    .dataframe thead th {\n",
       "        text-align: right;\n",
       "    }\n",
       "</style>\n",
       "<table border=\"1\" class=\"dataframe\">\n",
       "  <thead>\n",
       "    <tr style=\"text-align: right;\">\n",
       "      <th></th>\n",
       "      <th>Numero \\nprogressivo</th>\n",
       "      <th>Ente</th>\n",
       "      <th>Comune</th>\n",
       "      <th>Cognome e nome bambino</th>\n",
       "      <th>Data di nascita</th>\n",
       "      <th>Codice fiscale</th>\n",
       "      <th>Assistente domiciliare all'infanzia</th>\n",
       "      <th>Comune di residenza assistente domiciliare all'infanzia</th>\n",
       "      <th>Data inizio contratto (o data inizio assistenza se diversa)</th>\n",
       "      <th>Data fine contratto\\n(o data fine assistenza se diversa) *</th>\n",
       "      <th>Ore di assistenza \\n ai sensi della delibera\\nn. 666/2019</th>\n",
       "      <th>Ore contrattualizzate non erogate\\nai sensi della delibera\\nn. 543_1025/2020</th>\n",
       "      <th>Ore contrattualizzate non erogate\\nai sensi della delibera\\nn. 733/2020</th>\n",
       "      <th>Ore contrattualizzate non erogate\\nnella fase 2 (finanziamento compensativo)</th>\n",
       "      <th>Ore totali rendicontate per il 2020</th>\n",
       "    </tr>\n",
       "  </thead>\n",
       "  <tbody>\n",
       "    <tr>\n",
       "      <th>7</th>\n",
       "      <td>8.0</td>\n",
       "      <td>Soc. Coop. Casa Bimbo Tagesmutter Onlus</td>\n",
       "      <td>Bolzano</td>\n",
       "      <td>DELVAI MATTEO</td>\n",
       "      <td>2018-04-18</td>\n",
       "      <td>DLVMTT18D18A952J</td>\n",
       "      <td>MATTEOTTI GIACOMO</td>\n",
       "      <td>BOLZANO</td>\n",
       "      <td>2019-08-19</td>\n",
       "      <td>2020-03-02</td>\n",
       "      <td>662.0</td>\n",
       "      <td>395.5</td>\n",
       "      <td>NaN</td>\n",
       "      <td>403.0</td>\n",
       "      <td>1460.5</td>\n",
       "    </tr>\n",
       "  </tbody>\n",
       "</table>\n",
       "</div>"
      ],
      "text/plain": [
       "   Numero \\nprogressivo                                     Ente   Comune  \\\n",
       "7                   8.0  Soc. Coop. Casa Bimbo Tagesmutter Onlus  Bolzano   \n",
       "\n",
       "  Cognome e nome bambino Data di nascita    Codice fiscale  \\\n",
       "7          DELVAI MATTEO      2018-04-18  DLVMTT18D18A952J   \n",
       "\n",
       "  Assistente domiciliare all'infanzia  \\\n",
       "7                   MATTEOTTI GIACOMO   \n",
       "\n",
       "  Comune di residenza assistente domiciliare all'infanzia  \\\n",
       "7                                            BOLZANO        \n",
       "\n",
       "  Data inizio contratto (o data inizio assistenza se diversa)  \\\n",
       "7                                         2019-08-19            \n",
       "\n",
       "  Data fine contratto\\n(o data fine assistenza se diversa) *  \\\n",
       "7                                         2020-03-02           \n",
       "\n",
       "   Ore di assistenza \\n ai sensi della delibera\\nn. 666/2019  \\\n",
       "7                                              662.0           \n",
       "\n",
       "   Ore contrattualizzate non erogate\\nai sensi della delibera\\nn. 543_1025/2020  \\\n",
       "7                                              395.5                              \n",
       "\n",
       "   Ore contrattualizzate non erogate\\nai sensi della delibera\\nn. 733/2020  \\\n",
       "7                                                NaN                         \n",
       "\n",
       "   Ore contrattualizzate non erogate\\nnella fase 2 (finanziamento compensativo)  \\\n",
       "7                                              403.0                              \n",
       "\n",
       "   Ore totali rendicontate per il 2020  \n",
       "7                               1460.5  "
      ]
     },
     "execution_count": 255,
     "metadata": {},
     "output_type": "execute_result"
    }
   ],
   "source": [
    "df[data_fine_assistenza & (ore_543 | ore_733 | ore_contrattualizzate)]"
   ]
  },
  {
   "cell_type": "code",
   "execution_count": null,
   "id": "1f74126d",
   "metadata": {},
   "outputs": [],
   "source": []
  }
 ],
 "metadata": {
  "kernelspec": {
   "display_name": "Python 3 (ipykernel)",
   "language": "python",
   "name": "python3"
  },
  "language_info": {
   "codemirror_mode": {
    "name": "ipython",
    "version": 3
   },
   "file_extension": ".py",
   "mimetype": "text/x-python",
   "name": "python",
   "nbconvert_exporter": "python",
   "pygments_lexer": "ipython3",
   "version": "3.8.10"
  }
 },
 "nbformat": 4,
 "nbformat_minor": 5
}
