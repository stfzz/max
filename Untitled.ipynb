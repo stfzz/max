{
 "cells": [
  {
   "cell_type": "code",
   "execution_count": 159,
   "id": "b43a938a",
   "metadata": {},
   "outputs": [],
   "source": [
    "import pandas as pd\n",
    "import numpy\n",
    "import streamlit as st\n",
    "fn = './errorfiles/Fehler_VertragsDaten.xlsx'"
   ]
  },
  {
   "cell_type": "code",
   "execution_count": 160,
   "id": "06cb6fc3",
   "metadata": {},
   "outputs": [],
   "source": [
    "df = pd.read_excel(fn)#header=[3,4,8])"
   ]
  },
  {
   "cell_type": "code",
   "execution_count": 161,
   "id": "79ce8c8c",
   "metadata": {},
   "outputs": [],
   "source": [
    "traeger = df.iloc[2]"
   ]
  },
  {
   "cell_type": "code",
   "execution_count": 162,
   "id": "a2a23785",
   "metadata": {},
   "outputs": [],
   "source": [
    "t = traeger[3].title()"
   ]
  },
  {
   "cell_type": "code",
   "execution_count": 163,
   "id": "7da435ad",
   "metadata": {},
   "outputs": [
    {
     "data": {
      "text/plain": [
       "'Soc. Coop. Casa Bimbo Tagesmutter Onlus'"
      ]
     },
     "execution_count": 163,
     "metadata": {},
     "output_type": "execute_result"
    }
   ],
   "source": [
    "t"
   ]
  },
  {
   "cell_type": "code",
   "execution_count": 164,
   "id": "cd385105",
   "metadata": {},
   "outputs": [],
   "source": [
    "gemeinde=df.iloc[3]"
   ]
  },
  {
   "cell_type": "code",
   "execution_count": 165,
   "id": "40a5527f",
   "metadata": {},
   "outputs": [
    {
     "data": {
      "text/plain": [
       "'Bolzano'"
      ]
     },
     "execution_count": 165,
     "metadata": {},
     "output_type": "execute_result"
    }
   ],
   "source": [
    "gemeinde[3]"
   ]
  },
  {
   "cell_type": "code",
   "execution_count": 166,
   "id": "25deb868",
   "metadata": {},
   "outputs": [],
   "source": [
    "df = pd.read_excel(fn,parse_dates = ['Data di nascita','Data fine contratto\\n(o data fine assistenza se diversa) *','Data inizio contratto (o data inizio assistenza se diversa)'], header=8)"
   ]
  },
  {
   "cell_type": "code",
   "execution_count": 167,
   "id": "04d0dd52",
   "metadata": {},
   "outputs": [],
   "source": [
    "df['Numero \\nprogressivo'] = pd.to_numeric(df['Numero \\nprogressivo'],errors='coerce')"
   ]
  },
  {
   "cell_type": "code",
   "execution_count": 168,
   "id": "535b67dd",
   "metadata": {},
   "outputs": [],
   "source": [
    "validi = df['Numero \\nprogressivo'].notna()"
   ]
  },
  {
   "cell_type": "code",
   "execution_count": 169,
   "id": "2ceb5385",
   "metadata": {},
   "outputs": [],
   "source": [
    "df = df[validi]"
   ]
  },
  {
   "cell_type": "code",
   "execution_count": 170,
   "id": "b4917c5c",
   "metadata": {},
   "outputs": [],
   "source": [
    "df.insert(1,'Comune',gemeinde[3])"
   ]
  },
  {
   "cell_type": "code",
   "execution_count": 171,
   "id": "3a56fe8f",
   "metadata": {},
   "outputs": [],
   "source": [
    "df.insert(1,'Ente',t)"
   ]
  },
  {
   "cell_type": "code",
   "execution_count": 172,
   "id": "b77a4d81",
   "metadata": {},
   "outputs": [],
   "source": [
    "c =df.columns"
   ]
  },
  {
   "cell_type": "code",
   "execution_count": 173,
   "id": "8f6a4e62",
   "metadata": {},
   "outputs": [
    {
     "data": {
      "text/plain": [
       "Index(['Numero \\nprogressivo', 'Ente', 'Comune', 'Cognome e nome bambino',\n",
       "       'Data di nascita', 'Codice fiscale',\n",
       "       'Assistente domiciliare all'infanzia',\n",
       "       'Comune di residenza assistente domiciliare all'infanzia',\n",
       "       'Data inizio contratto (o data inizio assistenza se diversa)',\n",
       "       'Data fine contratto\\n(o data fine assistenza se diversa) *',\n",
       "       'Ore di assistenza \\n ai sensi della delibera\\nn. 666/2019',\n",
       "       'Ore contrattualizzate non erogate\\nai sensi della delibera\\nn. 543_1025/2020',\n",
       "       'Ore contrattualizzate non erogate\\nai sensi della delibera\\nn. 733/2020',\n",
       "       'Ore contrattualizzate non erogate\\nnella fase 2 (finanziamento compensativo)',\n",
       "       'Ore totali rendicontate per il 2020'],\n",
       "      dtype='object')"
      ]
     },
     "execution_count": 173,
     "metadata": {},
     "output_type": "execute_result"
    }
   ],
   "source": [
    "c"
   ]
  },
  {
   "cell_type": "code",
   "execution_count": 174,
   "id": "d5947760",
   "metadata": {},
   "outputs": [],
   "source": [
    "df3 = pd.DataFrame(columns = c)"
   ]
  },
  {
   "cell_type": "code",
   "execution_count": 175,
   "id": "069ecb5f",
   "metadata": {
    "scrolled": true
   },
   "outputs": [
    {
     "data": {
      "text/plain": [
       "Index(['Numero \\nprogressivo', 'Ente', 'Comune', 'Cognome e nome bambino',\n",
       "       'Data di nascita', 'Codice fiscale',\n",
       "       'Assistente domiciliare all'infanzia',\n",
       "       'Comune di residenza assistente domiciliare all'infanzia',\n",
       "       'Data inizio contratto (o data inizio assistenza se diversa)',\n",
       "       'Data fine contratto\\n(o data fine assistenza se diversa) *',\n",
       "       'Ore di assistenza \\n ai sensi della delibera\\nn. 666/2019',\n",
       "       'Ore contrattualizzate non erogate\\nai sensi della delibera\\nn. 543_1025/2020',\n",
       "       'Ore contrattualizzate non erogate\\nai sensi della delibera\\nn. 733/2020',\n",
       "       'Ore contrattualizzate non erogate\\nnella fase 2 (finanziamento compensativo)',\n",
       "       'Ore totali rendicontate per il 2020'],\n",
       "      dtype='object')"
      ]
     },
     "execution_count": 175,
     "metadata": {},
     "output_type": "execute_result"
    }
   ],
   "source": [
    "df.columns"
   ]
  },
  {
   "cell_type": "code",
   "execution_count": 176,
   "id": "d37dad01",
   "metadata": {},
   "outputs": [],
   "source": [
    "giorni = (df['Data fine contratto\\n(o data fine assistenza se diversa) *'] - df['Data di nascita']).dt.days > 1464\n"
   ]
  },
  {
   "cell_type": "code",
   "execution_count": 177,
   "id": "3a1d9395",
   "metadata": {},
   "outputs": [
    {
     "data": {
      "text/plain": [
       "0     False\n",
       "1     False\n",
       "2      True\n",
       "3     False\n",
       "4     False\n",
       "      ...  \n",
       "64    False\n",
       "65    False\n",
       "66    False\n",
       "67    False\n",
       "68    False\n",
       "Length: 69, dtype: bool"
      ]
     },
     "execution_count": 177,
     "metadata": {},
     "output_type": "execute_result"
    }
   ],
   "source": [
    "giorni"
   ]
  },
  {
   "cell_type": "code",
   "execution_count": 178,
   "id": "a7c82df7",
   "metadata": {},
   "outputs": [
    {
     "data": {
      "text/html": [
       "<div>\n",
       "<style scoped>\n",
       "    .dataframe tbody tr th:only-of-type {\n",
       "        vertical-align: middle;\n",
       "    }\n",
       "\n",
       "    .dataframe tbody tr th {\n",
       "        vertical-align: top;\n",
       "    }\n",
       "\n",
       "    .dataframe thead th {\n",
       "        text-align: right;\n",
       "    }\n",
       "</style>\n",
       "<table border=\"1\" class=\"dataframe\">\n",
       "  <thead>\n",
       "    <tr style=\"text-align: right;\">\n",
       "      <th></th>\n",
       "      <th>Numero \\nprogressivo</th>\n",
       "      <th>Ente</th>\n",
       "      <th>Comune</th>\n",
       "      <th>Cognome e nome bambino</th>\n",
       "      <th>Data di nascita</th>\n",
       "      <th>Codice fiscale</th>\n",
       "      <th>Assistente domiciliare all'infanzia</th>\n",
       "      <th>Comune di residenza assistente domiciliare all'infanzia</th>\n",
       "      <th>Data inizio contratto (o data inizio assistenza se diversa)</th>\n",
       "      <th>Data fine contratto\\n(o data fine assistenza se diversa) *</th>\n",
       "      <th>Ore di assistenza \\n ai sensi della delibera\\nn. 666/2019</th>\n",
       "      <th>Ore contrattualizzate non erogate\\nai sensi della delibera\\nn. 543_1025/2020</th>\n",
       "      <th>Ore contrattualizzate non erogate\\nai sensi della delibera\\nn. 733/2020</th>\n",
       "      <th>Ore contrattualizzate non erogate\\nnella fase 2 (finanziamento compensativo)</th>\n",
       "      <th>Ore totali rendicontate per il 2020</th>\n",
       "    </tr>\n",
       "  </thead>\n",
       "  <tbody>\n",
       "    <tr>\n",
       "      <th>2</th>\n",
       "      <td>3.0</td>\n",
       "      <td>Soc. Coop. Casa Bimbo Tagesmutter Onlus</td>\n",
       "      <td>Bolzano</td>\n",
       "      <td>BARAGONA LUCA</td>\n",
       "      <td>2017-08-21</td>\n",
       "      <td>BRGLCU17M21A952W</td>\n",
       "      <td>LOVATO DEBORAH</td>\n",
       "      <td>BOLZANO</td>\n",
       "      <td>2019-09-16</td>\n",
       "      <td>2022-04-30</td>\n",
       "      <td>97.75</td>\n",
       "      <td>140.25</td>\n",
       "      <td>NaN</td>\n",
       "      <td>NaN</td>\n",
       "      <td>238.0</td>\n",
       "    </tr>\n",
       "  </tbody>\n",
       "</table>\n",
       "</div>"
      ],
      "text/plain": [
       "   Numero \\nprogressivo                                     Ente   Comune  \\\n",
       "2                   3.0  Soc. Coop. Casa Bimbo Tagesmutter Onlus  Bolzano   \n",
       "\n",
       "  Cognome e nome bambino Data di nascita    Codice fiscale  \\\n",
       "2          BARAGONA LUCA      2017-08-21  BRGLCU17M21A952W   \n",
       "\n",
       "  Assistente domiciliare all'infanzia  \\\n",
       "2                      LOVATO DEBORAH   \n",
       "\n",
       "  Comune di residenza assistente domiciliare all'infanzia  \\\n",
       "2                                            BOLZANO        \n",
       "\n",
       "  Data inizio contratto (o data inizio assistenza se diversa)  \\\n",
       "2                                         2019-09-16            \n",
       "\n",
       "  Data fine contratto\\n(o data fine assistenza se diversa) *  \\\n",
       "2                                         2022-04-30           \n",
       "\n",
       "   Ore di assistenza \\n ai sensi della delibera\\nn. 666/2019  \\\n",
       "2                                              97.75           \n",
       "\n",
       "   Ore contrattualizzate non erogate\\nai sensi della delibera\\nn. 543_1025/2020  \\\n",
       "2                                             140.25                              \n",
       "\n",
       "   Ore contrattualizzate non erogate\\nai sensi della delibera\\nn. 733/2020  \\\n",
       "2                                                NaN                         \n",
       "\n",
       "   Ore contrattualizzate non erogate\\nnella fase 2 (finanziamento compensativo)  \\\n",
       "2                                                NaN                              \n",
       "\n",
       "   Ore totali rendicontate per il 2020  \n",
       "2                                238.0  "
      ]
     },
     "execution_count": 178,
     "metadata": {},
     "output_type": "execute_result"
    }
   ],
   "source": [
    "df[giorni]"
   ]
  },
  {
   "cell_type": "code",
   "execution_count": null,
   "id": "c5b41638",
   "metadata": {},
   "outputs": [],
   "source": []
  }
 ],
 "metadata": {
  "kernelspec": {
   "display_name": "Python 3 (ipykernel)",
   "language": "python",
   "name": "python3"
  },
  "language_info": {
   "codemirror_mode": {
    "name": "ipython",
    "version": 3
   },
   "file_extension": ".py",
   "mimetype": "text/x-python",
   "name": "python",
   "nbconvert_exporter": "python",
   "pygments_lexer": "ipython3",
   "version": "3.8.10"
  }
 },
 "nbformat": 4,
 "nbformat_minor": 5
}
