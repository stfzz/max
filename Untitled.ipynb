{
 "cells": [
  {
   "cell_type": "code",
   "execution_count": 360,
   "id": "b43a938a",
   "metadata": {},
   "outputs": [],
   "source": [
    "import pandas as pd\n",
    "import numpy\n",
    "import streamlit as st\n",
    "import datetime as dt\n",
    "fn = './errorfiles/Kontrolle Kindergarten 2.xlsx'"
   ]
  },
  {
   "cell_type": "code",
   "execution_count": 261,
   "id": "06cb6fc3",
   "metadata": {},
   "outputs": [],
   "source": [
    "df = pd.read_excel(fn)#header=[3,4,8])"
   ]
  },
  {
   "cell_type": "code",
   "execution_count": 262,
   "id": "79ce8c8c",
   "metadata": {},
   "outputs": [],
   "source": [
    "traeger = df.iloc[2]"
   ]
  },
  {
   "cell_type": "code",
   "execution_count": 263,
   "id": "a2a23785",
   "metadata": {},
   "outputs": [],
   "source": [
    "t = traeger[3].title()"
   ]
  },
  {
   "cell_type": "code",
   "execution_count": 264,
   "id": "7da435ad",
   "metadata": {},
   "outputs": [
    {
     "data": {
      "text/plain": [
       "'Soc. Coop. Casa Bimbo Tagesmutter Onlus'"
      ]
     },
     "execution_count": 264,
     "metadata": {},
     "output_type": "execute_result"
    }
   ],
   "source": [
    "t"
   ]
  },
  {
   "cell_type": "code",
   "execution_count": 265,
   "id": "cd385105",
   "metadata": {},
   "outputs": [],
   "source": [
    "gemeinde=df.iloc[3]"
   ]
  },
  {
   "cell_type": "code",
   "execution_count": 266,
   "id": "40a5527f",
   "metadata": {},
   "outputs": [
    {
     "data": {
      "text/plain": [
       "'Bolzano'"
      ]
     },
     "execution_count": 266,
     "metadata": {},
     "output_type": "execute_result"
    }
   ],
   "source": [
    "gemeinde[3]"
   ]
  },
  {
   "cell_type": "code",
   "execution_count": 267,
   "id": "25deb868",
   "metadata": {},
   "outputs": [],
   "source": [
    "df = pd.read_excel(fn,parse_dates = ['Data di nascita','Data fine contratto\\n(o data fine assistenza se diversa) *','Data inizio contratto (o data inizio assistenza se diversa)'], header=8)"
   ]
  },
  {
   "cell_type": "code",
   "execution_count": 268,
   "id": "04d0dd52",
   "metadata": {},
   "outputs": [],
   "source": [
    "df['Numero \\nprogressivo'] = pd.to_numeric(df['Numero \\nprogressivo'],errors='coerce')"
   ]
  },
  {
   "cell_type": "code",
   "execution_count": 269,
   "id": "535b67dd",
   "metadata": {},
   "outputs": [],
   "source": [
    "validi = df['Numero \\nprogressivo'].notna()"
   ]
  },
  {
   "cell_type": "code",
   "execution_count": 270,
   "id": "2ceb5385",
   "metadata": {},
   "outputs": [],
   "source": [
    "df = df[validi]"
   ]
  },
  {
   "cell_type": "code",
   "execution_count": 271,
   "id": "b4917c5c",
   "metadata": {},
   "outputs": [],
   "source": [
    "df.insert(1,'Comune',gemeinde[3])"
   ]
  },
  {
   "cell_type": "code",
   "execution_count": 272,
   "id": "3a56fe8f",
   "metadata": {},
   "outputs": [],
   "source": [
    "df.insert(1,'Ente',t)"
   ]
  },
  {
   "cell_type": "code",
   "execution_count": 273,
   "id": "b77a4d81",
   "metadata": {},
   "outputs": [],
   "source": [
    "c =df.columns"
   ]
  },
  {
   "cell_type": "code",
   "execution_count": 274,
   "id": "069ecb5f",
   "metadata": {
    "scrolled": true
   },
   "outputs": [
    {
     "data": {
      "text/plain": [
       "Index(['Numero \\nprogressivo', 'Ente', 'Comune', 'Cognome e nome bambino',\n",
       "       'Data di nascita', 'Codice fiscale',\n",
       "       'Assistente domiciliare all'infanzia',\n",
       "       'Comune di residenza assistente domiciliare all'infanzia',\n",
       "       'Data inizio contratto (o data inizio assistenza se diversa)',\n",
       "       'Data fine contratto\\n(o data fine assistenza se diversa) *',\n",
       "       'Ore di assistenza \\n ai sensi della delibera\\nn. 666/2019',\n",
       "       'Ore contrattualizzate non erogate\\nai sensi della delibera\\nn. 543_1025/2020',\n",
       "       'Ore contrattualizzate non erogate\\nai sensi della delibera\\nn. 733/2020',\n",
       "       'Ore contrattualizzate non erogate\\nnella fase 2 (finanziamento compensativo)',\n",
       "       'Ore totali rendicontate per il 2020'],\n",
       "      dtype='object')"
      ]
     },
     "execution_count": 274,
     "metadata": {},
     "output_type": "execute_result"
    }
   ],
   "source": [
    "df.columns"
   ]
  },
  {
   "cell_type": "code",
   "execution_count": 275,
   "id": "acbb4f15",
   "metadata": {},
   "outputs": [],
   "source": [
    "KONTROLLEKINDERGARTEN_DATANASCITA_2 = '01.03.2017'"
   ]
  },
  {
   "cell_type": "code",
   "execution_count": 470,
   "id": "d496083c",
   "metadata": {},
   "outputs": [],
   "source": [
    "data_nascita = df['Data di nascita'] >= KONTROLLEKINDERGARTEN_DATANASCITA_2"
   ]
  },
  {
   "cell_type": "code",
   "execution_count": 474,
   "id": "9f8f4ed7",
   "metadata": {},
   "outputs": [],
   "source": [
    "data_fine_ass =  df['Data fine contratto\\n(o data fine assistenza se diversa) *'] > pd.to_datetime('15.09.' + (pd.to_datetime(df['Data di nascita']).dt.year + 3).astype('str'),infer_datetime_format=True)"
   ]
  },
  {
   "cell_type": "code",
   "execution_count": 475,
   "id": "b78e8715",
   "metadata": {},
   "outputs": [
    {
     "data": {
      "text/plain": [
       "0     False\n",
       "1     False\n",
       "2     False\n",
       "3     False\n",
       "4     False\n",
       "      ...  \n",
       "64    False\n",
       "65    False\n",
       "66    False\n",
       "67    False\n",
       "68    False\n",
       "Length: 69, dtype: bool"
      ]
     },
     "execution_count": 475,
     "metadata": {},
     "output_type": "execute_result"
    }
   ],
   "source": [
    "data_fine_ass"
   ]
  },
  {
   "cell_type": "markdown",
   "id": "4db1c0fc",
   "metadata": {},
   "source": [
    "Wenn Geburtsdatum größer/gleich 01.03.2017 muss Vertragende <= 15.09 des Geburtsjahrs +3 Jahre sein \n",
    "\n",
    "    z.B.: Geburtstag 15.04.2017 und Ende Vertrag 15.09.2020 \n",
    "\n",
    "    Ausgabe:  Kontrolle Kindergarten 2 "
   ]
  },
  {
   "cell_type": "code",
   "execution_count": 477,
   "id": "f54058c2",
   "metadata": {},
   "outputs": [
    {
     "data": {
      "text/html": [
       "<div>\n",
       "<style scoped>\n",
       "    .dataframe tbody tr th:only-of-type {\n",
       "        vertical-align: middle;\n",
       "    }\n",
       "\n",
       "    .dataframe tbody tr th {\n",
       "        vertical-align: top;\n",
       "    }\n",
       "\n",
       "    .dataframe thead th {\n",
       "        text-align: right;\n",
       "    }\n",
       "</style>\n",
       "<table border=\"1\" class=\"dataframe\">\n",
       "  <thead>\n",
       "    <tr style=\"text-align: right;\">\n",
       "      <th></th>\n",
       "      <th>Numero \\nprogressivo</th>\n",
       "      <th>Ente</th>\n",
       "      <th>Comune</th>\n",
       "      <th>Cognome e nome bambino</th>\n",
       "      <th>Data di nascita</th>\n",
       "      <th>Codice fiscale</th>\n",
       "      <th>Assistente domiciliare all'infanzia</th>\n",
       "      <th>Comune di residenza assistente domiciliare all'infanzia</th>\n",
       "      <th>Data inizio contratto (o data inizio assistenza se diversa)</th>\n",
       "      <th>Data fine contratto\\n(o data fine assistenza se diversa) *</th>\n",
       "      <th>Ore di assistenza \\n ai sensi della delibera\\nn. 666/2019</th>\n",
       "      <th>Ore contrattualizzate non erogate\\nai sensi della delibera\\nn. 543_1025/2020</th>\n",
       "      <th>Ore contrattualizzate non erogate\\nai sensi della delibera\\nn. 733/2020</th>\n",
       "      <th>Ore contrattualizzate non erogate\\nnella fase 2 (finanziamento compensativo)</th>\n",
       "      <th>Ore totali rendicontate per il 2020</th>\n",
       "      <th>datamax</th>\n",
       "    </tr>\n",
       "  </thead>\n",
       "  <tbody>\n",
       "    <tr>\n",
       "      <th>11</th>\n",
       "      <td>12.0</td>\n",
       "      <td>Soc. Coop. Casa Bimbo Tagesmutter Onlus</td>\n",
       "      <td>Bolzano</td>\n",
       "      <td>LANARI ARIANNA</td>\n",
       "      <td>2018-11-20</td>\n",
       "      <td>LNRRNN18S60A952D</td>\n",
       "      <td>MATTEOTTI GIACOMO</td>\n",
       "      <td>BOLZANO</td>\n",
       "      <td>2020-08-17</td>\n",
       "      <td>2022-09-02</td>\n",
       "      <td>560.00</td>\n",
       "      <td>35.5</td>\n",
       "      <td>NaN</td>\n",
       "      <td>NaN</td>\n",
       "      <td>595.50</td>\n",
       "      <td>2021-09-15</td>\n",
       "    </tr>\n",
       "    <tr>\n",
       "      <th>40</th>\n",
       "      <td>38.0</td>\n",
       "      <td>Soc. Coop. Casa Bimbo Tagesmutter Onlus</td>\n",
       "      <td>Bolzano</td>\n",
       "      <td>LORENZINI MARINA</td>\n",
       "      <td>2018-11-05</td>\n",
       "      <td>LRNMRN18S45F132U</td>\n",
       "      <td>LOVATO DEBORAH</td>\n",
       "      <td>BOLZANO</td>\n",
       "      <td>2020-01-13</td>\n",
       "      <td>2021-09-30</td>\n",
       "      <td>782.25</td>\n",
       "      <td>298.5</td>\n",
       "      <td>NaN</td>\n",
       "      <td>NaN</td>\n",
       "      <td>1080.75</td>\n",
       "      <td>2021-09-15</td>\n",
       "    </tr>\n",
       "    <tr>\n",
       "      <th>61</th>\n",
       "      <td>59.0</td>\n",
       "      <td>Soc. Coop. Casa Bimbo Tagesmutter Onlus</td>\n",
       "      <td>Bolzano</td>\n",
       "      <td>FIORE LEONARDO</td>\n",
       "      <td>2019-12-31</td>\n",
       "      <td>FRILRD19T31F132G</td>\n",
       "      <td>PRAZARU OLENA</td>\n",
       "      <td>BOLZANO</td>\n",
       "      <td>2020-10-05</td>\n",
       "      <td>2022-12-31</td>\n",
       "      <td>255.00</td>\n",
       "      <td>40.0</td>\n",
       "      <td>NaN</td>\n",
       "      <td>NaN</td>\n",
       "      <td>295.00</td>\n",
       "      <td>2022-09-15</td>\n",
       "    </tr>\n",
       "  </tbody>\n",
       "</table>\n",
       "</div>"
      ],
      "text/plain": [
       "    Numero \\nprogressivo                                     Ente   Comune  \\\n",
       "11                  12.0  Soc. Coop. Casa Bimbo Tagesmutter Onlus  Bolzano   \n",
       "40                  38.0  Soc. Coop. Casa Bimbo Tagesmutter Onlus  Bolzano   \n",
       "61                  59.0  Soc. Coop. Casa Bimbo Tagesmutter Onlus  Bolzano   \n",
       "\n",
       "   Cognome e nome bambino Data di nascita    Codice fiscale  \\\n",
       "11         LANARI ARIANNA      2018-11-20  LNRRNN18S60A952D   \n",
       "40       LORENZINI MARINA      2018-11-05  LRNMRN18S45F132U   \n",
       "61         FIORE LEONARDO      2019-12-31  FRILRD19T31F132G   \n",
       "\n",
       "   Assistente domiciliare all'infanzia  \\\n",
       "11                   MATTEOTTI GIACOMO   \n",
       "40                      LOVATO DEBORAH   \n",
       "61                       PRAZARU OLENA   \n",
       "\n",
       "   Comune di residenza assistente domiciliare all'infanzia  \\\n",
       "11                                            BOLZANO        \n",
       "40                                            BOLZANO        \n",
       "61                                            BOLZANO        \n",
       "\n",
       "   Data inizio contratto (o data inizio assistenza se diversa)  \\\n",
       "11                                         2020-08-17            \n",
       "40                                         2020-01-13            \n",
       "61                                         2020-10-05            \n",
       "\n",
       "   Data fine contratto\\n(o data fine assistenza se diversa) *  \\\n",
       "11                                         2022-09-02           \n",
       "40                                         2021-09-30           \n",
       "61                                         2022-12-31           \n",
       "\n",
       "    Ore di assistenza \\n ai sensi della delibera\\nn. 666/2019  \\\n",
       "11                                             560.00           \n",
       "40                                             782.25           \n",
       "61                                             255.00           \n",
       "\n",
       "    Ore contrattualizzate non erogate\\nai sensi della delibera\\nn. 543_1025/2020  \\\n",
       "11                                               35.5                              \n",
       "40                                              298.5                              \n",
       "61                                               40.0                              \n",
       "\n",
       "    Ore contrattualizzate non erogate\\nai sensi della delibera\\nn. 733/2020  \\\n",
       "11                                                NaN                         \n",
       "40                                                NaN                         \n",
       "61                                                NaN                         \n",
       "\n",
       "    Ore contrattualizzate non erogate\\nnella fase 2 (finanziamento compensativo)  \\\n",
       "11                                                NaN                              \n",
       "40                                                NaN                              \n",
       "61                                                NaN                              \n",
       "\n",
       "    Ore totali rendicontate per il 2020    datamax  \n",
       "11                               595.50 2021-09-15  \n",
       "40                              1080.75 2021-09-15  \n",
       "61                               295.00 2022-09-15  "
      ]
     },
     "execution_count": 477,
     "metadata": {},
     "output_type": "execute_result"
    }
   ],
   "source": [
    "df[data_nascita & data_fine_ass]"
   ]
  },
  {
   "cell_type": "code",
   "execution_count": 478,
   "id": "3c58c8f1",
   "metadata": {},
   "outputs": [],
   "source": [
    "df['datamax'] = pd.to_datetime('15.09.' + (pd.to_datetime(df['Data di nascita']).dt.year + 3).astype('str'),infer_datetime_format=True)"
   ]
  },
  {
   "cell_type": "code",
   "execution_count": 467,
   "id": "e2bb82db",
   "metadata": {},
   "outputs": [
    {
     "data": {
      "text/plain": [
       "0     15.09.2021\n",
       "1     15.09.2021\n",
       "2     15.09.2020\n",
       "3     15.09.2022\n",
       "4     15.09.2022\n",
       "         ...    \n",
       "64    15.09.2023\n",
       "65    15.09.2021\n",
       "66    15.09.2020\n",
       "67    15.09.2020\n",
       "68    15.09.2022\n",
       "Name: datamax, Length: 69, dtype: object"
      ]
     },
     "execution_count": 467,
     "metadata": {},
     "output_type": "execute_result"
    }
   ],
   "source": [
    "df['datamax']"
   ]
  },
  {
   "cell_type": "code",
   "execution_count": 461,
   "id": "d58ec687",
   "metadata": {},
   "outputs": [
    {
     "data": {
      "text/plain": [
       "0    2021-09-15\n",
       "1    2021-09-15\n",
       "2    2020-09-15\n",
       "3    2022-09-15\n",
       "4    2022-09-15\n",
       "        ...    \n",
       "64   2023-09-15\n",
       "65   2021-09-15\n",
       "66   2020-09-15\n",
       "67   2020-09-15\n",
       "68   2022-09-15\n",
       "Name: datamax, Length: 69, dtype: datetime64[ns]"
      ]
     },
     "execution_count": 461,
     "metadata": {},
     "output_type": "execute_result"
    }
   ],
   "source": [
    "pd.to_datetime(df['datamax'],infer_datetime_format=True)"
   ]
  },
  {
   "cell_type": "code",
   "execution_count": null,
   "id": "2791a05e",
   "metadata": {},
   "outputs": [],
   "source": []
  }
 ],
 "metadata": {
  "kernelspec": {
   "display_name": "Python 3 (ipykernel)",
   "language": "python",
   "name": "python3"
  },
  "language_info": {
   "codemirror_mode": {
    "name": "ipython",
    "version": 3
   },
   "file_extension": ".py",
   "mimetype": "text/x-python",
   "name": "python",
   "nbconvert_exporter": "python",
   "pygments_lexer": "ipython3",
   "version": "3.8.10"
  }
 },
 "nbformat": 4,
 "nbformat_minor": 5
}
