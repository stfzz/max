{
 "cells": [
  {
   "cell_type": "code",
   "execution_count": 289,
   "id": "b43a938a",
   "metadata": {},
   "outputs": [],
   "source": [
    "import pandas as pd\n",
    "import numpy\n",
    "import streamlit as st"
   ]
  },
  {
   "cell_type": "code",
   "execution_count": 290,
   "id": "06cb6fc3",
   "metadata": {},
   "outputs": [],
   "source": [
    "df = pd.read_excel('Report annuale comune di Bolzano.xlsx')#header=[3,4,8])"
   ]
  },
  {
   "cell_type": "code",
   "execution_count": 291,
   "id": "e301ed30",
   "metadata": {},
   "outputs": [],
   "source": [
    "traeger = df.iloc[2]"
   ]
  },
  {
   "cell_type": "code",
   "execution_count": 292,
   "id": "0646f182",
   "metadata": {},
   "outputs": [],
   "source": [
    "t = traeger[3].title()"
   ]
  },
  {
   "cell_type": "code",
   "execution_count": 293,
   "id": "762f7248",
   "metadata": {},
   "outputs": [
    {
     "data": {
      "text/plain": [
       "'Soc. Coop. Casa Bimbo Tagesmutter Onlus'"
      ]
     },
     "execution_count": 293,
     "metadata": {},
     "output_type": "execute_result"
    }
   ],
   "source": [
    "t"
   ]
  },
  {
   "cell_type": "code",
   "execution_count": 294,
   "id": "7a57f3a0",
   "metadata": {},
   "outputs": [],
   "source": [
    "gemeinde=df.iloc[3]"
   ]
  },
  {
   "cell_type": "code",
   "execution_count": 295,
   "id": "6828a9ca",
   "metadata": {},
   "outputs": [
    {
     "data": {
      "text/plain": [
       "'Bolzano'"
      ]
     },
     "execution_count": 295,
     "metadata": {},
     "output_type": "execute_result"
    }
   ],
   "source": [
    "gemeinde[3]"
   ]
  },
  {
   "cell_type": "code",
   "execution_count": 296,
   "id": "0fae9e12",
   "metadata": {},
   "outputs": [],
   "source": [
    "df = pd.read_excel('Report annuale comune di Bolzano.xlsx',parse_dates = ['Data di nascita','Data fine contratto\\n(o data fine assistenza se diversa) *','Data inizio contratto (o data inizio assistenza se diversa)'], header=8)"
   ]
  },
  {
   "cell_type": "code",
   "execution_count": 343,
   "id": "73e29d98",
   "metadata": {},
   "outputs": [],
   "source": [
    "df['Numero \\nprogressivo'] = pd.to_numeric(df['Numero \\nprogressivo'],errors='coerce')"
   ]
  },
  {
   "cell_type": "code",
   "execution_count": 349,
   "id": "82ef1897",
   "metadata": {},
   "outputs": [],
   "source": [
    "validi = df['Numero \\nprogressivo'].notna()"
   ]
  },
  {
   "cell_type": "code",
   "execution_count": 263,
   "id": "0670cdc9",
   "metadata": {},
   "outputs": [],
   "source": [
    "df.insert(1,'Comune',gemeinde[3])"
   ]
  },
  {
   "cell_type": "code",
   "execution_count": 264,
   "id": "413429be",
   "metadata": {},
   "outputs": [],
   "source": [
    "df.insert(1,'Ente',t)"
   ]
  },
  {
   "cell_type": "code",
   "execution_count": 265,
   "id": "0be7bb33",
   "metadata": {},
   "outputs": [
    {
     "data": {
      "text/html": [
       "<div>\n",
       "<style scoped>\n",
       "    .dataframe tbody tr th:only-of-type {\n",
       "        vertical-align: middle;\n",
       "    }\n",
       "\n",
       "    .dataframe tbody tr th {\n",
       "        vertical-align: top;\n",
       "    }\n",
       "\n",
       "    .dataframe thead th {\n",
       "        text-align: right;\n",
       "    }\n",
       "</style>\n",
       "<table border=\"1\" class=\"dataframe\">\n",
       "  <thead>\n",
       "    <tr style=\"text-align: right;\">\n",
       "      <th></th>\n",
       "      <th>Numero \\nprogressivo</th>\n",
       "      <th>Ente</th>\n",
       "      <th>Comune</th>\n",
       "      <th>Cognome e nome bambino</th>\n",
       "      <th>Data di nascita</th>\n",
       "      <th>Codice fiscale</th>\n",
       "      <th>Assistente domiciliare all'infanzia</th>\n",
       "      <th>Comune di residenza assistente domiciliare all'infanzia</th>\n",
       "      <th>Data inizio contratto (o data inizio assistenza se diversa)</th>\n",
       "      <th>Data fine contratto\\n(o data fine assistenza se diversa) *</th>\n",
       "      <th>Ore di assistenza \\n ai sensi della delibera\\nn. 666/2019</th>\n",
       "      <th>Ore contrattualizzate non erogate\\nai sensi della delibera\\nn. 543_1025/2020</th>\n",
       "      <th>Ore contrattualizzate non erogate\\nai sensi della delibera\\nn. 733/2020</th>\n",
       "      <th>Ore contrattualizzate non erogate\\nnella fase 2 (finanziamento compensativo)</th>\n",
       "      <th>Ore totali rendicontate per il 2020</th>\n",
       "    </tr>\n",
       "  </thead>\n",
       "  <tbody>\n",
       "    <tr>\n",
       "      <th>23</th>\n",
       "      <td>24</td>\n",
       "      <td>Soc. Coop. Casa Bimbo Tagesmutter Onlus</td>\n",
       "      <td>Bolzano</td>\n",
       "      <td>DI PIERRO ALICE</td>\n",
       "      <td>2018-08-24</td>\n",
       "      <td>DPRLCA18M64A952O</td>\n",
       "      <td>MOSSA DANIELA</td>\n",
       "      <td>BOLZANO</td>\n",
       "      <td>2019-02-18</td>\n",
       "      <td>2020-12-31</td>\n",
       "      <td>579.5</td>\n",
       "      <td>279.0</td>\n",
       "      <td>99.0</td>\n",
       "      <td>240.0</td>\n",
       "      <td>1197.5</td>\n",
       "    </tr>\n",
       "  </tbody>\n",
       "</table>\n",
       "</div>"
      ],
      "text/plain": [
       "   Numero \\nprogressivo                                     Ente   Comune  \\\n",
       "23                   24  Soc. Coop. Casa Bimbo Tagesmutter Onlus  Bolzano   \n",
       "\n",
       "   Cognome e nome bambino Data di nascita    Codice fiscale  \\\n",
       "23        DI PIERRO ALICE      2018-08-24  DPRLCA18M64A952O   \n",
       "\n",
       "   Assistente domiciliare all'infanzia  \\\n",
       "23                       MOSSA DANIELA   \n",
       "\n",
       "   Comune di residenza assistente domiciliare all'infanzia  \\\n",
       "23                                            BOLZANO        \n",
       "\n",
       "   Data inizio contratto (o data inizio assistenza se diversa)  \\\n",
       "23                                         2019-02-18            \n",
       "\n",
       "   Data fine contratto\\n(o data fine assistenza se diversa) *  \\\n",
       "23                                         2020-12-31           \n",
       "\n",
       "    Ore di assistenza \\n ai sensi della delibera\\nn. 666/2019  \\\n",
       "23                                              579.5           \n",
       "\n",
       "    Ore contrattualizzate non erogate\\nai sensi della delibera\\nn. 543_1025/2020  \\\n",
       "23                                              279.0                              \n",
       "\n",
       "    Ore contrattualizzate non erogate\\nai sensi della delibera\\nn. 733/2020  \\\n",
       "23                                               99.0                         \n",
       "\n",
       "    Ore contrattualizzate non erogate\\nnella fase 2 (finanziamento compensativo)  \\\n",
       "23                                              240.0                              \n",
       "\n",
       "    Ore totali rendicontate per il 2020  \n",
       "23                               1197.5  "
      ]
     },
     "execution_count": 265,
     "metadata": {},
     "output_type": "execute_result"
    }
   ],
   "source": [
    "df"
   ]
  },
  {
   "cell_type": "code",
   "execution_count": null,
   "id": "fb2c6ece",
   "metadata": {},
   "outputs": [],
   "source": []
  }
 ],
 "metadata": {
  "kernelspec": {
   "display_name": "Python 3 (ipykernel)",
   "language": "python",
   "name": "python3"
  },
  "language_info": {
   "codemirror_mode": {
    "name": "ipython",
    "version": 3
   },
   "file_extension": ".py",
   "mimetype": "text/x-python",
   "name": "python",
   "nbconvert_exporter": "python",
   "pygments_lexer": "ipython3",
   "version": "3.8.10"
  }
 },
 "nbformat": 4,
 "nbformat_minor": 5
}
