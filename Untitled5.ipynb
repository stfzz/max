{
 "cells": [
  {
   "cell_type": "code",
   "execution_count": 2,
   "id": "c9b5a057",
   "metadata": {},
   "outputs": [],
   "source": [
    "import pandas as pd"
   ]
  },
  {
   "cell_type": "code",
   "execution_count": 3,
   "id": "455af2bb",
   "metadata": {},
   "outputs": [],
   "source": [
    "df = pd.read_excel(\"storico.xlsx\")"
   ]
  },
  {
   "cell_type": "code",
   "execution_count": 5,
   "id": "3b7fb1ad",
   "metadata": {},
   "outputs": [
    {
     "data": {
      "text/plain": [
       "Index(['Unnamed: 0', 'filename', 'Cognome e nome bambino', 'Ente', 'Comune',\n",
       "       'Data di nascita', 'Codice fiscale',\n",
       "       'Assistente domiciliare all'infanzia',\n",
       "       'Comune di residenza assistente domiciliare all'infanzia',\n",
       "       'Data inizio contratto (o data inizio assistenza se diversa)',\n",
       "       'GiorniAssistenzaAnnoRiferimento',\n",
       "       'Data fine contratto\\n(o data fine assistenza se diversa) *',\n",
       "       'Ore di assistenza \\n ai sensi della delibera\\nn. 666/2019',\n",
       "       'Ore contrattualizzate non erogate\\nai sensi della delibera\\nn. 543_1025/2020',\n",
       "       'massimo543',\n",
       "       'Ore contrattualizzate non erogate\\nai sensi della delibera\\nn. 733/2020',\n",
       "       'Ore contrattualizzate non erogate\\nnella fase 2 (finanziamento compensativo)',\n",
       "       'Ore totali rendicontate per il 2020', 'errCodFisc1', 'errCodFisc2',\n",
       "       'errAgeChild', 'errInizioMinoreFine', 'errErrorePresenza',\n",
       "       'errErroreDati543', 'errFineAssistenzaMax4Anni', 'errKindergarten_1',\n",
       "       'errKindergarten_2', 'errErroreFinanziamentoCompensativo',\n",
       "       'errErroreFinanziamentoCompensativo2', 'errErroreCovid',\n",
       "       'errErroreCovid2', 'errErroreCovid3', 'errErroreCovid4',\n",
       "       'errFehlerEingewöhnung', 'errFehlerEingewöhnung543Lockdown',\n",
       "       'errFehlerEingewöhnung543Notbetreuung',\n",
       "       'errGesamtstundenVertragszeitraum', 'errSuperatoOreMassime1920',\n",
       "       'errBambinoInPiuComuni', 'errPresentiAnnotazioni', 'errMassimo543',\n",
       "       'errOreRendicontateZero', 'gg1', 'gg2', 'gg3', 'inizioNorm',\n",
       "       'fineNorm'],\n",
       "      dtype='object')"
      ]
     },
     "execution_count": 5,
     "metadata": {},
     "output_type": "execute_result"
    }
   ],
   "source": [
    "df.columns"
   ]
  },
  {
   "cell_type": "code",
   "execution_count": 7,
   "id": "6d56d37b",
   "metadata": {},
   "outputs": [
    {
     "data": {
      "text/plain": [
       "array(['Sozialgenossenschaft Tagesmütter - Gen.',\n",
       "       'Sozialgenossenschaft Mit Bäuerinnen Lernen Wachsen Leben',\n",
       "       'Sozialgenossenschaft Mit Bäuerinnen Lernen-Wachsen-Leben'],\n",
       "      dtype=object)"
      ]
     },
     "execution_count": 7,
     "metadata": {},
     "output_type": "execute_result"
    }
   ],
   "source": [
    "df[\"Ente\"].unique()"
   ]
  },
  {
   "cell_type": "code",
   "execution_count": 12,
   "id": "6a049b4f",
   "metadata": {},
   "outputs": [],
   "source": [
    "if not df[df[\"errCodFisc1\"] == True].empty:\n",
    "    print(\"W\")"
   ]
  },
  {
   "cell_type": "code",
   "execution_count": null,
   "id": "a0bd5287",
   "metadata": {},
   "outputs": [],
   "source": []
  }
 ],
 "metadata": {
  "kernelspec": {
   "display_name": "Python 3 (ipykernel)",
   "language": "python",
   "name": "python3"
  },
  "language_info": {
   "codemirror_mode": {
    "name": "ipython",
    "version": 3
   },
   "file_extension": ".py",
   "mimetype": "text/x-python",
   "name": "python",
   "nbconvert_exporter": "python",
   "pygments_lexer": "ipython3",
   "version": "3.8.10"
  }
 },
 "nbformat": 4,
 "nbformat_minor": 5
}
