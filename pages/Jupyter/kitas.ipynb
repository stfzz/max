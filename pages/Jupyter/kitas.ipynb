{
 "cells": [
  {
   "cell_type": "code",
   "execution_count": 1,
   "id": "dcc88334",
   "metadata": {},
   "outputs": [],
   "source": [
    "import pandas as pd\n",
    "import numpy as np\n",
    "import datetime as dt\n",
    "from collections import Counter\n",
    "import ipywidgets as widgets\n",
    "import io"
   ]
  },
  {
   "cell_type": "code",
   "execution_count": 2,
   "id": "5bff57df",
   "metadata": {},
   "outputs": [],
   "source": [
    "fn = \"EsempioTimeSeries.xlsx\""
   ]
  },
  {
   "cell_type": "code",
   "execution_count": 3,
   "id": "4634608a",
   "metadata": {},
   "outputs": [
    {
     "name": "stderr",
     "output_type": "stream",
     "text": [
      "/home/stfz/.local/lib/python3.8/site-packages/openpyxl/worksheet/_reader.py:312: UserWarning: Data Validation extension is not supported and will be removed\n",
      "  warn(msg)\n"
     ]
    }
   ],
   "source": [
    "df1 = pd.read_excel(fn,0)\n",
    "df2 = pd.read_excel(fn,1)\n",
    "\n",
    "df1 = df1.drop(['Unnamed: 6', 'Unnamed: 7'], axis=1)\n",
    "df1.columns = [\"Cognome\", \"Nome\", \"utente\", \"ComuneProvenienza\", \"DataInizio\",\"DataFine\"]\n",
    "df2.columns = [\"Cognome\", \"Nome\", \"utente\", \"ComuneProvenienza\", \"DataInizio\",\"DataFine\",\"delibera666\", \"delibera543\",\"delibera733\",\"Entrate\"]\n"
   ]
  },
  {
   "cell_type": "code",
   "execution_count": 18,
   "id": "c28713d0",
   "metadata": {},
   "outputs": [],
   "source": [
    "df =  {}\n",
    "type(df)\n",
    "df[\"sheet0\"] = None\n",
    "df[\"sheet1\"] = None"
   ]
  },
  {
   "cell_type": "code",
   "execution_count": 5,
   "id": "2f21a70c",
   "metadata": {},
   "outputs": [],
   "source": [
    "microstruttura = df1.iloc[1]\n",
    "microstruttura = microstruttura[1]\n",
    "\n",
    "ente = df1.iloc[2]\n",
    "ente = ente[1]\n",
    "df1.insert(0, \"Microstruttura\", microstruttura)\n",
    "df1.insert(0, \"Ente\", ente)\n",
    "df1 = df1.drop(labels=range(0, 6), axis=0)\n",
    "validi = df1[\"Cognome\"].notna()\n",
    "df1 = df1[validi]\n",
    "\n",
    "microstruttura = df2.iloc[1]\n",
    "microstruttura = microstruttura[1]\n",
    "ente = df2.iloc[2]\n",
    "ente = ente[1]\n",
    "df2.insert(0, \"Microstruttura\", microstruttura)\n",
    "df2.insert(0, \"Ente\", ente)\n",
    "df2 = df2.drop(labels=range(0, 6), axis=0)\n",
    "validi = df2[\"Cognome\"].notna()\n",
    "df2 = df2[validi]"
   ]
  },
  {
   "cell_type": "code",
   "execution_count": 6,
   "id": "a391f5de",
   "metadata": {},
   "outputs": [],
   "source": [
    "df1[\"DataInizio\"] = df1[\"DataInizio\"].astype(\"datetime64[ns]\")\n",
    "df1[\"DataFine\"] = df1[\"DataFine\"].astype(\"datetime64[ns]\")"
   ]
  },
  {
   "cell_type": "code",
   "execution_count": 7,
   "id": "7bbd726c",
   "metadata": {},
   "outputs": [],
   "source": [
    "condition1 = pd.to_datetime(df2['DataFine'], errors='coerce').isnull()\n",
    "condition2 = pd.to_datetime(df2['DataInizio'], errors='coerce').isnull()\n",
    "condition = condition1 | condition2"
   ]
  },
  {
   "cell_type": "code",
   "execution_count": 8,
   "id": "b421fd4a",
   "metadata": {},
   "outputs": [],
   "source": [
    "df2['errData'] = np.nan\n",
    "df2['errData'] = df2['errData'].astype(\"boolean\")\n"
   ]
  },
  {
   "cell_type": "code",
   "execution_count": 9,
   "id": "36beb1b6",
   "metadata": {},
   "outputs": [
    {
     "data": {
      "text/plain": [
       "6     2017\n",
       "7     2017\n",
       "8     2018\n",
       "9     2018\n",
       "10    2019\n",
       "Name: DataInizio, dtype: int64"
      ]
     },
     "execution_count": 9,
     "metadata": {},
     "output_type": "execute_result"
    }
   ],
   "source": [
    "df1[\"DataInizio\"].astype(\"datetime64[ns]\").dt.year"
   ]
  },
  {
   "cell_type": "code",
   "execution_count": 10,
   "id": "b0c0b0d7",
   "metadata": {},
   "outputs": [],
   "source": [
    "df2.loc[condition, \"errData\"] = True"
   ]
  },
  {
   "cell_type": "code",
   "execution_count": 11,
   "id": "d4610b79",
   "metadata": {},
   "outputs": [],
   "source": [
    "c = df2[\"errData\"] == True"
   ]
  },
  {
   "cell_type": "code",
   "execution_count": 12,
   "id": "25246f11",
   "metadata": {},
   "outputs": [
    {
     "data": {
      "text/html": [
       "<div>\n",
       "<style scoped>\n",
       "    .dataframe tbody tr th:only-of-type {\n",
       "        vertical-align: middle;\n",
       "    }\n",
       "\n",
       "    .dataframe tbody tr th {\n",
       "        vertical-align: top;\n",
       "    }\n",
       "\n",
       "    .dataframe thead th {\n",
       "        text-align: right;\n",
       "    }\n",
       "</style>\n",
       "<table border=\"1\" class=\"dataframe\">\n",
       "  <thead>\n",
       "    <tr style=\"text-align: right;\">\n",
       "      <th></th>\n",
       "      <th>Ente</th>\n",
       "      <th>Microstruttura</th>\n",
       "      <th>Cognome</th>\n",
       "      <th>Nome</th>\n",
       "      <th>utente</th>\n",
       "      <th>ComuneProvenienza</th>\n",
       "      <th>DataInizio</th>\n",
       "      <th>DataFine</th>\n",
       "      <th>delibera666</th>\n",
       "      <th>delibera543</th>\n",
       "      <th>delibera733</th>\n",
       "      <th>Entrate</th>\n",
       "      <th>errData</th>\n",
       "    </tr>\n",
       "  </thead>\n",
       "  <tbody>\n",
       "  </tbody>\n",
       "</table>\n",
       "</div>"
      ],
      "text/plain": [
       "Empty DataFrame\n",
       "Columns: [Ente, Microstruttura, Cognome, Nome, utente, ComuneProvenienza, DataInizio, DataFine, delibera666, delibera543, delibera733, Entrate, errData]\n",
       "Index: []"
      ]
     },
     "execution_count": 12,
     "metadata": {},
     "output_type": "execute_result"
    }
   ],
   "source": [
    "df2[c]"
   ]
  },
  {
   "cell_type": "code",
   "execution_count": 13,
   "id": "2980f243",
   "metadata": {},
   "outputs": [],
   "source": [
    "df2[\"DataInizio\"] = df2[\"DataInizio\"].astype(\"datetime64[ns]\")\n",
    "df2[\"DataFine\"] = df2[\"DataFine\"].astype(\"datetime64[ns]\")  "
   ]
  },
  {
   "cell_type": "code",
   "execution_count": 20,
   "id": "ff0afa67",
   "metadata": {},
   "outputs": [],
   "source": [
    "df[\"sheet0\"] = df1\n",
    "df[\"sheet1\"] = df2"
   ]
  },
  {
   "cell_type": "code",
   "execution_count": null,
   "id": "5eedd02b",
   "metadata": {},
   "outputs": [],
   "source": []
  }
 ],
 "metadata": {
  "kernelspec": {
   "display_name": "Python 3 (ipykernel)",
   "language": "python",
   "name": "python3"
  },
  "language_info": {
   "codemirror_mode": {
    "name": "ipython",
    "version": 3
   },
   "file_extension": ".py",
   "mimetype": "text/x-python",
   "name": "python",
   "nbconvert_exporter": "python",
   "pygments_lexer": "ipython3",
   "version": "3.8.10"
  },
  "toc-autonumbering": true,
  "toc-showcode": true
 },
 "nbformat": 4,
 "nbformat_minor": 5
}
