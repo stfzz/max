{
 "cells": [
  {
   "cell_type": "code",
   "execution_count": 1,
   "id": "8bc96245",
   "metadata": {},
   "outputs": [],
   "source": [
    "import pandas as pd\n",
    "import numpy as np\n",
    "import datetime as dt\n",
    "from collections import Counter\n",
    "import ipywidgets as widgets\n",
    "import io"
   ]
  },
  {
   "cell_type": "code",
   "execution_count": 2,
   "id": "af5ff0f5",
   "metadata": {},
   "outputs": [],
   "source": [
    "fn = \"prospetto rendicontazione via combattenti 2019.xlsx\""
   ]
  },
  {
   "cell_type": "code",
   "execution_count": 17,
   "id": "f61f44eb",
   "metadata": {},
   "outputs": [
    {
     "name": "stderr",
     "output_type": "stream",
     "text": [
      "/home/stfz/.local/lib/python3.8/site-packages/openpyxl/worksheet/_reader.py:312: UserWarning: Data Validation extension is not supported and will be removed\n",
      "  warn(msg)\n"
     ]
    }
   ],
   "source": [
    "df = pd.read_excel(fn,sheet_name=None)"
   ]
  },
  {
   "cell_type": "code",
   "execution_count": 18,
   "id": "a9508803",
   "metadata": {},
   "outputs": [
    {
     "data": {
      "text/plain": [
       "{'elenco utenti precedenti':    Verifica del rispetto del contingente di cui all'articolo 7 della Deliberazione della Giunta Provinciale n. 1054/2017 \\nai fini del riconoscimento del contributo provinciale 2020 per il servizio di microstruttura ai Comuni (articolo 3, comma 3, della Deliberazione della Giunta Provinciale Nr. 666/2019)  \\\n",
       " 0                                                 NaN                                                                                                                                                                                                                                                                \n",
       " 1                                      Microstruttura                                                                                                                                                                                                                                                                \n",
       " 2                                        Ente gestore                                                                                                                                                                                                                                                                \n",
       " 3                                                 NaN                                                                                                                                                                                                                                                                \n",
       " 4                                             bambini                                                                                                                                                                                                                                                                \n",
       " 5                                             cognome                                                                                                                                                                                                                                                                \n",
       " 6                                               Borgo                                                                                                                                                                                                                                                                \n",
       " 7                                               Amato                                                                                                                                                                                                                                                                \n",
       " 8                                              Gulino                                                                                                                                                                                                                                                                \n",
       " 9                                              Furlan                                                                                                                                                                                                                                                                \n",
       " 10                                         GUIBERTEAu                                                                                                                                                                                                                                                                \n",
       " 11                                         FRASSANITO                                                                                                                                                                                                                                                                \n",
       " 12                                   SCAFURO GIOVANNI                                                                                                                                                                                                                                                                \n",
       " 13                                  PIETROBON FILIPPO                                                                                                                                                                                                                                                                \n",
       " \n",
       "                                            Unnamed: 1  \\\n",
       " 0                                                 NaN   \n",
       " 1   Bolzano, Via Combattenti, 4, Coccinella (azien...   \n",
       " 2                      Cooperativa sociale Coccinella   \n",
       " 3                                                 NaN   \n",
       " 4                                                 NaN   \n",
       " 5                                                nome   \n",
       " 6                                               Alice   \n",
       " 7                                             Michele   \n",
       " 8                                               Alexa   \n",
       " 9                                                 Leo   \n",
       " 10                                               Gael   \n",
       " 11                                               Alex   \n",
       " 12                                           Giovanni   \n",
       " 13                                                NaN   \n",
       " \n",
       "                      Unnamed: 2  \\\n",
       " 0                           NaN   \n",
       " 1                           NaN   \n",
       " 2                           NaN   \n",
       " 3                           NaN   \n",
       " 4   utente aziendale o comunale   \n",
       " 5                           NaN   \n",
       " 6                      comunale   \n",
       " 7                      comunale   \n",
       " 8                      comunale   \n",
       " 9                      comunale   \n",
       " 10                    aziendale   \n",
       " 11                     comunale   \n",
       " 12                     comunale   \n",
       " 13                    aziendale   \n",
       " \n",
       "                                            Unnamed: 3  \\\n",
       " 0                                                 NaN   \n",
       " 1                                                 NaN   \n",
       " 2                                                 NaN   \n",
       " 3                                                 NaN   \n",
       " 4   Se utente comunale, indicare il Comune di prov...   \n",
       " 5                                                 NaN   \n",
       " 6                                     Bozen / Bolzano   \n",
       " 7                                     Bozen / Bolzano   \n",
       " 8                                     Bozen / Bolzano   \n",
       " 9                                     Bozen / Bolzano   \n",
       " 10                                                NaN   \n",
       " 11                                    Bozen / Bolzano   \n",
       " 12                                    Bozen / Bolzano   \n",
       " 13                                                NaN   \n",
       " \n",
       "                             Unnamed: 4                        Unnamed: 5  \\\n",
       " 0                                  NaN                               NaN   \n",
       " 1                                  NaN                               NaN   \n",
       " 2                                  NaN                               NaN   \n",
       " 3                                  NaN                               NaN   \n",
       " 4   Data inizio assistenza\\nxx.xx.xxxx  Data fine assistenza\\nxx.xx.xxxx   \n",
       " 5                                  NaN                               NaN   \n",
       " 6                  2016-09-05 00:00:00               2019-08-31 00:00:00   \n",
       " 7                  2016-10-10 00:00:00               2019-06-30 00:00:00   \n",
       " 8                  2016-11-07 00:00:00               2019-09-02 00:00:00   \n",
       " 9                  2017-03-13 00:00:00               2019-09-01 00:00:00   \n",
       " 10                 2017-04-03 00:00:00               2020-08-31 00:00:00   \n",
       " 11                 2017-04-18 00:00:00               2019-08-31 00:00:00   \n",
       " 12                 2017-08-27 00:00:00               2019-08-31 00:00:00   \n",
       " 13                 2017-11-20 00:00:00               2020-08-31 00:00:00   \n",
       " \n",
       "     Unnamed: 6                                         Unnamed: 7  \n",
       " 0          NaN                                                NaN  \n",
       " 1          NaN  Al fine di poter verificare i bambini frequent...  \n",
       " 2          NaN                                                NaN  \n",
       " 3          NaN                                                NaN  \n",
       " 4          NaN                                                NaN  \n",
       " 5          NaN                                                NaN  \n",
       " 6          NaN                                                NaN  \n",
       " 7          NaN                                                NaN  \n",
       " 8          NaN                                                NaN  \n",
       " 9          NaN                                                NaN  \n",
       " 10         NaN                                                NaN  \n",
       " 11         NaN                                                NaN  \n",
       " 12         NaN                                                NaN  \n",
       " 13         NaN                                                NaN  ,\n",
       " 'elenco utenti 2019':    Verifica del rispetto del contingente di cui all'articolo 7 della Deliberazione della Giunta Provinciale n. 1054/2017 \\nai fini del riconoscimento del contributo provinciale 2020 per il servizio di microstruttura ai Comuni (articolo 3, comma 3, della Deliberazione della Giunta Provinciale Nr. 666/2019)  \\\n",
       " 0                                                 NaN                                                                                                                                                                                                                                                                \n",
       " 1                                      Microstruttura                                                                                                                                                                                                                                                                \n",
       " 2                                        Ente gestore                                                                                                                                                                                                                                                                \n",
       " 3                                                 NaN                                                                                                                                                                                                                                                                \n",
       " 4                                             bambini                                                                                                                                                                                                                                                                \n",
       " ..                                                ...                                                                                                                                                                                                                                                                \n",
       " 65                                                NaN                                                                                                                                                                                                                                                                \n",
       " 66                                                NaN                                                                                                                                                                                                                                                                \n",
       " 67                                                NaN                                                                                                                                                                                                                                                                \n",
       " 68                                                NaN                                                                                                                                                                                                                                                                \n",
       " 69                                                NaN                                                                                                                                                                                                                                                                \n",
       " \n",
       "                                            Unnamed: 1  \\\n",
       " 0                                                 NaN   \n",
       " 1   Bolzano, Via Combattenti, 4, Coccinella (azien...   \n",
       " 2                      Cooperativa sociale Coccinella   \n",
       " 3                                                 NaN   \n",
       " 4                                                 NaN   \n",
       " ..                                                ...   \n",
       " 65                                                NaN   \n",
       " 66                                                NaN   \n",
       " 67                                                NaN   \n",
       " 68                                                NaN   \n",
       " 69                                                NaN   \n",
       " \n",
       "                      Unnamed: 2  \\\n",
       " 0                           NaN   \n",
       " 1                           NaN   \n",
       " 2                           NaN   \n",
       " 3                           NaN   \n",
       " 4   utente aziendale o comunale   \n",
       " ..                          ...   \n",
       " 65                          NaN   \n",
       " 66                          NaN   \n",
       " 67                          NaN   \n",
       " 68                          NaN   \n",
       " 69                          NaN   \n",
       " \n",
       "                                            Unnamed: 3  \\\n",
       " 0                                                 NaN   \n",
       " 1                                                 NaN   \n",
       " 2                                                 NaN   \n",
       " 3                                                 NaN   \n",
       " 4   Se utente comunale, indicare il Comune di prov...   \n",
       " ..                                                ...   \n",
       " 65                                                NaN   \n",
       " 66                                                NaN   \n",
       " 67                                                NaN   \n",
       " 68                                                NaN   \n",
       " 69                                                NaN   \n",
       " \n",
       "                             Unnamed: 4                        Unnamed: 5  \\\n",
       " 0                                  NaN                               NaN   \n",
       " 1                                  NaN                               NaN   \n",
       " 2                                  NaN                               NaN   \n",
       " 3                                  NaN                               NaN   \n",
       " 4   Data inizio assistenza\\nxx.xx.xxxx  Data fine assistenza\\nxx.xx.xxxx   \n",
       " ..                                 ...                               ...   \n",
       " 65                                 NaN                               NaN   \n",
       " 66                                 NaN                               NaN   \n",
       " 67                                 NaN                               NaN   \n",
       " 68                                 NaN                               NaN   \n",
       " 69                                 NaN                               NaN   \n",
       " \n",
       "                                            Unnamed: 6 Unnamed: 7 Unnamed: 8  \\\n",
       " 0                                                 NaN        NaN        NaN   \n",
       " 1                                                 NaN       2019        NaN   \n",
       " 2                                                 NaN        NaN        NaN   \n",
       " 3                                                 NaN        NaN        NaN   \n",
       " 4   Se utente comunale, indicare le ore rendiconta...        NaN        NaN   \n",
       " ..                                                ...        ...        ...   \n",
       " 65                                                NaN        NaN        NaN   \n",
       " 66                                                NaN        NaN        NaN   \n",
       " 67                                                NaN        NaN        NaN   \n",
       " 68                                                NaN        NaN        NaN   \n",
       " 69                                                NaN        NaN          0   \n",
       " \n",
       "                                            Unnamed: 9  \n",
       " 0                                                 NaN  \n",
       " 1                                                 NaN  \n",
       " 2                                                 NaN  \n",
       " 3                                                 NaN  \n",
       " 4   Entrate da compartecipazione tariffaria relati...  \n",
       " ..                                                ...  \n",
       " 65                                                NaN  \n",
       " 66                                                NaN  \n",
       " 67                                                NaN  \n",
       " 68                                                NaN  \n",
       " 69                                           12829.06  \n",
       " \n",
       " [70 rows x 10 columns],\n",
       " 'art kita':   aziendale\n",
       " 0  comunale,\n",
       " 'LK_Kita':     KITA_COM_CODE   KITA_COM_DESC_I KITA_COM_DESC_D ENTE_CODE  \\\n",
       " 0               4  Appiano s.s.d.v.           Eppan  COOP_009   \n",
       " 1               4  Appiano s.s.d.v.           Eppan  COOP_013   \n",
       " 2               4  Appiano s.s.d.v.           Eppan  COOP_013   \n",
       " 3               8           Bolzano           Bozen  COOP_002   \n",
       " 4               8           Bolzano           Bozen  COOP_009   \n",
       " 5               8           Bolzano           Bozen  COOP_014   \n",
       " 6               8           Bolzano           Bozen  COOP_002   \n",
       " 7               8           Bolzano           Bozen  COOP_001   \n",
       " 8               8           Bolzano           Bozen  COOP_005   \n",
       " 9               8           Bolzano           Bozen  COOP_001   \n",
       " 10              8           Bolzano           Bozen  COOP_004   \n",
       " 11              8           Bolzano           Bozen  COOP_001   \n",
       " 12              8           Bolzano           Bozen  COOP_004   \n",
       " 13             13           Brunico         Bruneck  COOP_007   \n",
       " 14             51            Merano           Meran  COOP_001   \n",
       " 15             66            Postal       Burgstall  COOP_004   \n",
       " 16             72             Renon          Ritten  COOP_002   \n",
       " \n",
       "               KITA_ENTE_DESC_I            KITA_ENTE_DESC_D  \\\n",
       " 0                       Xenia                       Xenia    \n",
       " 1                     Paideias                    Paideias   \n",
       " 2                     Paideias                    Paideias   \n",
       " 3                   Coccinella                  Coccinella   \n",
       " 4                       Xenia                       Xenia    \n",
       " 5                   Montessori                  Montessori   \n",
       " 6                   Coccinella                  Coccinella   \n",
       " 7                   Casa Bimbo                  Casa Bimbo   \n",
       " 8                  Primi Passi                 Primi Passi   \n",
       " 9                   Casa Bimbo                  Casa Bimbo   \n",
       " 10                 Tagesmütter                 Tagesmütter   \n",
       " 11                  Casa Bimbo                  Casa Bimbo   \n",
       " 12                 Tagesmütter                 Tagesmütter   \n",
       " 13  Die Kinderfreunde Südtirol  Die Kinderfreunde Südtirol   \n",
       " 14                  Casa Bimbo                  Casa Bimbo   \n",
       " 15                 Tagesmütter                 Tagesmütter   \n",
       " 16                  Coccinella                  Coccinella   \n",
       " \n",
       "                  KITA_INDIRIZZO_I                KITA_INDIRIZZO_D  \\\n",
       " 0               Via Artigiani, 10            Handwerkerstraße, 10   \n",
       " 1       Via Sill, 3 (Villa Panda)        Sillweg, 3 (Villa Panda)   \n",
       " 2       Via Sill, 3 (Villa Zebra)        Sillweg, 3 (Villa Zebra)   \n",
       " 3    Lungo Talvera S. Quirino, 10       Quireiner Wassermauer, 10   \n",
       " 4                 Piazza Fiera, 1                   Messeplatz, 1   \n",
       " 5                  Via Cologna, 1                 Glaningerweg, 1   \n",
       " 6              Via Combattenti, 4           Frontkämpferstraße, 4   \n",
       " 7                  Via Crispi, 40                Crispistraße, 40   \n",
       " 8                Via Druso, 339/E             Drususstraße, 339/E   \n",
       " 9                Via Galilei, 2/B          G.-Galilei-Straße, 2/B   \n",
       " 10                Via Macello, 55           Schlachthofstraße, 55   \n",
       " 11   Via Volta, 11 (NOI TechPark)  Voltastraße, 11 (NOI TechPark)   \n",
       " 12    Via Waltraud Gebert Deeg, 4  Waltraud-Gebert-Deeg-Straße, 4   \n",
       " 13     Via Campi della Rienza, 21                Rienzfeldweg, 21   \n",
       " 14             Via Marlengo, 61/F           Marlingerstraße, 61/F   \n",
       " 15                    Winkelau, 5                     Winkelau, 5   \n",
       " 16  Zona artigianale Collalbo, 12  Handwerkerzone Klobenstein, 12   \n",
       " \n",
       "    KITA_LOCALITA_I KITA_LOCALITA_D KITA_TYPE_I   KITA_TYPE_D  KITA_POSTI  \\\n",
       " 0       S. Michele     St. Michael   aziendale  betriebliche          17   \n",
       " 1       S. Michele     St. Michael   aziendale  betriebliche          16   \n",
       " 2       S. Michele     St. Michael   aziendale  betriebliche          16   \n",
       " 3              NaN             NaN   aziendale  betriebliche          13   \n",
       " 4              NaN             NaN   aziendale  betriebliche          16   \n",
       " 5              NaN             NaN   aziendale  betriebliche          20   \n",
       " 6              NaN             NaN   aziendale  betriebliche          17   \n",
       " 7              NaN             NaN   aziendale  betriebliche          17   \n",
       " 8              NaN             NaN   aziendale  betriebliche          14   \n",
       " 9              NaN             NaN   aziendale  betriebliche          20   \n",
       " 10             NaN             NaN   aziendale  betriebliche          20   \n",
       " 11             NaN             NaN   aziendale  betriebliche          30   \n",
       " 12             NaN             NaN   aziendale  betriebliche          15   \n",
       " 13             NaN             NaN   aziendale  betriebliche          20   \n",
       " 14             NaN             NaN   aziendale  betriebliche          18   \n",
       " 15             NaN             NaN   aziendale  betriebliche          10   \n",
       " 16             NaN             NaN   aziendale  betriebliche          15   \n",
       " \n",
       "                                        KITA_FULL_NAME    KITA_CODE  \\\n",
       " 0   Appiano s.s.d.v. - S. Michele, Via Artigiani, ...  COOP_009_01   \n",
       " 1   Appiano s.s.d.v. - S. Michele, Via Sill, 3 (Vi...  COOP_013_01   \n",
       " 2   Appiano s.s.d.v. - S. Michele, Via Sill, 3 (Vi...  COOP_013_01   \n",
       " 3   Bolzano, Lungo Talvera S. Quirino, 10, Coccine...  COOP_002_02   \n",
       " 4        Bolzano, Piazza Fiera, 1, Xenia  (aziendale)  COOP_009_02   \n",
       " 5     Bolzano, Via Cologna, 1, Montessori (aziendale)  COOP_014_01   \n",
       " 6   Bolzano, Via Combattenti, 4, Coccinella (azien...  COOP_002_11   \n",
       " 7     Bolzano, Via Crispi, 40, Casa Bimbo (aziendale)  COOP_001_04   \n",
       " 8   Bolzano, Via Druso, 339/E, Primi Passi (aziend...  COOP_005_01   \n",
       " 9   Bolzano, Via Galilei, 2/B, Casa Bimbo (aziendale)  COOP_001_05   \n",
       " 10  Bolzano, Via Macello, 55, Tagesmütter (aziendale)  COOP_004_03   \n",
       " 11  Bolzano, Via Volta, 11 (NOI TechPark), Casa Bi...  COOP_001_25   \n",
       " 12  Bolzano, Via Waltraud Gebert Deeg, 4, Tagesmüt...  COOP_004_04   \n",
       " 13  Brunico, Via Campi della Rienza, 21, Die Kinde...  COOP_007_02   \n",
       " 14  Merano, Via Marlengo, 61/F, Casa Bimbo (aziend...  COOP_001_13   \n",
       " 15       Postal, Winkelau, 5, Tagesmütter (aziendale)  COOP_004_18   \n",
       " 16  Renon, Zona artigianale Collalbo, 12, Coccinel...  COOP_002_16   \n",
       " \n",
       "                                      KITA_FULL_NAME_I  \\\n",
       " 0   Appiano s.s.d.v. - S. Michele, Via Artigiani, ...   \n",
       " 1   Appiano s.s.d.v. - S. Michele, Via Sill, 3 (Vi...   \n",
       " 2   Appiano s.s.d.v. - S. Michele, Via Sill, 3 (Vi...   \n",
       " 3   Bolzano, Lungo Talvera S. Quirino, 10, Coccine...   \n",
       " 4        Bolzano, Piazza Fiera, 1, Xenia  (aziendale)   \n",
       " 5     Bolzano, Via Cologna, 1, Montessori (aziendale)   \n",
       " 6   Bolzano, Via Combattenti, 4, Coccinella (azien...   \n",
       " 7     Bolzano, Via Crispi, 40, Casa Bimbo (aziendale)   \n",
       " 8   Bolzano, Via Druso, 339/E, Primi Passi (aziend...   \n",
       " 9   Bolzano, Via Galilei, 2/B, Casa Bimbo (aziendale)   \n",
       " 10  Bolzano, Via Macello, 55, Tagesmütter (aziendale)   \n",
       " 11  Bolzano, Via Volta, 11 (NOI TechPark), Casa Bi...   \n",
       " 12  Bolzano, Via Waltraud Gebert Deeg, 4, Tagesmüt...   \n",
       " 13  Brunico, Via Campi della Rienza, 21, Die Kinde...   \n",
       " 14  Merano, Via Marlengo, 61/F, Casa Bimbo (aziend...   \n",
       " 15       Postal, Winkelau, 5, Tagesmütter (aziendale)   \n",
       " 16  Renon, Zona artigianale Collalbo, 12, Coccinel...   \n",
       " \n",
       "                                      KITA_FULL_NAME_D  KITA_FLAG_ACTIVE  \n",
       " 0   Eppan - St. Michael, Handwerkerstraße, 10, Xen...                 1  \n",
       " 1   Eppan - St. Michael, Sillweg, 3 (Villa Panda),...                 1  \n",
       " 2   Eppan - St. Michael, Sillweg, 3 (Villa Zebra),...                 1  \n",
       " 3   Bozen, Quireiner Wassermauer, 10, Coccinella (...                 1  \n",
       " 4         Bozen, Messeplatz, 1, Xenia  (betriebliche)                 1  \n",
       " 5   Bozen, Glaningerweg, 1, Montessori (betriebliche)                 1  \n",
       " 6   Bozen, Frontkämpferstraße, 4, Coccinella (betr...                 1  \n",
       " 7   Bozen, Crispistraße, 40, Casa Bimbo (betriebli...                 1  \n",
       " 8   Bozen, Drususstraße, 339/E, Primi Passi (betri...                 1  \n",
       " 9   Bozen, G.-Galilei-Straße, 2/B, Casa Bimbo (bet...                 1  \n",
       " 10  Bozen, Schlachthofstraße, 55, Tagesmütter (bet...                 1  \n",
       " 11  Bozen, Voltastraße, 11 (NOI TechPark), Casa Bi...                 1  \n",
       " 12  Bozen, Waltraud-Gebert-Deeg-Straße, 4, Tagesmü...                 1  \n",
       " 13  Bruneck, Rienzfeldweg, 21, Die Kinderfreunde S...                 1  \n",
       " 14  Meran, Marlingerstraße, 61/F, Casa Bimbo (betr...                 1  \n",
       " 15  Burgstall, Winkelau, 5, Tagesmütter (betriebli...                 1  \n",
       " 16  Ritten, Handwerkerzone Klobenstein, 12, Coccin...                 1  ,\n",
       " 'LK_Comuni':                             Com_Desc COM_CODE                   Com_Desc_D  \\\n",
       " 0                             Aldino      001                       Aldein   \n",
       " 1                           Andriano      002                      Andrian   \n",
       " 2                           Anterivo      003                       Altrei   \n",
       " 3                   Appiano s.s.d.v.      004          Eppan a.d. Weinstr.   \n",
       " 4                           Avelengo      005                      Hafling   \n",
       " ..                               ...      ...                          ...   \n",
       " 112                           Verano      112                        Vöran   \n",
       " 113                       Villabassa      113                   Niederdorf   \n",
       " 114                        Villandro      114                   Villanders   \n",
       " 115                         Vipiteno      115                     Sterzing   \n",
       " 116  Comunità comprensoriale Wipptal     CP_1  Bezirksgemeinschaft Wipptal   \n",
       " \n",
       "                           Com_Desc_I                            COM_DESC_BIL  \n",
       " 0                             Aldino                         Aldein / Aldino  \n",
       " 1                           Andriano                      Andrian / Andriano  \n",
       " 2                           Anterivo                       Altrei / Anterivo  \n",
       " 3                   Appiano s.s.d.v.  Eppan a.d. Weinstr. / Appiano s.s.d.v.  \n",
       " 4                           Avelengo                      Hafling / Avelengo  \n",
       " ..                               ...                                     ...  \n",
       " 112                           Verano                          Vöran / Verano  \n",
       " 113                       Villabassa                 Niederdorf / Villabassa  \n",
       " 114                        Villandro                  Villanders / Villandro  \n",
       " 115                         Vipiteno                     Sterzing / Vipiteno  \n",
       " 116  Comunità comprensoriale Wipptal                                     NaN  \n",
       " \n",
       " [117 rows x 5 columns],\n",
       " 'LK_Gestori':    ENTE_CODE                                  KITA_ENTE_DESC_I  \\\n",
       " 0   COOP_012                         Cooperativa Sociale Babel   \n",
       " 1   COOP_006                      Cooperativa Sociale Babycoop   \n",
       " 2   COOP_001                    Cooperativa sociale Casa Bimbo   \n",
       " 3   COOP_002                    Cooperativa sociale Coccinella   \n",
       " 4   COOP_015             Cooperativa sociale della Val Venosta   \n",
       " 5   COOP_007  Cooperativa sociale \"Die Kinderfreunde Südtirol\"   \n",
       " 6   COOP_014               Cooperativa sociale montessori.coop   \n",
       " 7   COOP_013                      Cooperativa Sociale Paideias   \n",
       " 8   COOP_008                        Cooperativa Sociale Popele   \n",
       " 9   COOP_005                   Cooperativa Sociale Primi Passi   \n",
       " 10  COOP_011                         Fondazione S. Elisabetta    \n",
       " 11  COOP_004                   Cooperativa Sociale Tagesmütter   \n",
       " 12  COOP_016                   Cooperativa Sociale Vinzenzheim   \n",
       " 13  COOP_009                        Cooperativa Sociale Xenia    \n",
       " 14       NaN                                               NaN   \n",
       " 15       NaN                                               NaN   \n",
       " 16       NaN                                               NaN   \n",
       " 17         x                                               NaN   \n",
       " \n",
       "                   KITA_ENTE_DESC_D  \n",
       " 0                            Babel  \n",
       " 1                         Babycoop  \n",
       " 2                       Casa Bimbo  \n",
       " 3                       Coccinella  \n",
       " 4   Vinschger Sozialgenossenschaft  \n",
       " 5       Die Kinderfreunde Südtirol  \n",
       " 6                       Montessori  \n",
       " 7                         Paideias  \n",
       " 8                           Popele  \n",
       " 9                      Primi Passi  \n",
       " 10                  St. Elisabeth   \n",
       " 11                     Tagesmütter  \n",
       " 12                     Vinzenzheim  \n",
       " 13                          Xenia   \n",
       " 14                             NaN  \n",
       " 15                             NaN  \n",
       " 16                             NaN  \n",
       " 17                             NaN  }"
      ]
     },
     "execution_count": 18,
     "metadata": {},
     "output_type": "execute_result"
    }
   ],
   "source": [
    "df"
   ]
  },
  {
   "cell_type": "code",
   "execution_count": 23,
   "id": "0568aa64",
   "metadata": {},
   "outputs": [
    {
     "data": {
      "text/plain": [
       "dict_keys(['elenco utenti precedenti', 'elenco utenti 2019', 'art kita', 'LK_Kita', 'LK_Comuni', 'LK_Gestori'])"
      ]
     },
     "execution_count": 23,
     "metadata": {},
     "output_type": "execute_result"
    }
   ],
   "source": [
    "df.keys()"
   ]
  },
  {
   "cell_type": "code",
   "execution_count": 26,
   "id": "7bb351f5",
   "metadata": {},
   "outputs": [],
   "source": [
    "df['elenco utenti precedenti']['Unnamed: 1'] = '11'"
   ]
  },
  {
   "cell_type": "code",
   "execution_count": 27,
   "id": "692f4d1e",
   "metadata": {},
   "outputs": [
    {
     "data": {
      "text/plain": [
       "0     11\n",
       "1     11\n",
       "2     11\n",
       "3     11\n",
       "4     11\n",
       "5     11\n",
       "6     11\n",
       "7     11\n",
       "8     11\n",
       "9     11\n",
       "10    11\n",
       "11    11\n",
       "12    11\n",
       "13    11\n",
       "Name: Unnamed: 1, dtype: object"
      ]
     },
     "execution_count": 27,
     "metadata": {},
     "output_type": "execute_result"
    }
   ],
   "source": [
    "df['elenco utenti precedenti']['Unnamed: 1']"
   ]
  },
  {
   "cell_type": "code",
   "execution_count": 29,
   "id": "69e56f20",
   "metadata": {},
   "outputs": [
    {
     "name": "stdout",
     "output_type": "stream",
     "text": [
      "0\n",
      "1\n"
     ]
    }
   ],
   "source": [
    "for a in (0,1):\n",
    "    print(a)"
   ]
  },
  {
   "cell_type": "code",
   "execution_count": 30,
   "id": "3f7caa65",
   "metadata": {},
   "outputs": [],
   "source": [
    "d = {}"
   ]
  },
  {
   "cell_type": "code",
   "execution_count": 31,
   "id": "936ed962",
   "metadata": {},
   "outputs": [],
   "source": [
    "d['sheet0'] = 'null'\n",
    "d['sheet1'] = 'eins'"
   ]
  },
  {
   "cell_type": "code",
   "execution_count": 44,
   "id": "5ebea7df",
   "metadata": {},
   "outputs": [
    {
     "ename": "NameError",
     "evalue": "name 'df1' is not defined",
     "output_type": "error",
     "traceback": [
      "\u001b[0;31m---------------------------------------------------------------------------\u001b[0m",
      "\u001b[0;31mNameError\u001b[0m                                 Traceback (most recent call last)",
      "Input \u001b[0;32mIn [44]\u001b[0m, in \u001b[0;36m<module>\u001b[0;34m\u001b[0m\n\u001b[0;32m----> 1\u001b[0m d[\u001b[38;5;124m'\u001b[39m\u001b[38;5;124msheet0\u001b[39m\u001b[38;5;124m'\u001b[39m] \u001b[38;5;241m=\u001b[39m \u001b[43mdf1\u001b[49m\n",
      "\u001b[0;31mNameError\u001b[0m: name 'df1' is not defined"
     ]
    }
   ],
   "source": [
    "d['sheet0'] = df1"
   ]
  },
  {
   "cell_type": "code",
   "execution_count": 42,
   "id": "4cd93dea",
   "metadata": {},
   "outputs": [
    {
     "name": "stdout",
     "output_type": "stream",
     "text": [
      "null\n",
      "eins\n"
     ]
    }
   ],
   "source": [
    "for a in (0,1):\n",
    "    print(d['sheet'+str(a)])"
   ]
  },
  {
   "cell_type": "code",
   "execution_count": 39,
   "id": "d569d74d",
   "metadata": {},
   "outputs": [
    {
     "name": "stdout",
     "output_type": "stream",
     "text": [
      "sheet0\n",
      "sheet1\n"
     ]
    }
   ],
   "source": [
    "for k in d:\n",
    "    print(k)"
   ]
  },
  {
   "cell_type": "code",
   "execution_count": 45,
   "id": "698a1218",
   "metadata": {},
   "outputs": [],
   "source": [
    "COSTANTI ={}\n",
    "costanti_2020 = {\"datainiziomin\": \"01.01.2017\", \"datainiziomax\": \"31.12.2020\", \"datafine\":\"31.12.2023\"}\n",
    "COSTANTI = {\"2020\": costanti_2020}"
   ]
  },
  {
   "cell_type": "code",
   "execution_count": 46,
   "id": "403d3192",
   "metadata": {},
   "outputs": [
    {
     "data": {
      "text/plain": [
       "{'2020': {'datainiziomin': '01.01.2017',\n",
       "  'datainiziomax': '31.12.2020',\n",
       "  'datafine': '31.12.2023'}}"
      ]
     },
     "execution_count": 46,
     "metadata": {},
     "output_type": "execute_result"
    }
   ],
   "source": [
    "COSTANTI"
   ]
  },
  {
   "cell_type": "code",
   "execution_count": 47,
   "id": "8d951411",
   "metadata": {},
   "outputs": [
    {
     "data": {
      "text/plain": [
       "'01.01.2017'"
      ]
     },
     "execution_count": 47,
     "metadata": {},
     "output_type": "execute_result"
    }
   ],
   "source": [
    "COSTANTI[\"2020\"][\"datainiziomin\"]"
   ]
  },
  {
   "cell_type": "code",
   "execution_count": null,
   "id": "78c22bde",
   "metadata": {},
   "outputs": [],
   "source": []
  }
 ],
 "metadata": {
  "kernelspec": {
   "display_name": "Python 3 (ipykernel)",
   "language": "python",
   "name": "python3"
  },
  "language_info": {
   "codemirror_mode": {
    "name": "ipython",
    "version": 3
   },
   "file_extension": ".py",
   "mimetype": "text/x-python",
   "name": "python",
   "nbconvert_exporter": "python",
   "pygments_lexer": "ipython3",
   "version": "3.8.10"
  }
 },
 "nbformat": 4,
 "nbformat_minor": 5
}
